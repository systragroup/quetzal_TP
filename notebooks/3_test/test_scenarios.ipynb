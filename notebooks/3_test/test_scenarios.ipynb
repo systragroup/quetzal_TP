{
 "cells": [
  {
   "cell_type": "code",
   "execution_count": 1,
   "id": "06185c6a",
   "metadata": {},
   "outputs": [],
   "source": [
    "import os\n",
    "import sys\n",
    "sys.path.insert(0, r'../../../quetzal')\n",
    "from quetzal.os.parallel_call import parallel_call_notebook\n",
    "import itertools\n",
    "import pandas as pd\n",
    "import geopandas as gpd\n",
    "if not os.path.exists('log/'):\n",
    "    os.makedirs('log/')"
   ]
  },
  {
   "cell_type": "code",
   "execution_count": 2,
   "id": "11a48132",
   "metadata": {},
   "outputs": [],
   "source": [
    "kwargs = {'workers':6, 'errout_suffix':True, 'sleep':1,'stdout_path':r'log/out.txt', 'stderr_path':r'log/err.txt'}\n"
   ]
  },
  {
   "cell_type": "code",
   "execution_count": 3,
   "id": "98537214",
   "metadata": {},
   "outputs": [],
   "source": [
    "catchment_radius={'bus':'500','subway':'800','rail':'1000'}\n",
    "footpaths = {'max_length':'1000', 'speed':'2.8','n_ntlegs':'2'}\n",
    "params = {'catchment_radius':catchment_radius,'footpaths':footpaths}\n",
    "scenarios=['montreal', 'montreal_2', 'montreal_3', 'jakarta', 'auckland', 'vancouver']"
   ]
  },
  {
   "cell_type": "markdown",
   "id": "ec1b7ad4",
   "metadata": {},
   "source": [
    "montreal: pt, road and population <br>\n",
    "montreal_2: pt and population <br>\n",
    "montreal_3: only pt"
   ]
  },
  {
   "cell_type": "code",
   "execution_count": 4,
   "id": "77c1ce5f",
   "metadata": {},
   "outputs": [],
   "source": [
    "arg_list = []\n",
    "for scen in scenarios:\n",
    "    path = f'../../scenarios/{scen}'.format(scen=scen)\n",
    "    arg = str({'training_folder': path, 'params':params}).replace(\"'\",'\"')\n",
    "    arg_list.append(arg)"
   ]
  },
  {
   "cell_type": "markdown",
   "id": "03bae0c7",
   "metadata": {},
   "source": [
    "delete all outputs"
   ]
  },
  {
   "cell_type": "code",
   "execution_count": 5,
   "id": "91c38379",
   "metadata": {},
   "outputs": [],
   "source": [
    "for scen in scenarios:\n",
    "    path = f'../../scenarios/{scen}/outputs/'.format(scen=scen)\n",
    "    files = os.listdir(path)\n",
    "    for file in files:\n",
    "        os.remove(path+file)"
   ]
  },
  {
   "cell_type": "code",
   "execution_count": 6,
   "id": "6069197d",
   "metadata": {},
   "outputs": [
    {
     "name": "stderr",
     "output_type": "stream",
     "text": [
      "[NbConvertApp] Converting notebook ../2_model/main.ipynb to python\n",
      "[NbConvertApp] Writing 27353 bytes to ../2_model/main.py\n"
     ]
    },
    {
     "name": "stdout",
     "output_type": "stream",
     "text": [
      "0 main.py {\"training_folder\": \"../../scenarios/montreal\", \"params\": {\"catchment_radius\": {\"bus\": \"500\", \"subway\": \"800\", \"rail\": \"1000\"}, \"footpaths\": {\"max_length\": \"1000\", \"speed\": \"2.8\", \"n_ntlegs\": \"2\"}}}\n",
      "1 main.py {\"training_folder\": \"../../scenarios/montreal_2\", \"params\": {\"catchment_radius\": {\"bus\": \"500\", \"subway\": \"800\", \"rail\": \"1000\"}, \"footpaths\": {\"max_length\": \"1000\", \"speed\": \"2.8\", \"n_ntlegs\": \"2\"}}}\n",
      "2 main.py {\"training_folder\": \"../../scenarios/montreal_3\", \"params\": {\"catchment_radius\": {\"bus\": \"500\", \"subway\": \"800\", \"rail\": \"1000\"}, \"footpaths\": {\"max_length\": \"1000\", \"speed\": \"2.8\", \"n_ntlegs\": \"2\"}}}\n",
      "3 main.py {\"training_folder\": \"../../scenarios/jakarta\", \"params\": {\"catchment_radius\": {\"bus\": \"500\", \"subway\": \"800\", \"rail\": \"1000\"}, \"footpaths\": {\"max_length\": \"1000\", \"speed\": \"2.8\", \"n_ntlegs\": \"2\"}}}\n",
      "4 main.py {\"training_folder\": \"../../scenarios/auckland\", \"params\": {\"catchment_radius\": {\"bus\": \"500\", \"subway\": \"800\", \"rail\": \"1000\"}, \"footpaths\": {\"max_length\": \"1000\", \"speed\": \"2.8\", \"n_ntlegs\": \"2\"}}}\n",
      "5 main.py {\"training_folder\": \"../../scenarios/vancouver\", \"params\": {\"catchment_radius\": {\"bus\": \"500\", \"subway\": \"800\", \"rail\": \"1000\"}, \"footpaths\": {\"max_length\": \"1000\", \"speed\": \"2.8\", \"n_ntlegs\": \"2\"}}}\n",
      "203 seconds\n"
     ]
    }
   ],
   "source": [
    "parallel_call_notebook('../2_model/main.ipynb', arg_list=arg_list, **kwargs)"
   ]
  },
  {
   "cell_type": "code",
   "execution_count": 7,
   "id": "abdd8d81",
   "metadata": {},
   "outputs": [
    {
     "name": "stderr",
     "output_type": "stream",
     "text": [
      "[NbConvertApp] Converting notebook ../2_model/pathfinder.ipynb to python\n",
      "[NbConvertApp] Writing 8386 bytes to ../2_model/pathfinder.py\n"
     ]
    },
    {
     "name": "stdout",
     "output_type": "stream",
     "text": [
      "0 pathfinder.py {\"training_folder\": \"../../scenarios/montreal\", \"params\": {\"catchment_radius\": {\"bus\": \"500\", \"subway\": \"800\", \"rail\": \"1000\"}, \"footpaths\": {\"max_length\": \"1000\", \"speed\": \"2.8\", \"n_ntlegs\": \"2\"}}}\n",
      "1 pathfinder.py {\"training_folder\": \"../../scenarios/montreal_2\", \"params\": {\"catchment_radius\": {\"bus\": \"500\", \"subway\": \"800\", \"rail\": \"1000\"}, \"footpaths\": {\"max_length\": \"1000\", \"speed\": \"2.8\", \"n_ntlegs\": \"2\"}}}\n",
      "2 pathfinder.py {\"training_folder\": \"../../scenarios/montreal_3\", \"params\": {\"catchment_radius\": {\"bus\": \"500\", \"subway\": \"800\", \"rail\": \"1000\"}, \"footpaths\": {\"max_length\": \"1000\", \"speed\": \"2.8\", \"n_ntlegs\": \"2\"}}}\n",
      "3 pathfinder.py {\"training_folder\": \"../../scenarios/jakarta\", \"params\": {\"catchment_radius\": {\"bus\": \"500\", \"subway\": \"800\", \"rail\": \"1000\"}, \"footpaths\": {\"max_length\": \"1000\", \"speed\": \"2.8\", \"n_ntlegs\": \"2\"}}}\n",
      "4 pathfinder.py {\"training_folder\": \"../../scenarios/auckland\", \"params\": {\"catchment_radius\": {\"bus\": \"500\", \"subway\": \"800\", \"rail\": \"1000\"}, \"footpaths\": {\"max_length\": \"1000\", \"speed\": \"2.8\", \"n_ntlegs\": \"2\"}}}\n",
      "5 pathfinder.py {\"training_folder\": \"../../scenarios/vancouver\", \"params\": {\"catchment_radius\": {\"bus\": \"500\", \"subway\": \"800\", \"rail\": \"1000\"}, \"footpaths\": {\"max_length\": \"1000\", \"speed\": \"2.8\", \"n_ntlegs\": \"2\"}}}\n",
      "89 seconds\n"
     ]
    }
   ],
   "source": [
    "parallel_call_notebook('../2_model/pathfinder.ipynb', arg_list=arg_list, **kwargs)"
   ]
  },
  {
   "cell_type": "code",
   "execution_count": 8,
   "id": "668c1369",
   "metadata": {},
   "outputs": [],
   "source": [
    "expected_files = ['route_type_metrics.csv','population_mesh.geojson','route_id_metrics.csv','nodes.geojson']\n",
    "for scen in scenarios:\n",
    "    path = f'../../scenarios/{scen}/outputs/'.format(scen=scen)\n",
    "    files = os.listdir(path)\n",
    "    for file in expected_files:\n",
    "        assert file in files\n"
   ]
  },
  {
   "cell_type": "code",
   "execution_count": 9,
   "id": "1180329a",
   "metadata": {},
   "outputs": [],
   "source": [
    "# check there is no NaN in csv\n",
    "# if no population.geojson dont check catchment as it could be NaN (its ok)\n",
    "for scen in scenarios:\n",
    "    path = f'../../scenarios/{scen}/outputs/'.format(scen=scen)\n",
    "    test = pd.read_csv(path+'route_type_metrics.csv')\n",
    "    if 'population.geojson' not in os.listdir(f'../../scenarios/{scen}/inputs/'.format(scen=scen)):\n",
    "        test = test.drop(columns=['catchment'])\n",
    "    assert not test.isnull().any().any()\n"
   ]
  },
  {
   "cell_type": "code",
   "execution_count": 10,
   "id": "015babbe",
   "metadata": {},
   "outputs": [],
   "source": [
    "# check there is no NaN in csv\n",
    "# if no population.geojson dont check catchment as it could be NaN (its ok)\n",
    "for scen in scenarios:\n",
    "    path = f'../../scenarios/{scen}/outputs/'.format(scen=scen)\n",
    "    test = pd.read_csv(path+'route_id_metrics.csv')\n",
    "    if 'population.geojson' not in os.listdir(f'../../scenarios/{scen}/inputs/'.format(scen=scen)):\n",
    "        test = test.drop(columns=['catchment'])\n",
    "    assert not test.isnull().any().any()\n"
   ]
  },
  {
   "cell_type": "code",
   "execution_count": 30,
   "id": "27d57578",
   "metadata": {},
   "outputs": [
    {
     "name": "stdout",
     "output_type": "stream",
     "text": [
      "montreal\n",
      "montreal_2\n",
      "jakarta\n",
      "auckland\n"
     ]
    },
    {
     "ename": "AssertionError",
     "evalue": "",
     "output_type": "error",
     "traceback": [
      "\u001b[0;31m---------------------------------------------------------------------------\u001b[0m",
      "\u001b[0;31mAssertionError\u001b[0m                            Traceback (most recent call last)",
      "Cell \u001b[0;32mIn[30], line 9\u001b[0m\n\u001b[1;32m      7\u001b[0m od \u001b[38;5;241m=\u001b[39m gpd\u001b[38;5;241m.\u001b[39mread_file(inputs\u001b[38;5;241m+\u001b[39m\u001b[38;5;124m'\u001b[39m\u001b[38;5;124mod/od.geojson\u001b[39m\u001b[38;5;124m'\u001b[39m)\n\u001b[1;32m      8\u001b[0m test \u001b[38;5;241m=\u001b[39m gpd\u001b[38;5;241m.\u001b[39mread_file(outputs\u001b[38;5;241m+\u001b[39m\u001b[38;5;124m'\u001b[39m\u001b[38;5;124mod_route.geojson\u001b[39m\u001b[38;5;124m'\u001b[39m)\n\u001b[0;32m----> 9\u001b[0m \u001b[38;5;28;01massert\u001b[39;00m (\u001b[38;5;28mset\u001b[39m(test[\u001b[38;5;124m'\u001b[39m\u001b[38;5;124mod_name\u001b[39m\u001b[38;5;124m'\u001b[39m]\u001b[38;5;241m.\u001b[39munique()) \u001b[38;5;241m==\u001b[39m \u001b[38;5;28mset\u001b[39m(od[\u001b[38;5;124m'\u001b[39m\u001b[38;5;124mname\u001b[39m\u001b[38;5;124m'\u001b[39m]\u001b[38;5;241m.\u001b[39munique()) )\u001b[38;5;241m|\u001b[39m(  \u001b[38;5;28mset\u001b[39m(test[\u001b[38;5;124m'\u001b[39m\u001b[38;5;124mod_name\u001b[39m\u001b[38;5;124m'\u001b[39m]\u001b[38;5;241m.\u001b[39munique()) \u001b[38;5;241m==\u001b[39m \u001b[38;5;28mset\u001b[39m(od[\u001b[38;5;124m'\u001b[39m\u001b[38;5;124mindex\u001b[39m\u001b[38;5;124m'\u001b[39m]\u001b[38;5;241m.\u001b[39munique()))\n",
      "\u001b[0;31mAssertionError\u001b[0m: "
     ]
    }
   ],
   "source": [
    "# test that pathfinder produced od_route.geojson file if od are provided.\n",
    "for scen in scenarios:\n",
    "    outputs = f'../../scenarios/{scen}/outputs/'.format(scen=scen)\n",
    "    inputs = f'../../scenarios/{scen}/inputs/'.format(scen=scen)\n",
    "    if 'od' in os.listdir(inputs):\n",
    "        print(scen)\n",
    "        od = gpd.read_file(inputs+'od/od.geojson')\n",
    "        test = gpd.read_file(outputs+'od_route.geojson')\n",
    "        assert (set(test['od_name'].unique()) == set(od['name'].unique()) )|(  set(test['od_name'].unique()) == set(od['index'].unique()))\n"
   ]
  },
  {
   "cell_type": "code",
   "execution_count": null,
   "id": "0b78d4d0",
   "metadata": {},
   "outputs": [],
   "source": []
  },
  {
   "cell_type": "code",
   "execution_count": null,
   "id": "70ed8608",
   "metadata": {},
   "outputs": [],
   "source": []
  }
 ],
 "metadata": {
  "kernelspec": {
   "display_name": "quetzal_env",
   "language": "python",
   "name": "quetzal_env"
  },
  "language_info": {
   "codemirror_mode": {
    "name": "ipython",
    "version": 3
   },
   "file_extension": ".py",
   "mimetype": "text/x-python",
   "name": "python",
   "nbconvert_exporter": "python",
   "pygments_lexer": "ipython3",
   "version": "3.8.6"
  }
 },
 "nbformat": 4,
 "nbformat_minor": 5
}
