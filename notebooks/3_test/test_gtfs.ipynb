{
 "cells": [
  {
   "cell_type": "code",
   "execution_count": 6,
   "id": "06185c6a",
   "metadata": {},
   "outputs": [],
   "source": [
    "import os\n",
    "import sys\n",
    "sys.path.insert(0, r'../../../quetzal')\n",
    "from quetzal.os.parallel_call import parallel_call_notebook\n",
    "import itertools\n",
    "import pandas as pd\n",
    "if not os.path.exists('log/'):\n",
    "    os.makedirs('log/')"
   ]
  },
  {
   "cell_type": "code",
   "execution_count": 7,
   "id": "11a48132",
   "metadata": {},
   "outputs": [],
   "source": [
    "kwargs = {'workers':1, 'errout_suffix':True, 'sleep':1,'stdout_path':r'log/out.txt', 'stderr_path':r'log/err.txt'}"
   ]
  },
  {
   "cell_type": "code",
   "execution_count": 8,
   "id": "6f9e0c46",
   "metadata": {},
   "outputs": [
    {
     "data": {
      "text/plain": [
       "['vancouver.zip',\n",
       " 'toulouse.zip',\n",
       " 'brisbane.zip',\n",
       " 'gpso_new_gtfs.zip',\n",
       " 'gtfs-Al_Ula-Phase_3_-_2024_RATP_Dev_corrected.zip',\n",
       " 'london.zip',\n",
       " 'new_york.zip',\n",
       " 'stl.zip']"
      ]
     },
     "execution_count": 8,
     "metadata": {},
     "output_type": "execute_result"
    }
   ],
   "source": [
    "base_path = '../../gtfs/'\n",
    "os.listdir(base_path)\n",
    "gtfs_list = os.listdir(base_path)\n",
    "gtfs_list"
   ]
  },
  {
   "cell_type": "code",
   "execution_count": 9,
   "id": "05923051",
   "metadata": {},
   "outputs": [
    {
     "name": "stdout",
     "output_type": "stream",
     "text": [
      "vancouver.zip\n"
     ]
    },
    {
     "name": "stderr",
     "output_type": "stream",
     "text": [
      "[NbConvertApp] Converting notebook ../1_preparation/import_gtfs.ipynb to python\n",
      "[NbConvertApp] Writing 1249 bytes to ../1_preparation/import_gtfs.py\n"
     ]
    },
    {
     "name": "stdout",
     "output_type": "stream",
     "text": [
      "0 import_gtfs.py {\"training_folder\": \"../../scenarios/test\", \"params\": {\"gtfs\": \"../../gtfs/vancouver.zip\", \"selected_day\": 1, \"time_range\": [\"6:00:00\", \"8:59:00\"]}}\n",
      "77 seconds\n"
     ]
    },
    {
     "name": "stderr",
     "output_type": "stream",
     "text": [
      "[NbConvertApp] Converting notebook ../2_model/main.ipynb to python\n",
      "[NbConvertApp] Writing 27606 bytes to ../2_model/main.py\n"
     ]
    },
    {
     "name": "stdout",
     "output_type": "stream",
     "text": [
      "0 main.py {\"training_folder\": \"../../scenarios/test\", \"params\": {\"catchment_radius\": {\"bus\": \"500\", \"subway\": \"800\", \"rail\": \"1000\"}}}\n",
      "12 seconds\n",
      "toulouse.zip\n"
     ]
    },
    {
     "name": "stderr",
     "output_type": "stream",
     "text": [
      "[NbConvertApp] Converting notebook ../1_preparation/import_gtfs.ipynb to python\n",
      "[NbConvertApp] Writing 1249 bytes to ../1_preparation/import_gtfs.py\n"
     ]
    },
    {
     "name": "stdout",
     "output_type": "stream",
     "text": [
      "0 import_gtfs.py {\"training_folder\": \"../../scenarios/test\", \"params\": {\"gtfs\": \"../../gtfs/toulouse.zip\", \"selected_day\": 1, \"time_range\": [\"6:00:00\", \"8:59:00\"]}}\n",
      "43 seconds\n"
     ]
    },
    {
     "name": "stderr",
     "output_type": "stream",
     "text": [
      "[NbConvertApp] Converting notebook ../2_model/main.ipynb to python\n",
      "[NbConvertApp] Writing 27606 bytes to ../2_model/main.py\n"
     ]
    },
    {
     "name": "stdout",
     "output_type": "stream",
     "text": [
      "0 main.py {\"training_folder\": \"../../scenarios/test\", \"params\": {\"catchment_radius\": {\"bus\": \"500\", \"subway\": \"800\", \"rail\": \"1000\"}}}\n",
      "7 seconds\n",
      "brisbane.zip\n"
     ]
    },
    {
     "name": "stderr",
     "output_type": "stream",
     "text": [
      "[NbConvertApp] Converting notebook ../1_preparation/import_gtfs.ipynb to python\n",
      "[NbConvertApp] Writing 1249 bytes to ../1_preparation/import_gtfs.py\n"
     ]
    },
    {
     "name": "stdout",
     "output_type": "stream",
     "text": [
      "0 import_gtfs.py {\"training_folder\": \"../../scenarios/test\", \"params\": {\"gtfs\": \"../../gtfs/brisbane.zip\", \"selected_day\": 1, \"time_range\": [\"6:00:00\", \"8:59:00\"]}}\n",
      "6 seconds\n"
     ]
    },
    {
     "name": "stderr",
     "output_type": "stream",
     "text": [
      "[NbConvertApp] Converting notebook ../2_model/main.ipynb to python\n",
      "[NbConvertApp] Writing 27606 bytes to ../2_model/main.py\n"
     ]
    },
    {
     "name": "stdout",
     "output_type": "stream",
     "text": [
      "0 main.py {\"training_folder\": \"../../scenarios/test\", \"params\": {\"catchment_radius\": {\"bus\": \"500\", \"subway\": \"800\", \"rail\": \"1000\"}}}\n",
      "4 seconds\n"
     ]
    }
   ],
   "source": [
    "for gtfs in gtfs_list:\n",
    "    gtfs_file = base_path+gtfs\n",
    "    print(gtfs)\n",
    "\n",
    "    ##\n",
    "    # remove files\n",
    "    ##\n",
    "    try:\n",
    "        path = f'../../scenarios/test/inputs/pt/'\n",
    "        files = os.listdir(path)\n",
    "        for file in files:\n",
    "            os.remove(path+file)\n",
    "\n",
    "        path = f'../../scenarios/test/outputs/'\n",
    "        files = os.listdir(path)\n",
    "        for file in files:\n",
    "            os.remove(path+file)\n",
    "    except:\n",
    "        print('nothing to delete')\n",
    "\n",
    "\n",
    "    ##\n",
    "    # run codes\n",
    "    ##    \n",
    "\n",
    "    params = {'gtfs':gtfs_file,'selected_day':1, 'time_range' : ['6:00:00', '8:59:00']}\n",
    "    arg = str({'training_folder': '../../scenarios/test', 'params':params}).replace(\"'\",'\"')\n",
    "    parallel_call_notebook('../1_preparation/import_gtfs.ipynb', arg_list=[arg], **kwargs)\n",
    "\n",
    "    params = {'catchment_radius': {'bus': '500', 'subway': '800', 'rail': '1000'}}\n",
    "    arg = str({'training_folder': '../../scenarios/test', 'params':params}).replace(\"'\",'\"')\n",
    "    parallel_call_notebook('../2_model/main.ipynb', arg_list=[arg], **kwargs)\n",
    "\n",
    "    ##\n",
    "    # tests\n",
    "    ##\n",
    "\n",
    "    expected_files = ['route_type_metrics.csv','population_mesh.geojson','route_id_metrics.csv','nodes.geojson']\n",
    "    scen='test'\n",
    "    path = f'../../scenarios/{scen}/outputs/'.format(scen=scen)\n",
    "    files = os.listdir(path)\n",
    "    for file in expected_files:\n",
    "        assert file in files\n",
    "    # check there is no NaN in csv\n",
    "    # if no population.geojson dont check catchment as it could be NaN (its ok)\n",
    "    path = f'../../scenarios/{scen}/outputs/'.format(scen=scen)\n",
    "    test = pd.read_csv(path+'route_type_metrics.csv')\n",
    "    if 'population.geojson' not in os.listdir(f'../../scenarios/{scen}/inputs/'.format(scen=scen)):\n",
    "        test = test.drop(columns=['catchment'])\n",
    "    assert not test.isnull().any().any()\n",
    "\n",
    "    # check there is no NaN in csv\n",
    "    # if no population.geojson dont check catchment as it could be NaN (its ok)\n",
    "    path = f'../../scenarios/{scen}/outputs/'.format(scen=scen)\n",
    "    test = pd.read_csv(path+'route_type_metrics.csv')\n",
    "    if 'population.geojson' not in os.listdir(f'../../scenarios/{scen}/inputs/'.format(scen=scen)):\n",
    "        test = test.drop(columns=['catchment'])\n",
    "    assert not test.isnull().any().any()\n",
    "\n",
    "    # check there is no NaN in csv\n",
    "    # if no population.geojson dont check catchment as it could be NaN (its ok)\n",
    "    path = f'../../scenarios/{scen}/outputs/'.format(scen=scen)\n",
    "    test = pd.read_csv(path+'route_id_metrics.csv')\n",
    "    if 'population.geojson' not in os.listdir(f'../../scenarios/{scen}/inputs/'.format(scen=scen)):\n",
    "        test = test.drop(columns=['catchment'])\n",
    "    assert not test.isnull().any().any()\n"
   ]
  },
  {
   "cell_type": "code",
   "execution_count": null,
   "id": "9848dcb0",
   "metadata": {},
   "outputs": [],
   "source": []
  },
  {
   "cell_type": "code",
   "execution_count": null,
   "id": "97a00904",
   "metadata": {},
   "outputs": [],
   "source": []
  }
 ],
 "metadata": {
  "kernelspec": {
   "display_name": "quetzal_312",
   "language": "python",
   "name": "quetzal_312"
  },
  "language_info": {
   "codemirror_mode": {
    "name": "ipython",
    "version": 3
   },
   "file_extension": ".py",
   "mimetype": "text/x-python",
   "name": "python",
   "nbconvert_exporter": "python",
   "pygments_lexer": "ipython3",
   "version": "3.12.2"
  }
 },
 "nbformat": 4,
 "nbformat_minor": 5
}
