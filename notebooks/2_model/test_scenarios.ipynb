{
 "cells": [
  {
   "cell_type": "code",
   "execution_count": 1,
   "id": "06185c6a",
   "metadata": {},
   "outputs": [],
   "source": [
    "import os\n",
    "import sys\n",
    "sys.path.insert(0, r'../../../quetzal')\n",
    "from quetzal.os.parallel_call import parallel_call_notebook\n",
    "import itertools\n",
    "import pandas as pd\n",
    "if not os.path.exists('log/'):\n",
    "    os.makedirs('log/')"
   ]
  },
  {
   "cell_type": "code",
   "execution_count": 2,
   "id": "11a48132",
   "metadata": {},
   "outputs": [],
   "source": [
    "kwargs = {'workers':6, 'errout_suffix':True, 'sleep':1,'stdout_path':r'log/out.txt', 'stderr_path':r'log/err.txt'}\n"
   ]
  },
  {
   "cell_type": "code",
   "execution_count": 3,
   "id": "98537214",
   "metadata": {},
   "outputs": [],
   "source": [
    "params = {'catchment_radius': {'bus': '500', 'subway': '800', 'rail': '1000'}}\n",
    "scenarios=['montreal', 'montreal_2', 'montreal_3', 'jakarta', 'auckland', 'vancouver']"
   ]
  },
  {
   "cell_type": "markdown",
   "id": "ec1b7ad4",
   "metadata": {},
   "source": [
    "montreal: pt, road and population <br>\n",
    "montreal_2: pt and population <br>\n",
    "montreal_3: only pt"
   ]
  },
  {
   "cell_type": "code",
   "execution_count": 222,
   "id": "77c1ce5f",
   "metadata": {},
   "outputs": [],
   "source": [
    "arg_list = []\n",
    "for scen in scenarios:\n",
    "    path = f'../../scenarios/{scen}'.format(scen=scen)\n",
    "    arg = str({'training_folder': path, 'params':params}).replace(\"'\",'\"')\n",
    "    arg_list.append(arg)"
   ]
  },
  {
   "cell_type": "markdown",
   "id": "03bae0c7",
   "metadata": {},
   "source": [
    "delete all outputs"
   ]
  },
  {
   "cell_type": "code",
   "execution_count": 223,
   "id": "91c38379",
   "metadata": {},
   "outputs": [],
   "source": [
    "for scen in scenarios:\n",
    "    path = f'../../scenarios/{scen}/outputs/'.format(scen=scen)\n",
    "    files = os.listdir(path)\n",
    "    for file in files:\n",
    "        os.remove(path+file)"
   ]
  },
  {
   "cell_type": "code",
   "execution_count": 224,
   "id": "6069197d",
   "metadata": {},
   "outputs": [
    {
     "name": "stderr",
     "output_type": "stream",
     "text": [
      "[NbConvertApp] Converting notebook main.ipynb to python\n",
      "[NbConvertApp] Writing 27403 bytes to main.py\n"
     ]
    },
    {
     "name": "stdout",
     "output_type": "stream",
     "text": [
      "0 main.py {\"training_folder\": \"../../scenarios/montreal\", \"params\": {\"catchment_radius\": {\"bus\": \"500\", \"subway\": \"800\", \"rail\": \"1000\"}}}\n",
      "1 main.py {\"training_folder\": \"../../scenarios/montreal_2\", \"params\": {\"catchment_radius\": {\"bus\": \"500\", \"subway\": \"800\", \"rail\": \"1000\"}}}\n",
      "2 main.py {\"training_folder\": \"../../scenarios/montreal_3\", \"params\": {\"catchment_radius\": {\"bus\": \"500\", \"subway\": \"800\", \"rail\": \"1000\"}}}\n",
      "93 seconds\n"
     ]
    }
   ],
   "source": [
    "parallel_call_notebook('main.ipynb', arg_list=arg_list, **kwargs)"
   ]
  },
  {
   "cell_type": "code",
   "execution_count": 225,
   "id": "668c1369",
   "metadata": {},
   "outputs": [],
   "source": [
    "expected_files = ['route_type_metrics.csv','population_mesh.geojson','route_id_metrics.csv','nodes.geojson']\n",
    "for scen in scenarios:\n",
    "    path = f'../../scenarios/{scen}/outputs/'.format(scen=scen)\n",
    "    files = os.listdir(path)\n",
    "    for file in expected_files:\n",
    "        assert file in files\n"
   ]
  },
  {
   "cell_type": "code",
   "execution_count": 226,
   "id": "1180329a",
   "metadata": {},
   "outputs": [],
   "source": [
    "# check there is no NaN in csv\n",
    "# if no population.geojson dont check catchment as it could be NaN (its ok)\n",
    "for scen in scenarios:\n",
    "    path = f'../../scenarios/{scen}/outputs/'.format(scen=scen)\n",
    "    test = pd.read_csv(path+'route_type_metrics.csv')\n",
    "    if 'population.geojson' not in os.listdir(f'../../scenarios/{scen}/inputs/'.format(scen=scen)):\n",
    "        test = test.drop(columns=['catchment'])\n",
    "    assert not test.isnull().any().any()\n"
   ]
  },
  {
   "cell_type": "code",
   "execution_count": 227,
   "id": "015babbe",
   "metadata": {},
   "outputs": [],
   "source": [
    "# check there is no NaN in csv\n",
    "# if no population.geojson dont check catchment as it could be NaN (its ok)\n",
    "for scen in scenarios[0:1]:\n",
    "    path = f'../../scenarios/{scen}/outputs/'.format(scen=scen)\n",
    "    test = pd.read_csv(path+'route_id_metrics.csv')\n",
    "    if 'population.geojson' not in os.listdir(f'../../scenarios/{scen}/inputs/'.format(scen=scen)):\n",
    "        test = test.drop(columns=['catchment'])\n",
    "    assert not test.isnull().any().any()\n"
   ]
  },
  {
   "cell_type": "code",
   "execution_count": null,
   "id": "27d57578",
   "metadata": {},
   "outputs": [],
   "source": []
  },
  {
   "cell_type": "code",
   "execution_count": null,
   "id": "d5399b0f",
   "metadata": {},
   "outputs": [],
   "source": []
  },
  {
   "cell_type": "code",
   "execution_count": null,
   "id": "26975a7f",
   "metadata": {},
   "outputs": [],
   "source": []
  },
  {
   "cell_type": "code",
   "execution_count": null,
   "id": "9848dcb0",
   "metadata": {},
   "outputs": [],
   "source": []
  }
 ],
 "metadata": {
  "kernelspec": {
   "display_name": "quetzal_env",
   "language": "python",
   "name": "quetzal_env"
  },
  "language_info": {
   "codemirror_mode": {
    "name": "ipython",
    "version": 3
   },
   "file_extension": ".py",
   "mimetype": "text/x-python",
   "name": "python",
   "nbconvert_exporter": "python",
   "pygments_lexer": "ipython3",
   "version": "3.8.6"
  }
 },
 "nbformat": 4,
 "nbformat_minor": 5
}
