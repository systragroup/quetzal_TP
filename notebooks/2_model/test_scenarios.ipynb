{
 "cells": [
  {
   "cell_type": "code",
   "execution_count": 81,
   "id": "06185c6a",
   "metadata": {},
   "outputs": [],
   "source": [
    "import os\n",
    "import sys\n",
    "sys.path.insert(0, r'../../../quetzal')\n",
    "from quetzal.os.parallel_call import parallel_call_notebook\n",
    "import itertools\n",
    "import pandas as pd\n",
    "if not os.path.exists('log/'):\n",
    "    os.makedirs('log/')"
   ]
  },
  {
   "cell_type": "code",
   "execution_count": 82,
   "id": "11a48132",
   "metadata": {},
   "outputs": [],
   "source": [
    "kwargs = {'workers':6, 'errout_suffix':True, 'sleep':1,'stdout_path':r'log/out.txt', 'stderr_path':r'log/err.txt'}\n"
   ]
  },
  {
   "cell_type": "code",
   "execution_count": 83,
   "id": "98537214",
   "metadata": {},
   "outputs": [],
   "source": [
    "catchment_radius={'bus':'500','subway':'800','rail':'1000'}\n",
    "footpaths = {'max_length':'1000', 'speed':'2.8','n_ntlegs':'2'}\n",
    "params = {'catchment_radius':catchment_radius,'footpaths':footpaths}\n",
    "scenarios=['montreal', 'montreal_2', 'montreal_3', 'jakarta', 'auckland', 'vancouver']"
   ]
  },
  {
   "cell_type": "markdown",
   "id": "ec1b7ad4",
   "metadata": {},
   "source": [
    "montreal: pt, road and population <br>\n",
    "montreal_2: pt and population <br>\n",
    "montreal_3: only pt"
   ]
  },
  {
   "cell_type": "code",
   "execution_count": 84,
   "id": "77c1ce5f",
   "metadata": {},
   "outputs": [],
   "source": [
    "arg_list = []\n",
    "for scen in scenarios:\n",
    "    path = f'../../scenarios/{scen}'.format(scen=scen)\n",
    "    arg = str({'training_folder': path, 'params':params}).replace(\"'\",'\"')\n",
    "    arg_list.append(arg)"
   ]
  },
  {
   "cell_type": "markdown",
   "id": "03bae0c7",
   "metadata": {},
   "source": [
    "delete all outputs"
   ]
  },
  {
   "cell_type": "code",
   "execution_count": 85,
   "id": "91c38379",
   "metadata": {},
   "outputs": [],
   "source": [
    "for scen in scenarios:\n",
    "    path = f'../../scenarios/{scen}/outputs/'.format(scen=scen)\n",
    "    files = os.listdir(path)\n",
    "    for file in files:\n",
    "        os.remove(path+file)"
   ]
  },
  {
   "cell_type": "code",
   "execution_count": 77,
   "id": "6069197d",
   "metadata": {},
   "outputs": [
    {
     "name": "stderr",
     "output_type": "stream",
     "text": [
      "[NbConvertApp] Converting notebook main.ipynb to python\n",
      "[NbConvertApp] Writing 27383 bytes to main.py\n"
     ]
    },
    {
     "name": "stdout",
     "output_type": "stream",
     "text": [
      "0 main.py {\"training_folder\": \"../../scenarios/base\", \"params\": {\"catchment_radius\": {\"bus\": \"500\", \"subway\": \"800\", \"rail\": \"1000\"}}}\n",
      "32 seconds\n"
     ]
    }
   ],
   "source": [
    "parallel_call_notebook('main.ipynb', arg_list=arg_list, **kwargs)"
   ]
  },
  {
   "cell_type": "code",
   "execution_count": 75,
   "id": "abdd8d81",
   "metadata": {},
   "outputs": [
    {
     "name": "stderr",
     "output_type": "stream",
     "text": [
      "[NbConvertApp] Converting notebook pathfinder.ipynb to python\n",
      "[NbConvertApp] Writing 7980 bytes to pathfinder.py\n"
     ]
    },
    {
     "name": "stdout",
     "output_type": "stream",
     "text": [
      "0 pathfinder.py {\"training_folder\": \"../../scenarios/base\", \"params\": {\"catchment_radius\": {\"bus\": \"500\", \"subway\": \"800\", \"rail\": \"1000\"}}}\n",
      "42 seconds\n"
     ]
    }
   ],
   "source": [
    "parallel_call_notebook('pathfinder.ipynb', arg_list=arg_list, **kwargs)"
   ]
  },
  {
   "cell_type": "code",
   "execution_count": 78,
   "id": "668c1369",
   "metadata": {},
   "outputs": [],
   "source": [
    "expected_files = ['route_type_metrics.csv','population_mesh.geojson','route_id_metrics.csv','nodes.geojson']\n",
    "for scen in scenarios:\n",
    "    path = f'../../scenarios/{scen}/outputs/'.format(scen=scen)\n",
    "    files = os.listdir(path)\n",
    "    for file in expected_files:\n",
    "        assert file in files\n"
   ]
  },
  {
   "cell_type": "code",
   "execution_count": 79,
   "id": "1180329a",
   "metadata": {},
   "outputs": [
    {
     "ename": "AssertionError",
     "evalue": "",
     "output_type": "error",
     "traceback": [
      "\u001b[0;31m---------------------------------------------------------------------------\u001b[0m",
      "\u001b[0;31mAssertionError\u001b[0m                            Traceback (most recent call last)",
      "Cell \u001b[0;32mIn[79], line 8\u001b[0m\n\u001b[1;32m      6\u001b[0m \u001b[38;5;28;01mif\u001b[39;00m \u001b[38;5;124m'\u001b[39m\u001b[38;5;124mpopulation.geojson\u001b[39m\u001b[38;5;124m'\u001b[39m \u001b[38;5;129;01mnot\u001b[39;00m \u001b[38;5;129;01min\u001b[39;00m os\u001b[38;5;241m.\u001b[39mlistdir(\u001b[38;5;124mf\u001b[39m\u001b[38;5;124m'\u001b[39m\u001b[38;5;124m../../scenarios/\u001b[39m\u001b[38;5;132;01m{\u001b[39;00mscen\u001b[38;5;132;01m}\u001b[39;00m\u001b[38;5;124m/inputs/\u001b[39m\u001b[38;5;124m'\u001b[39m\u001b[38;5;241m.\u001b[39mformat(scen\u001b[38;5;241m=\u001b[39mscen)):\n\u001b[1;32m      7\u001b[0m     test \u001b[38;5;241m=\u001b[39m test\u001b[38;5;241m.\u001b[39mdrop(columns\u001b[38;5;241m=\u001b[39m[\u001b[38;5;124m'\u001b[39m\u001b[38;5;124mcatchment\u001b[39m\u001b[38;5;124m'\u001b[39m])\n\u001b[0;32m----> 8\u001b[0m \u001b[38;5;28;01massert\u001b[39;00m \u001b[38;5;129;01mnot\u001b[39;00m test\u001b[38;5;241m.\u001b[39misnull()\u001b[38;5;241m.\u001b[39many()\u001b[38;5;241m.\u001b[39many()\n",
      "\u001b[0;31mAssertionError\u001b[0m: "
     ]
    }
   ],
   "source": [
    "# check there is no NaN in csv\n",
    "# if no population.geojson dont check catchment as it could be NaN (its ok)\n",
    "for scen in scenarios:\n",
    "    path = f'../../scenarios/{scen}/outputs/'.format(scen=scen)\n",
    "    test = pd.read_csv(path+'route_type_metrics.csv')\n",
    "    if 'population.geojson' not in os.listdir(f'../../scenarios/{scen}/inputs/'.format(scen=scen)):\n",
    "        test = test.drop(columns=['catchment'])\n",
    "    assert not test.isnull().any().any()\n"
   ]
  },
  {
   "cell_type": "code",
   "execution_count": null,
   "id": "3d549a40",
   "metadata": {},
   "outputs": [],
   "source": []
  },
  {
   "cell_type": "code",
   "execution_count": 18,
   "id": "015babbe",
   "metadata": {},
   "outputs": [],
   "source": [
    "# check there is no NaN in csv\n",
    "# if no population.geojson dont check catchment as it could be NaN (its ok)\n",
    "for scen in scenarios:\n",
    "    path = f'../../scenarios/{scen}/outputs/'.format(scen=scen)\n",
    "    test = pd.read_csv(path+'route_id_metrics.csv')\n",
    "    if 'population.geojson' not in os.listdir(f'../../scenarios/{scen}/inputs/'.format(scen=scen)):\n",
    "        test = test.drop(columns=['catchment'])\n",
    "    assert not test.isnull().any().any()\n"
   ]
  },
  {
   "cell_type": "code",
   "execution_count": 76,
   "id": "27d57578",
   "metadata": {},
   "outputs": [
    {
     "name": "stdout",
     "output_type": "stream",
     "text": [
      "base\n"
     ]
    }
   ],
   "source": [
    "# test that pathfinder produced od_route.geojson file if od are provided.\n",
    "for scen in scenarios:\n",
    "    outputs = f'../../scenarios/{scen}/outputs/'.format(scen=scen)\n",
    "    inputs = f'../../scenarios/{scen}/inputs/'.format(scen=scen)\n",
    "    if 'od' in os.listdir(inputs):\n",
    "        print(scen)\n",
    "        od = gpd.read_file(inputs+'od/od.geojson')\n",
    "        test = gpd.read_file(outputs+'od_route.geojson')\n",
    "        assert set(test['od_name'].unique()) == set(od['name'].unique())\n"
   ]
  },
  {
   "cell_type": "code",
   "execution_count": null,
   "id": "d5399b0f",
   "metadata": {},
   "outputs": [],
   "source": []
  },
  {
   "cell_type": "code",
   "execution_count": null,
   "id": "26975a7f",
   "metadata": {},
   "outputs": [],
   "source": []
  },
  {
   "cell_type": "code",
   "execution_count": null,
   "id": "9848dcb0",
   "metadata": {},
   "outputs": [],
   "source": []
  },
  {
   "cell_type": "code",
   "execution_count": null,
   "id": "41874744",
   "metadata": {},
   "outputs": [],
   "source": []
  }
 ],
 "metadata": {
  "kernelspec": {
   "display_name": "quetzal_env",
   "language": "python",
   "name": "quetzal_env"
  },
  "language_info": {
   "codemirror_mode": {
    "name": "ipython",
    "version": 3
   },
   "file_extension": ".py",
   "mimetype": "text/x-python",
   "name": "python",
   "nbconvert_exporter": "python",
   "pygments_lexer": "ipython3",
   "version": "3.8.6"
  }
 },
 "nbformat": 4,
 "nbformat_minor": 5
}
