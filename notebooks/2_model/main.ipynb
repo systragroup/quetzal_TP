{
 "cells": [
  {
   "cell_type": "code",
   "execution_count": 39,
   "id": "9414f213",
   "metadata": {},
   "outputs": [
    {
     "name": "stdout",
     "output_type": "stream",
     "text": [
      "numba threads 8\n"
     ]
    }
   ],
   "source": [
    "import sys\n",
    "import json\n",
    "sys.path.insert(0, r'../../../quetzal')\n",
    "from pathlib import Path\n",
    "\n",
    "import zipfile\n",
    "import os\n",
    "import time\n",
    "import geopandas as gpd\n",
    "import pandas as pd\n",
    "import numpy as np\n",
    "import random\n",
    "from collections import defaultdict\n",
    "import matplotlib.pyplot as plt\n",
    "import matplotlib.colors as colors\n",
    "from shapely.geometry import Point, LineString\n",
    "from syspy.spatial.spatial import add_geometry_coordinates, nearest\n",
    "from sklearn.neighbors import NearestNeighbors\n",
    "from typing import Literal\n",
    "from numba import jit, njit\n",
    "import numba as nb\n",
    "#num_cores = 1\n",
    "print('numba threads',nb.config.NUMBA_NUM_THREADS)\n",
    "\n",
    "on_lambda = bool(os.environ.get('AWS_EXECUTION_ENV'))\n",
    "io_engine = 'pyogrio' if on_lambda else 'fiona'"
   ]
  },
  {
   "cell_type": "code",
   "execution_count": null,
   "id": "d4464985",
   "metadata": {},
   "outputs": [],
   "source": []
  },
  {
   "cell_type": "code",
   "execution_count": null,
   "id": "e894ebfa",
   "metadata": {},
   "outputs": [],
   "source": []
  },
  {
   "cell_type": "code",
   "execution_count": 42,
   "id": "6103c800",
   "metadata": {},
   "outputs": [
    {
     "data": {
      "text/plain": [
       "{'training_folder': '../../scenarios/alula',\n",
       " 'params': {'general': {'step_size': '0.0025'}}}"
      ]
     },
     "execution_count": 42,
     "metadata": {},
     "output_type": "execute_result"
    }
   ],
   "source": [
    "general = {'step_size':'0.0025'}\n",
    "params = {'general':general}\n",
    "default = {'training_folder': '../../scenarios/alula', 'params':params} # Default execution parametersmanual, argv = (True, default) if 'ipykernel' in sys.argv[0] else (False, dict(default, **json.loads(sys.argv[1])))\n",
    "\n",
    "manual, argv = (True, default) if 'ipykernel' in sys.argv[0] else (False, dict(default, **json.loads(sys.argv[1])))\n",
    "argv"
   ]
  },
  {
   "cell_type": "code",
   "execution_count": 43,
   "id": "dc057466",
   "metadata": {},
   "outputs": [],
   "source": [
    "# from quetzal_cyclops\n",
    "def get_epsg(lat: float, lon: float) -> int:\n",
    "    '''\n",
    "    lat, lon or y, x\n",
    "    return EPSG in meter for a given (lat,lon)\n",
    "    lat is north south \n",
    "    lon is est west\n",
    "    '''\n",
    "    return int(32700 - round((45 + lat) / 90, 0) * 100 + round((183 + lon) / 6, 0))\n",
    "\n",
    "# from quetzal_cyclops\n",
    "def zones_nearest_node(zones,nodes,drop_duplicates=False):\n",
    "    # getting zones centroids\n",
    "    centroid = zones.copy()\n",
    "    centroid['geometry'] = centroid.centroid\n",
    "    # finding nearest node\n",
    "    neigh = nearest(centroid, nodes, n_neighbors=1).rename(columns={'ix_one': 'zone_index', 'ix_many': 'node_index'})\n",
    "    zone_node_dict = neigh.set_index('zone_index')['node_index'].to_dict()\n",
    "    centroid['node_index'] = centroid.index.map(zone_node_dict.get)\n",
    "    #print('max_distance found: ', neigh['distance'].max())\n",
    "    # check for duplicated nodes. if there is. drop the duplicated zones.\n",
    "    if drop_duplicates:\n",
    "        if len(centroid.drop_duplicates('node_index')) != len(centroid):\n",
    "            print('there is zones associates to the same road_node')\n",
    "            # duplicated = centroid[centroid['node_index'].duplicated()]['node_index'].values\n",
    "            print('dropping zones: ')\n",
    "            print(centroid[centroid['node_index'].duplicated()].index.values)\n",
    "            centroid = centroid.drop_duplicates('node_index')\n",
    "    return centroid"
   ]
  },
  {
   "cell_type": "code",
   "execution_count": 44,
   "id": "2595e6cd",
   "metadata": {},
   "outputs": [],
   "source": [
    "from quetzal.engine.pathfinder_utils import simple_routing, sparse_matrix, get_path\n",
    "from scipy.sparse import csr_matrix\n",
    "from scipy.sparse.csgraph import dijkstra\n",
    "\n",
    "@jit(nopython=True)\n",
    "def _unstack(mat):\n",
    "    # return non inf values in mat as [[row,col,val],[row,col,val]]. so, [o,d,val].\n",
    "    # pd.DataFrame of this gives us [origin, destination, value] as columns\n",
    "    row, col = np.where(np.isfinite(mat))\n",
    "    res = np.zeros((len(row),3))\n",
    "    for it in nb.prange(len(col)):\n",
    "        i=row[it]\n",
    "        j=col[it]\n",
    "        d=mat[i,j]\n",
    "        res[it]=[i,j,d]\n",
    "    return res\n",
    "\n",
    "def routing(origin, destination, links, weight_col='time', dijkstra_limit=np.inf):\n",
    "    mat, node_index = sparse_matrix(links[['a', 'b', weight_col]].values)\n",
    "    index_node = {v: k for k, v in node_index.items()}\n",
    "    # liste des origines pour le dijkstra\n",
    "    origin_sparse = [node_index[x] for x in origin]\n",
    "    origin_dict =  {i:val for i,val in enumerate(origin_sparse)}\n",
    "    # list des destinations \n",
    "    destination_sparse = [node_index[x] for x in destination]\n",
    "    destination_dict =  {i:val for i,val in enumerate(destination_sparse)}\n",
    "    # dijktra on the road network from node = incices to every other nodes.\n",
    "    # from b to a.\n",
    "    dist_matrix = dijkstra(\n",
    "        csgraph=mat,\n",
    "        directed=True,\n",
    "        indices=origin_sparse,\n",
    "        return_predecessors=False,\n",
    "        limit=dijkstra_limit\n",
    "    )\n",
    "    # remove non-used destination\n",
    "    dist_matrix = dist_matrix[:,destination_sparse]\n",
    "    # unstack amtrix\n",
    "    dist_matrix = pd.DataFrame(_unstack(dist_matrix),columns=['origin', 'destination', weight_col])\n",
    "    # rename origin and destination with original indexes.\n",
    "    dist_matrix['origin'] = dist_matrix['origin'].apply(lambda x: index_node.get(origin_dict.get(x)))\n",
    "    dist_matrix['destination'] = dist_matrix['destination'].apply(lambda x: index_node.get(destination_dict.get(x)))\n",
    "    return dist_matrix"
   ]
  },
  {
   "cell_type": "code",
   "execution_count": 45,
   "id": "bb087e97",
   "metadata": {},
   "outputs": [],
   "source": [
    "def get_catchment_dist(link: gpd.GeoDataFrame, catchment_radius: dict, default: float=500):\n",
    "    route_type = link['route_type'].unique()\n",
    "    if len(route_type)>1:\n",
    "        print('multiple route type for a single route_id.. using first one for catchment radius')\n",
    "    route_type = route_type[0]\n",
    "    return catchment_radius.get(route_type, default)\n",
    "\n",
    "\n",
    "def nearest_radius(one, many, radius=100,to_crs=None):\n",
    "    try:\n",
    "        # Assert df_many.index.is_unique\n",
    "        assert one.index.is_unique\n",
    "        assert many.index.is_unique\n",
    "    except AssertionError:\n",
    "        msg = 'Index of one or many should not contain duplicates'\n",
    "        print(msg)\n",
    "        warnings.warn(msg)\n",
    "    many = add_geometry_coordinates(many, columns=['x_geometry', 'y_geometry'], to_crs=to_crs)\n",
    "    one = add_geometry_coordinates(one, columns=['x_geometry', 'y_geometry'], to_crs=to_crs)\n",
    "    \n",
    "    x = many[['x_geometry', 'y_geometry']].values\n",
    "    # Fit Nearest neighbors model\n",
    "    #nbrs = NearestNeighbors(n_neighbors=n_neighbors, algorithm='ball_tree').fit(x)\n",
    "    nbrs = NearestNeighbors(radius=radius,algorithm='ball_tree').fit(x)\n",
    "\n",
    "    y = one[['x_geometry', 'y_geometry']].values\n",
    "\n",
    "    #distances, indices = nbrs.kneighbors(y,return_distance=True)\n",
    "    distances, indices = nbrs.radius_neighbors(y, radius = radius, return_distance=True)\n",
    "\n",
    "    indices = pd.DataFrame(indices)\n",
    "    indices = pd.DataFrame(indices.stack(), columns=['index_nn']).reset_index().rename(\n",
    "        columns={'level_0': 'ix_one', 'level_1': 'rank'}\n",
    "    )\n",
    "    indices['distances'] = distances\n",
    "    return indices\n",
    "\n",
    "def create_mesh(zones: gpd.GeoDataFrame ,step: float = 0.01) -> gpd.GeoDataFrame:\n",
    "    '''\n",
    "    create a mesh in the zones total bbox at every step (in the units of the zones crs)\n",
    "    step: degree if crs=4326, else meters. 0.01 deg ~ 1km\n",
    "    '''\n",
    "    x_max, y_max = zones.bounds.max()[['maxx','maxy']].values\n",
    "    x_min, y_min = zones.bounds.min()[['minx','miny']].values\n",
    "\n",
    "    points = []\n",
    "    x = x_min\n",
    "    while x<x_max:\n",
    "        y = y_min\n",
    "        while y<y_max:\n",
    "            points.append(Point(x,y))\n",
    "            y += step\n",
    "        x += step\n",
    "    points = gpd.GeoDataFrame(geometry=points,crs=zones.crs)\n",
    "    points.index.name='index'\n",
    "    return points\n",
    "\n",
    "# https://stackoverflow.com/questions/36399381/whats-the-fastest-way-of-checking-if-a-point-is-inside-a-polygon-in-python\n",
    "\n",
    "@jit(nopython=True)\n",
    "def fast_point_in_polygon(x: float, y: float , poly: np.ndarray) -> bool:\n",
    "    n = len(poly)\n",
    "    inside = False\n",
    "    p2x = 0.0\n",
    "    p2y = 0.0\n",
    "    xints = 0.0\n",
    "    p1x,p1y = poly[0]\n",
    "    for i in nb.prange(n+1):\n",
    "        p2x,p2y = poly[i % n]\n",
    "        if y > min(p1y,p2y):\n",
    "            if y <= max(p1y,p2y):\n",
    "                if x <= max(p1x,p2x):\n",
    "                    if p1y != p2y:\n",
    "                        xints = (y-p1y)*(p2x-p1x)/(p2y-p1y)+p1x\n",
    "                    if p1x == p2x or x <= xints:\n",
    "                        inside = not inside\n",
    "        p1x,p1y = p2x,p2y\n",
    "        \n",
    "    return inside\n",
    "\n",
    "\n",
    "@njit(parallel=True)\n",
    "def fast_points_in_polygon(points:np.ndarray, polygon:np.ndarray) -> np.ndarray:\n",
    "    D = np.empty(len(points), dtype=nb.boolean) \n",
    "    for i in nb.prange(0, len(points)):\n",
    "        D[i] = fast_point_in_polygon(points[i,0], points[i,1], polygon)\n",
    "    return np.where(D)[0]\n",
    "\n",
    "def points_in_polygon(points:np.ndarray, polygon:gpd.GeoDataFrame) -> np.ndarray:\n",
    "    '''\n",
    "    return a list of point in the polygon. values are the index in the points array.\n",
    "    \n",
    "    points:np.array[np.array[float,float]]\n",
    "        list of all the points coords (x,y)\n",
    "    polygon: gpd.GeoDataFrame\n",
    "        geodataframe of multiples polygons.\n",
    "    '''\n",
    "    try:\n",
    "        poly = np.array([*polygon.exterior.coords])\n",
    "        return fast_points_in_polygon(points,poly)\n",
    "    except:\n",
    "        res=np.array([])\n",
    "        #polygon = polygon.geoms\n",
    "        for i in range(len(polygon)):\n",
    "            poly = np.array([*polygon[i].exterior.coords])\n",
    "            val =fast_points_in_polygon(points,poly)\n",
    "            res = np.append(res,val)\n",
    "        return res\n",
    "\n",
    "def population_to_mesh(population: gpd.GeoDataFrame,\n",
    "                       mesh: gpd.GeoDataFrame = None,\n",
    "                       step: float = 0.01,\n",
    "                       col: str = 'population', \n",
    "                       fill_missing: Literal['centroid', 'nearest', None] = 'centroid') ->  gpd.GeoDataFrame:\n",
    "    '''\n",
    "    create a mesh in the zones total bbox at every step (in the units of the zones crs)\n",
    "    and assign the population to each node equaly (if 2 node in a zone. they have each 50% of the population)\n",
    "    population:\n",
    "        geodataframe with total population by zones ans zones geomerty\n",
    "     mesh:\n",
    "        road nodes for example. if None. it will be created with equal step (variable step.)\n",
    "    step: \n",
    "        if mesh is None, Distance between each point degree if crs=4326, else meters. 0.01 deg ~ 1km\n",
    "    col:\n",
    "        column name with data to aggregation (population)\n",
    "    fill_missing: 'centroid', 'nearest', or None\n",
    "        centroid: zones centroid with no mesh node inside will be added to the mesh\n",
    "        nearest: zones population with no mesh point inside will be added to the nearest mesh point.\n",
    "    '''\n",
    "    import warnings\n",
    "    warnings.filterwarnings('ignore')\n",
    "    population=population.copy()\n",
    "    if population.index.name != 'index':\n",
    "        population.index.name = 'index'\n",
    "    # use existing mesh (points .geosjon) or create one.\n",
    "    if mesh is not None:\n",
    "        # we need numerical indexes. also,\n",
    "        # new nodes will be added (new index) for zones with no points inside.\n",
    "        points = mesh.copy()\n",
    "        points = points.reset_index(names='node_index')\n",
    "        points.index.name='index'\n",
    "    else:\n",
    "        points = create_mesh(population, step=step)\n",
    "        \n",
    "    points_coords = np.array([point.coords[0] for point in points['geometry'].values])\n",
    "    \n",
    "    population['nodes'] = population['geometry'].apply(lambda x: points_in_polygon(points_coords,x))\n",
    "    \n",
    "    nodes = population.reset_index()[['index','nodes',col]].copy()\n",
    "    nodes = nodes.explode('nodes').dropna()\n",
    "    print(len(nodes[nodes['nodes'].duplicated()]),'nodes in multiple zones. will be match to a single zone.')\n",
    "    \n",
    "    \n",
    "    zone_index_dict = nodes.set_index('nodes')['index'].to_dict()\n",
    "    points['zone'] = points.index.map(zone_index_dict)\n",
    "\n",
    "    pop_dict = nodes.set_index('nodes')[col].to_dict()\n",
    "    points[col] = points.index.map(pop_dict)\n",
    "    points = points.dropna()\n",
    "    \n",
    "    # get number of points per zones. divide population equaly between each points\n",
    "    len_dict = points.groupby('zone')[col].agg(len).to_dict()\n",
    "    points['num_points'] = points['zone'].apply(lambda x:len_dict.get(x))\n",
    "    points[col] = points[col] / points['num_points']\n",
    "    points = points.drop(columns = ['num_points'])\n",
    "    \n",
    "    print(len(population) - len(points['zone'].unique()),'unfounded zones')\n",
    "    \n",
    "    zones_list = points['zone'].unique()\n",
    "    unfounded_zones = population.loc[~population.index.isin(zones_list)][['geometry',col]]\n",
    "    if fill_missing == 'centroid':\n",
    "        print('Unfound zones centroid will be added to mesh')\n",
    "        # append unfounded zones centroids as in mesh\n",
    "        unfounded_zones['geometry'] = unfounded_zones.centroid\n",
    "        unfounded_zones = unfounded_zones.reset_index().rename(columns={'index':'zone'})\n",
    "        points = pd.concat([points,unfounded_zones]).reset_index(drop=True)\n",
    "        points.index.name='index'\n",
    "    elif fill_missing == 'nearest':\n",
    "        print('unfound zone will be added to nearest mesh node. zone_index will be lost')\n",
    "        unfounded_zones = zones_nearest_node(unfounded_zones,points)\n",
    "        pop_to_append = unfounded_zones.groupby('node_index')[[col]].sum()\n",
    "\n",
    "        points = points.merge(pop_to_append,left_index=True,right_index=True,how='left')\n",
    "        points[col+'_y'] = points[col+'_y'].fillna(0)\n",
    "\n",
    "        points[col] = points[col+'_x'] + points[col+'_y']\n",
    "        points = points.drop(columns=[col+'_x', col+'_y'])\n",
    "    else:\n",
    "        pass\n",
    "    \n",
    "    \n",
    "    points.index.name='index'\n",
    "    \n",
    "    return points"
   ]
  },
  {
   "cell_type": "code",
   "execution_count": 46,
   "id": "5475f34b",
   "metadata": {},
   "outputs": [],
   "source": [
    "def get_acf_distances(nodes: gpd.GeoDataFrame, \n",
    "                      mesh: gpd.GeoDataFrame, \n",
    "                      crs:int,\n",
    "                      max_dist: float = 3000) -> gpd.GeoDataFrame:\n",
    "    '''\n",
    "    with nearest kneibor in a radius.\n",
    "    for pt node in nodes, get all mesh nodes in a distance < max_dist\n",
    "    \n",
    "    return gpd.Geodateframe with [node_index, mesh_index, distances, population]\n",
    "    '''\n",
    "\n",
    "    node_dist = nearest_radius(nodes, mesh, radius=max_dist, to_crs=crs)\n",
    "    node_dist = node_dist.rename(columns={'ix_one': 'node_index','index_nn':'mesh_index'}).drop(columns='rank')\n",
    "\n",
    "    nodes_index_dict = nodes.reset_index()['index'].to_dict()\n",
    "    node_dist['node_index'] = node_dist['node_index'].apply(lambda x: nodes_index_dict.get(x))\n",
    "\n",
    "    node_dist = node_dist.explode(['mesh_index','distances'])\n",
    "    population_dict = mesh['population'].to_dict()\n",
    "    node_dist['population'] = node_dist['mesh_index'].apply(lambda x: population_dict.get(x))\n",
    "    return node_dist\n",
    "\n",
    "def get_routing_distances(nodes: gpd.GeoDataFrame, \n",
    "                         rnodes: gpd.GeoDataFrame, \n",
    "                         rlinks: gpd.GeoDataFrame, \n",
    "                         mesh: gpd.GeoDataFrame, \n",
    "                         weight_col:str = 'length', \n",
    "                         dijkstra_limit: float = np.inf) -> gpd.GeoDataFrame:\n",
    "    '''\n",
    "    with dijktra on road network.\n",
    "    for pt node in nodes, get all mesh nodes in a distance < max_dist. can be change with weight_col\n",
    "    ex: weight_col = 'time', and dijkstra_limit = 120secs\n",
    "    \n",
    "    return gpd.Geodateframe with [node_index, mesh_index, distances, population]\n",
    "    '''\n",
    "\n",
    "    # transform PT nodes to nearest road nodes\n",
    "    node_to_rnode_df = zones_nearest_node(nodes,rnodes)[['node_index']]\n",
    "\n",
    "    node_rnodes_dict = node_to_rnode_df['node_index'].to_dict()\n",
    "    rnodes_node_dict = node_to_rnode_df.reset_index().groupby('node_index').agg(list)['index'].to_dict()\n",
    "\n",
    "    # there may be multiples nodes pointing to the same rnode. so rnodes_node_dict values are lists.\n",
    "    # need to added them back at the end when we go from rnode to nodes\n",
    "    origins = list(set(node_rnodes_dict.values()))\n",
    "    destinations = mesh['node_index'].values\n",
    "    mat = routing(origins, destinations, rlinks, weight_col=weight_col, dijkstra_limit=dijkstra_limit)\n",
    "\n",
    "    mat = mat.merge(mesh.reset_index()[['index','node_index','population']],left_on='destination',right_on='node_index',how='left')\n",
    "    mat = mat.drop(columns=['destination','node_index']).rename(columns={'index':'mesh_index'})\n",
    "\n",
    "    mat['origin'] = mat['origin'].apply(lambda x: rnodes_node_dict.get(x))\n",
    "    mat = mat.explode('origin')\n",
    "    mat = mat.rename(columns={'origin':'node_index', weight_col:'distances'})\n",
    "    return mat"
   ]
  },
  {
   "cell_type": "code",
   "execution_count": 47,
   "id": "a6b7f3ce",
   "metadata": {},
   "outputs": [],
   "source": [
    "def read_quenedi_zip(zip_path, foldername=''):\n",
    "    archive = zipfile.ZipFile(zip_path, 'r')\n",
    "    link_data = archive.read(foldername + 'links.geojson')\n",
    "    node_data = archive.read(foldername + 'nodes.geojson')\n",
    "    l_ = json.loads(link_data)\n",
    "    n_ = json.loads(node_data)\n",
    "    links = gpd.read_file(json.dumps(l_)).set_index('index')\n",
    "    nodes = gpd.read_file(json.dumps(n_)).set_index('index')\n",
    "\n",
    "    return links, nodes"
   ]
  },
  {
   "cell_type": "markdown",
   "id": "65c740a4",
   "metadata": {},
   "source": [
    "# Folders stucture and params"
   ]
  },
  {
   "cell_type": "markdown",
   "id": "cbbbcb7a",
   "metadata": {},
   "source": [
    "everything is on S3 (nothing on ECR) so no direct input folder. just scenarios/{scen}/inputs/"
   ]
  },
  {
   "cell_type": "markdown",
   "id": "763798b5",
   "metadata": {},
   "source": [
    "Data folder structure"
   ]
  },
  {
   "cell_type": "code",
   "execution_count": 48,
   "id": "4e968de8",
   "metadata": {},
   "outputs": [],
   "source": [
    "base_folder = argv['training_folder']\n",
    "input_folder = os.path.join(base_folder,'inputs/')\n",
    "pt_folder  = os.path.join(input_folder,'pt/')\n",
    "road_folder = os.path.join(input_folder,'road/')\n",
    "od_folder =  os.path.join(input_folder,'od/')\n",
    "\n",
    "output_folder = os.path.join(base_folder,'outputs/')\n",
    "if not os.path.exists(output_folder):\n",
    "    os.makedirs(output_folder)\n",
    "    \n",
    "model_folder = os.path.join(input_folder, 'model/')"
   ]
  },
  {
   "cell_type": "markdown",
   "id": "9f90bc48",
   "metadata": {},
   "source": [
    "Inputs"
   ]
  },
  {
   "cell_type": "code",
   "execution_count": 59,
   "id": "dbe66e25",
   "metadata": {},
   "outputs": [
    {
     "data": {
      "text/plain": [
       "0.0025"
      ]
     },
     "execution_count": 59,
     "metadata": {},
     "output_type": "execute_result"
    }
   ],
   "source": [
    "argv['params']['general'].get('step_size')\n",
    "step_size =  argv['params']['general'].get('step_size')\n",
    "step_size = float(step_size)\n",
    "step_size"
   ]
  },
  {
   "cell_type": "code",
   "execution_count": 60,
   "id": "de426c07",
   "metadata": {},
   "outputs": [],
   "source": [
    "links = gpd.read_file(pt_folder + 'links.geojson', engine=io_engine) \n",
    "nodes = gpd.read_file(pt_folder + 'nodes.geojson', engine=io_engine)\n",
    "links = links.set_index('index')\n",
    "nodes = nodes.set_index('index')"
   ]
  },
  {
   "cell_type": "code",
   "execution_count": null,
   "id": "46bbd7b7",
   "metadata": {},
   "outputs": [],
   "source": []
  },
  {
   "cell_type": "code",
   "execution_count": 61,
   "id": "18b6366c",
   "metadata": {},
   "outputs": [],
   "source": [
    "capacity = dict(zip(links['route_type'], links['capacity']))\n",
    "catchment_radius = dict(zip(links['route_type'], links['catchment_radius']))\n",
    "catchment_radius = {k:float(v) for k,v in catchment_radius.items()}\n",
    "default_catchment_radius = 500\n",
    "\n",
    "params = {\n",
    "    'catchment_radius': catchment_radius, \n",
    "    'capacity': capacity\n",
    "          }\n",
    "\n",
    "default['params'] = params"
   ]
  },
  {
   "cell_type": "code",
   "execution_count": null,
   "id": "92d37f2f",
   "metadata": {},
   "outputs": [],
   "source": []
  },
  {
   "cell_type": "code",
   "execution_count": 62,
   "id": "cb5c3470",
   "metadata": {},
   "outputs": [
    {
     "name": "stdout",
     "output_type": "stream",
     "text": [
      "population? True\n"
     ]
    }
   ],
   "source": [
    "population_file = os.path.join(input_folder, 'population.geojson')\n",
    "population_file_provided = os.path.isfile(population_file)\n",
    "if population_file_provided :\n",
    "    population = gpd.read_file(population_file, engine=io_engine)\n",
    "    if 'index' in population.columns:\n",
    "        population = population.set_index('index')\n",
    "    else:\n",
    "        population.index.name='index'\n",
    "    assert 'density' in population.columns, 'need density column. in km2'\n",
    "    assert population.crs == 4326, 'population.geojson CRS must be EPSG:4326'\n",
    "print('population?',population_file_provided)"
   ]
  },
  {
   "cell_type": "code",
   "execution_count": 63,
   "id": "f5371b7a",
   "metadata": {},
   "outputs": [
    {
     "name": "stdout",
     "output_type": "stream",
     "text": [
      "jobs? True\n"
     ]
    }
   ],
   "source": [
    "jobs_file = os.path.join(input_folder, 'jobs.geojson')\n",
    "jobs_file_provided = os.path.isfile(jobs_file)\n",
    "if jobs_file_provided :\n",
    "    jobs = gpd.read_file(jobs_file, engine=io_engine)\n",
    "    if 'index' in jobs.columns:\n",
    "        jobs = jobs.set_index('index')\n",
    "    else:\n",
    "        jobs.index.name='index'\n",
    "    assert 'density' in jobs.columns, 'need density column. in km2'\n",
    "    assert jobs.crs == 4326, 'population.geojson CRS must be EPSG:4326'\n",
    "print('jobs?',jobs_file_provided)"
   ]
  },
  {
   "cell_type": "code",
   "execution_count": 64,
   "id": "f18f9f49",
   "metadata": {},
   "outputs": [
    {
     "name": "stdout",
     "output_type": "stream",
     "text": [
      "tourists? True\n"
     ]
    }
   ],
   "source": [
    "tourists_file = os.path.join(input_folder, 'tourists.geojson')\n",
    "tourists_file_provided = os.path.isfile(tourists_file)\n",
    "if tourists_file_provided :\n",
    "    tourists = gpd.read_file(tourists_file, engine=io_engine)\n",
    "    if 'index' in tourists.columns:\n",
    "        tourists = tourists.set_index('index')\n",
    "    else:\n",
    "        tourists.index.name='index'\n",
    "    assert 'density' in tourists.columns, 'need density column. in km2'\n",
    "    assert tourists.crs == 4326, 'population.geojson CRS must be EPSG:4326'\n",
    "print('tourists?',tourists_file_provided)"
   ]
  },
  {
   "cell_type": "code",
   "execution_count": 65,
   "id": "a158ccdb",
   "metadata": {},
   "outputs": [
    {
     "name": "stdout",
     "output_type": "stream",
     "text": [
      "rnodes? False\n"
     ]
    }
   ],
   "source": [
    "rnodes_file = os.path.join(road_folder, 'road_nodes.geojson')\n",
    "rnodes_file_provided = os.path.isfile(rnodes_file)\n",
    "if rnodes_file_provided:\n",
    "    rnodes = gpd.read_file(os.path.join(road_folder, 'road_nodes.geojson'), engine=io_engine)\n",
    "    rnodes = rnodes.set_index('index')\n",
    "    rlinks = gpd.read_file(os.path.join(road_folder, 'road_links.geojson'), engine=io_engine)\n",
    "    rlinks = rlinks.set_index('index')\n",
    "print('rnodes?',rnodes_file_provided)"
   ]
  },
  {
   "cell_type": "code",
   "execution_count": 66,
   "id": "f627fb62",
   "metadata": {},
   "outputs": [
    {
     "name": "stdout",
     "output_type": "stream",
     "text": [
      "od? False\n"
     ]
    }
   ],
   "source": [
    "od_file = os.path.join(od_folder, 'od.geojson')\n",
    "od_file_provided = os.path.isfile(od_file)\n",
    "if od_file_provided:\n",
    "    od_test = gpd.read_file(od_file, engine=io_engine)\n",
    "    if 'name' not in od_test.columns:\n",
    "        od_test['name'] = od_test['index']\n",
    "    od_test['name'] = od_test['name'].fillna(od_test['index'].astype(str))\n",
    "print('od?',od_file_provided)"
   ]
  },
  {
   "cell_type": "code",
   "execution_count": null,
   "id": "b74a6070",
   "metadata": {},
   "outputs": [],
   "source": []
  },
  {
   "cell_type": "markdown",
   "id": "933c03f3",
   "metadata": {},
   "source": [
    "# People catchment"
   ]
  },
  {
   "cell_type": "code",
   "execution_count": 67,
   "id": "df034d31",
   "metadata": {},
   "outputs": [
    {
     "name": "stderr",
     "output_type": "stream",
     "text": [
      "/tmp/ipykernel_331324/550055817.py:2: UserWarning: Geometry is in a geographic CRS. Results from 'centroid' are likely incorrect. Use 'GeoSeries.to_crs()' to re-project geometries to a projected CRS before this operation.\n",
      "\n",
      "  centroid = [*LineString(nodes.centroid.values).centroid.coords][0]\n"
     ]
    },
    {
     "data": {
      "text/plain": [
       "32637"
      ]
     },
     "execution_count": 67,
     "metadata": {},
     "output_type": "execute_result"
    }
   ],
   "source": [
    "# find meters CRS\n",
    "centroid = [*LineString(nodes.centroid.values).centroid.coords][0]\n",
    "crs = get_epsg(centroid[1],centroid[0])\n",
    "crs"
   ]
  },
  {
   "cell_type": "code",
   "execution_count": 68,
   "id": "ac854281",
   "metadata": {},
   "outputs": [
    {
     "data": {
      "text/plain": [
       "500.0"
      ]
     },
     "execution_count": 68,
     "metadata": {},
     "output_type": "execute_result"
    }
   ],
   "source": [
    "max_dist = max(max(catchment_radius.values()), default_catchment_radius)\n",
    "max_dist"
   ]
  },
  {
   "cell_type": "code",
   "execution_count": 69,
   "id": "6ed69263",
   "metadata": {},
   "outputs": [
    {
     "name": "stdout",
     "output_type": "stream",
     "text": [
      "num route_id: 19\n",
      "num route_type: 3\n"
     ]
    }
   ],
   "source": [
    "print('num route_id:', len(links['route_id'].unique()))\n",
    "print('num route_type:', len(links['route_type'].unique()))"
   ]
  },
  {
   "cell_type": "code",
   "execution_count": 70,
   "id": "dc317930",
   "metadata": {},
   "outputs": [],
   "source": [
    "#init results dfs\n",
    "df_route_id = pd.DataFrame(index=links['route_id'].unique())\n",
    "df_route_id.index.name = 'route_id'\n",
    "df_route_id = df_route_id.reset_index()\n",
    "df_route_id = df_route_id.merge(links[['route_id', 'route_type', 'capacity', 'headway']], on='route_id', how='left')\n",
    "df_route_id = df_route_id.rename(columns={'capacity': 'veh_capacity (PAX)'})\n",
    "df_route_id = df_route_id.drop_duplicates()\n",
    "df_route_id = df_route_id.set_index('route_id')\n",
    "\n",
    "df_route_type = pd.DataFrame(index=links['route_type'].unique())\n",
    "df_route_type.index.name='route_type'"
   ]
  },
  {
   "cell_type": "code",
   "execution_count": 71,
   "id": "45bc4d79",
   "metadata": {},
   "outputs": [],
   "source": [
    "def get_catchment(col='route_id', node_dist=None):\n",
    "    #get all nodes with col filter\n",
    "    link = links.groupby(col)[['a', 'b', 'route_type']].agg({'a': set, 'b': set, 'route_type':'first'})\n",
    "    link['node'] = link.apply(lambda row: row['a'].union(row['b']), axis=1)\n",
    "    link = link.drop(columns=['a', 'b'])\n",
    "    # add catchment radius for the route_type\n",
    "    link['catchment_radius'] = link['route_type'].apply(lambda x: catchment_radius.get(x, default_catchment_radius))\n",
    "\n",
    "    col_exist = col == 'route_type' # cannot explode if index == route_type (a column)\n",
    "    link = link.explode('node').reset_index(drop=col_exist)\n",
    "    link = node_dist.merge(link, left_on='node_index', right_on='node')\n",
    "    #filter by distance\n",
    "    link = link[link['distances'] <= link['catchment_radius']]\n",
    "    #drop duplicated mesh nodes (we count only one time)\n",
    "    link = link.drop_duplicates(subset=['mesh_index', col], keep='first')\n",
    "\n",
    "    return link.groupby(col)['population'].sum().to_dict()"
   ]
  },
  {
   "cell_type": "markdown",
   "id": "819cd6ec",
   "metadata": {},
   "source": [
    "## 1. Population"
   ]
  },
  {
   "cell_type": "markdown",
   "id": "08f6a33b",
   "metadata": {},
   "source": [
    "### Preparation"
   ]
  },
  {
   "cell_type": "code",
   "execution_count": 72,
   "id": "8178d208",
   "metadata": {},
   "outputs": [
    {
     "name": "stdout",
     "output_type": "stream",
     "text": [
      "1046.2109408207182\n"
     ]
    }
   ],
   "source": [
    "if population_file_provided : \n",
    "    population['area (km2)'] = population.to_crs(crs).area * 1e-6\n",
    "    print(population['area (km2)'].sum())"
   ]
  },
  {
   "cell_type": "code",
   "execution_count": 73,
   "id": "283a2929",
   "metadata": {},
   "outputs": [
    {
     "name": "stdout",
     "output_type": "stream",
     "text": [
      "162117.16124220772\n"
     ]
    }
   ],
   "source": [
    "if population_file_provided :\n",
    "    population['population'] = population['density'] * population['area (km2)']\n",
    "    print(population['population'].sum())"
   ]
  },
  {
   "cell_type": "markdown",
   "id": "220bbb67",
   "metadata": {},
   "source": [
    "### Mesh"
   ]
  },
  {
   "cell_type": "code",
   "execution_count": 75,
   "id": "e6f6fe3d",
   "metadata": {},
   "outputs": [
    {
     "name": "stdout",
     "output_type": "stream",
     "text": [
      "38 nodes in multiple zones. will be match to a single zone.\n",
      "3 unfounded zones\n",
      "Unfound zones centroid will be added to mesh\n"
     ]
    }
   ],
   "source": [
    "if not population_file_provided:\n",
    "    mesh_pop = gpd.GeoDataFrame(index=[0],data={'zone':'centroid','population':0},geometry=[Point(centroid[0],centroid[1])])\n",
    "    mesh_pop.index.name = 'index'\n",
    "    mesh_pop.crs=4326\n",
    "    if rnodes_file_provided:\n",
    "        mesh_pop['node_index'] = rnodes.index[0]\n",
    "elif rnodes_file_provided:\n",
    "    # use rnodes as mesh.\n",
    "    print('using road_nodes')\n",
    "    mesh_pop = population_to_mesh(population, mesh=rnodes, step=step_size, col='population', fill_missing='nearest')\n",
    "else:\n",
    "    # create a mesh\n",
    "    #0.01 = 1km 0.005 = 500m\n",
    "    mesh_pop = population_to_mesh(population, step=step_size, col = 'population', fill_missing='centroid')"
   ]
  },
  {
   "cell_type": "code",
   "execution_count": 76,
   "id": "6a276040",
   "metadata": {},
   "outputs": [],
   "source": [
    "mesh_pop.to_file(output_folder + 'population_mesh.geojson',driver='GeoJSON',engine=io_engine)"
   ]
  },
  {
   "cell_type": "markdown",
   "id": "dfbafa49",
   "metadata": {},
   "source": [
    "### Catchment"
   ]
  },
  {
   "cell_type": "code",
   "execution_count": 77,
   "id": "aae1e149",
   "metadata": {},
   "outputs": [],
   "source": [
    "# find TC nodes to mesh distance"
   ]
  },
  {
   "cell_type": "code",
   "execution_count": 78,
   "id": "ffc2ca97",
   "metadata": {
    "scrolled": true
   },
   "outputs": [],
   "source": [
    "if rnodes_file_provided:\n",
    "    print('using road_nodes')\n",
    "    node_dist_pop = get_routing_distances(nodes, rnodes, rlinks, mesh_pop, 'length', max_dist)\n",
    "else:\n",
    "    node_dist_pop = get_acf_distances(nodes, mesh_pop, crs, max_dist)"
   ]
  },
  {
   "cell_type": "markdown",
   "id": "3480e8ac",
   "metadata": {},
   "source": [
    "### Metrics"
   ]
  },
  {
   "cell_type": "code",
   "execution_count": 79,
   "id": "e18e10d7",
   "metadata": {},
   "outputs": [
    {
     "name": "stdout",
     "output_type": "stream",
     "text": [
      "88906.13412295088\n"
     ]
    }
   ],
   "source": [
    "res_route_pop = get_catchment('route_id', node_dist=node_dist_pop)\n",
    "\n",
    "df_route_id['catchment population'] = res_route_pop\n",
    "print(sum([item for key,item in res_route_pop.items()]))"
   ]
  },
  {
   "cell_type": "code",
   "execution_count": 80,
   "id": "06d98402",
   "metadata": {},
   "outputs": [
    {
     "name": "stdout",
     "output_type": "stream",
     "text": [
      "65704.22645771733\n"
     ]
    }
   ],
   "source": [
    "res_mode_pop = get_catchment('route_type', node_dist=node_dist_pop)\n",
    "\n",
    "df_route_type['catchment population'] = res_mode_pop\n",
    "print(sum([item for key,item in res_mode_pop.items()]))"
   ]
  },
  {
   "cell_type": "code",
   "execution_count": 81,
   "id": "5ff69b2f",
   "metadata": {},
   "outputs": [],
   "source": [
    "if False:\n",
    "    links['network']=True\n",
    "    res=[]\n",
    "    dists = [0,1,10,20,50,100,250,500,800,1000]\n",
    "    for dist in dists:\n",
    "        col='network'\n",
    "        link = links.groupby(col)[['a','b','route_type']].agg({'a':set,'b':set,'route_type':'first'})\n",
    "        link['node'] = link.apply(lambda row: row['a'].union(row['b']), axis=1)\n",
    "        link = link.drop(columns=['a','b'])\n",
    "        # add catchment radius for the route_type\n",
    "        link['catchment_radius'] =dist\n",
    "\n",
    "        col_exist = col == 'route_type' # cannot explode if index == route_type (a column)\n",
    "        link = link.explode('node').reset_index(drop=col_exist)\n",
    "        link = node_dist.merge(link, left_on='node_index', right_on='node')\n",
    "        #filter by distance\n",
    "        link = link[link['distances'] <= link['catchment_radius']]\n",
    "        #drop duplicated mesh nodes (we count only one time)\n",
    "        link = link.drop_duplicates(subset=['mesh_index',col],keep='first')\n",
    "        volume = link['population'].sum()\n",
    "        res.append(volume)\n",
    "    plt.plot(dists,res)"
   ]
  },
  {
   "cell_type": "markdown",
   "id": "4513bbff",
   "metadata": {},
   "source": [
    "## 2. Jobs"
   ]
  },
  {
   "cell_type": "markdown",
   "id": "c151be3b",
   "metadata": {},
   "source": [
    "### Preparation"
   ]
  },
  {
   "cell_type": "code",
   "execution_count": 82,
   "id": "332ff2c8",
   "metadata": {},
   "outputs": [
    {
     "name": "stdout",
     "output_type": "stream",
     "text": [
      "1046.2109408207182\n"
     ]
    }
   ],
   "source": [
    "if jobs_file_provided : \n",
    "    jobs['area (km2)'] = jobs.to_crs(crs).area * 1e-6\n",
    "    print(jobs['area (km2)'].sum())"
   ]
  },
  {
   "cell_type": "code",
   "execution_count": 83,
   "id": "b5ca5c36",
   "metadata": {},
   "outputs": [
    {
     "name": "stdout",
     "output_type": "stream",
     "text": [
      "100377.43417597521\n"
     ]
    }
   ],
   "source": [
    "if jobs_file_provided :\n",
    "    jobs['population'] = jobs['density'] * jobs['area (km2)']\n",
    "    print(jobs['population'].sum())"
   ]
  },
  {
   "cell_type": "markdown",
   "id": "499e3749",
   "metadata": {},
   "source": [
    "### Mesh"
   ]
  },
  {
   "cell_type": "code",
   "execution_count": 85,
   "id": "b853cecc",
   "metadata": {},
   "outputs": [
    {
     "name": "stdout",
     "output_type": "stream",
     "text": [
      "38 nodes in multiple zones. will be match to a single zone.\n",
      "3 unfounded zones\n",
      "Unfound zones centroid will be added to mesh\n"
     ]
    }
   ],
   "source": [
    "if not jobs_file_provided:\n",
    "    mesh_jobs = gpd.GeoDataFrame(index=[0],data={'zone':'centroid','population':0},geometry=[Point(centroid[0],centroid[1])])\n",
    "    mesh_jobs.index.name = 'index'\n",
    "    mesh_jobs.crs=4326\n",
    "    if rnodes_file_provided:\n",
    "        mesh_jobs['node_index'] = rnodes.index[0]\n",
    "elif rnodes_file_provided:\n",
    "    # use rnodes as mesh.\n",
    "    print('using road_nodes')\n",
    "    mesh_jobs = population_to_mesh(jobs, mesh=rnodes, step=step_size, col='population', fill_missing='nearest')\n",
    "else:\n",
    "    # create a mesh\n",
    "    #0.01 = 1km 0.005 = 500m\n",
    "    mesh_jobs = population_to_mesh(jobs, step=step_size, col='population', fill_missing='centroid')"
   ]
  },
  {
   "cell_type": "code",
   "execution_count": 86,
   "id": "56f4a3f9",
   "metadata": {},
   "outputs": [],
   "source": [
    "mesh_jobs.to_file(output_folder + 'jobs_mesh.geojson', driver='GeoJSON', engine=io_engine)"
   ]
  },
  {
   "cell_type": "markdown",
   "id": "0a55532b",
   "metadata": {},
   "source": [
    "### Catchment"
   ]
  },
  {
   "cell_type": "code",
   "execution_count": 87,
   "id": "55250b8a",
   "metadata": {},
   "outputs": [],
   "source": [
    "# find TC nodes to mesh distance"
   ]
  },
  {
   "cell_type": "code",
   "execution_count": 88,
   "id": "a4cd4489",
   "metadata": {},
   "outputs": [],
   "source": [
    "if rnodes_file_provided:\n",
    "    print('using road_nodes')\n",
    "    node_dist_jobs = get_routing_distances(nodes, rnodes, rlinks, mesh_jobs, 'length', max_dist)\n",
    "else:\n",
    "    node_dist_jobs = get_acf_distances(nodes, mesh_jobs, crs, max_dist)"
   ]
  },
  {
   "cell_type": "markdown",
   "id": "1f1dbc0f",
   "metadata": {},
   "source": [
    "### Metrics"
   ]
  },
  {
   "cell_type": "code",
   "execution_count": 89,
   "id": "dbbbce2f",
   "metadata": {},
   "outputs": [
    {
     "name": "stdout",
     "output_type": "stream",
     "text": [
      "68815.21138011852\n"
     ]
    }
   ],
   "source": [
    "res_route_jobs = get_catchment('route_id', node_dist=node_dist_jobs)\n",
    "\n",
    "df_route_id['catchment jobs'] = res_route_jobs\n",
    "print(sum([item for key,item in res_route_jobs.items()]))"
   ]
  },
  {
   "cell_type": "code",
   "execution_count": 90,
   "id": "c02af3bb",
   "metadata": {},
   "outputs": [
    {
     "name": "stdout",
     "output_type": "stream",
     "text": [
      "68815.21138011852\n"
     ]
    }
   ],
   "source": [
    "res_mode_jobs = get_catchment('route_type', node_dist=node_dist_jobs)\n",
    "\n",
    "df_route_type['catchment jobs'] = res_mode_jobs\n",
    "print(sum([item for key,item in res_route_jobs.items()]))"
   ]
  },
  {
   "cell_type": "markdown",
   "id": "9356e21b",
   "metadata": {},
   "source": [
    "## 3. Tourists"
   ]
  },
  {
   "cell_type": "markdown",
   "id": "0f921fc8",
   "metadata": {},
   "source": [
    "### Preparation"
   ]
  },
  {
   "cell_type": "code",
   "execution_count": 91,
   "id": "48c33202",
   "metadata": {},
   "outputs": [
    {
     "name": "stdout",
     "output_type": "stream",
     "text": [
      "1046.2109408207182\n"
     ]
    }
   ],
   "source": [
    "if tourists_file_provided : \n",
    "    tourists['area (km2)'] = tourists.to_crs(crs).area * 1e-6\n",
    "    print(tourists['area (km2)'].sum())"
   ]
  },
  {
   "cell_type": "code",
   "execution_count": 92,
   "id": "896cd02f",
   "metadata": {},
   "outputs": [
    {
     "name": "stdout",
     "output_type": "stream",
     "text": [
      "73942.85116376789\n"
     ]
    }
   ],
   "source": [
    "if tourists_file_provided :\n",
    "    tourists['population'] = tourists['density'] * tourists['area (km2)']\n",
    "    print(tourists['population'].sum())"
   ]
  },
  {
   "cell_type": "markdown",
   "id": "c5e9bd81",
   "metadata": {},
   "source": [
    "### Mesh"
   ]
  },
  {
   "cell_type": "code",
   "execution_count": 93,
   "id": "5fa44360",
   "metadata": {},
   "outputs": [
    {
     "name": "stdout",
     "output_type": "stream",
     "text": [
      "38 nodes in multiple zones. will be match to a single zone.\n",
      "8 unfounded zones\n",
      "Unfound zones centroid will be added to mesh\n"
     ]
    }
   ],
   "source": [
    "if not tourists_file_provided:\n",
    "    mesh_tour = gpd.GeoDataFrame(index=[0],data={'zone':'centroid','population':0},geometry=[Point(centroid[0],centroid[1])])\n",
    "    mesh_tour.index.name = 'index'\n",
    "    mesh_tour.crs=4326\n",
    "    if rnodes_file_provided:\n",
    "        mesh_tour['node_index'] = rnodes.index[0]\n",
    "elif rnodes_file_provided:\n",
    "    # use rnodes as mesh.\n",
    "    print('using road_nodes')\n",
    "    mesh_tour = population_to_mesh(tourists, mesh=rnodes, step=step_size, col='population', fill_missing='nearest')\n",
    "else:\n",
    "    # create a mesh\n",
    "    #0.01 = 1km 0.005 = 500m\n",
    "    mesh_tour = population_to_mesh(tourists, step=step_size, col='population', fill_missing='centroid')"
   ]
  },
  {
   "cell_type": "code",
   "execution_count": 94,
   "id": "34249d6c",
   "metadata": {},
   "outputs": [],
   "source": [
    "mesh_tour.to_file(output_folder + 'tourists_mesh.geojson', driver='GeoJSON', engine=io_engine)"
   ]
  },
  {
   "cell_type": "markdown",
   "id": "96b22cd1",
   "metadata": {},
   "source": [
    "### Catchment"
   ]
  },
  {
   "cell_type": "code",
   "execution_count": 95,
   "id": "0f319a14",
   "metadata": {},
   "outputs": [],
   "source": [
    "# find TC nodes to mesh distance"
   ]
  },
  {
   "cell_type": "code",
   "execution_count": 96,
   "id": "345f0c85",
   "metadata": {},
   "outputs": [],
   "source": [
    "if rnodes_file_provided:\n",
    "    print('using road_nodes')\n",
    "    node_dist_tour = get_routing_distances(nodes, rnodes, rlinks, mesh_tour, 'length', max_dist)\n",
    "else:\n",
    "    node_dist_tour = get_acf_distances(nodes, mesh_tour, crs, max_dist)"
   ]
  },
  {
   "cell_type": "markdown",
   "id": "b2b6dea2",
   "metadata": {},
   "source": [
    "### Metrics"
   ]
  },
  {
   "cell_type": "code",
   "execution_count": 97,
   "id": "a25661ef",
   "metadata": {},
   "outputs": [
    {
     "name": "stdout",
     "output_type": "stream",
     "text": [
      "50319.52410738588\n"
     ]
    }
   ],
   "source": [
    "res_route_tour = get_catchment('route_id', node_dist=node_dist_tour)\n",
    "\n",
    "df_route_id['catchment tourists'] = res_route_tour\n",
    "print(sum([item for key,item in res_route_tour.items()]))"
   ]
  },
  {
   "cell_type": "code",
   "execution_count": 98,
   "id": "af2e8f81",
   "metadata": {},
   "outputs": [
    {
     "name": "stdout",
     "output_type": "stream",
     "text": [
      "36365.802079383764\n"
     ]
    }
   ],
   "source": [
    "res_route_tour = get_catchment('route_type', node_dist=node_dist_tour)\n",
    "\n",
    "df_route_type['catchment tourists'] = res_route_tour\n",
    "print(sum([item for key,item in res_route_tour.items()]))"
   ]
  },
  {
   "cell_type": "markdown",
   "id": "de5d12fd",
   "metadata": {},
   "source": [
    "# Frequency"
   ]
  },
  {
   "cell_type": "code",
   "execution_count": 99,
   "id": "0279d691",
   "metadata": {},
   "outputs": [],
   "source": [
    "# Suppose that headway is the same in both directions : keep the minimum value\n",
    "idx = df_route_id.groupby(level=0)['headway'].idxmin()\n",
    "df_route_id = df_route_id.loc[idx]\n",
    "\n",
    "df_route_id = df_route_id.rename(columns={'headway': 'headway (s)'})\n",
    "df_route_id = df_route_id.sort_values('route_type', ascending=False)"
   ]
  },
  {
   "cell_type": "code",
   "execution_count": 100,
   "id": "3f251696",
   "metadata": {},
   "outputs": [],
   "source": [
    "links['frequency'] = 1/links['headway']"
   ]
  },
  {
   "cell_type": "code",
   "execution_count": 101,
   "id": "3829349f",
   "metadata": {},
   "outputs": [
    {
     "name": "stdout",
     "output_type": "stream",
     "text": [
      "45.78569477963748\n"
     ]
    }
   ],
   "source": [
    "res = (links.groupby('route_id')['frequency'].agg(np.nanmean)*3600).to_dict()\n",
    "\n",
    "df_route_id['frequency (veh/hours)'] = res\n",
    "print(np.nansum([item for key,item in res.items()]))"
   ]
  },
  {
   "cell_type": "code",
   "execution_count": 102,
   "id": "e3035415",
   "metadata": {},
   "outputs": [
    {
     "name": "stdout",
     "output_type": "stream",
     "text": [
      "14.770594287907802\n"
     ]
    }
   ],
   "source": [
    "res = (links.groupby('route_type')['frequency'].agg(np.nanmean)*3600).to_dict()\n",
    "\n",
    "df_route_type['frequency (veh/hours)'] = res\n",
    "print(sum([item for key,item in res.items()]))"
   ]
  },
  {
   "cell_type": "code",
   "execution_count": 103,
   "id": "b1017844",
   "metadata": {},
   "outputs": [
    {
     "name": "stdout",
     "output_type": "stream",
     "text": [
      "45.78569477963748\n"
     ]
    }
   ],
   "source": [
    "link = (links.groupby(['route_id','trip_id'])[['frequency']].agg(np.nanmean)*3600)\n",
    "res = link.reset_index().set_index('route_id')['frequency'].to_dict()\n",
    "print(np.nansum([item for key,item in res.items()]))"
   ]
  },
  {
   "cell_type": "code",
   "execution_count": 104,
   "id": "99bf3c5d",
   "metadata": {},
   "outputs": [
    {
     "name": "stdout",
     "output_type": "stream",
     "text": [
      "14.282091733757062\n"
     ]
    }
   ],
   "source": [
    "link = (links.groupby(['route_type','trip_id'])[['frequency']].agg(np.nanmean)*3600)\n",
    "res = link.reset_index().set_index('route_type')['frequency'].to_dict()\n",
    "print(np.nansum([item for key,item in res.items()]))"
   ]
  },
  {
   "cell_type": "markdown",
   "id": "06a9b56e",
   "metadata": {},
   "source": [
    "# Operational fleet"
   ]
  },
  {
   "cell_type": "code",
   "execution_count": 105,
   "id": "d73f2028",
   "metadata": {},
   "outputs": [],
   "source": [
    "def get_fleet(col='route_id'):\n",
    "    link = links.groupby([col,'trip_id'])[['time','frequency']].agg({'time':np.nansum,'frequency':np.nanmean})\n",
    "    link['fleet'] = np.ceil(link['frequency'] * link['time'])\n",
    "    return link.reset_index().groupby(col)['fleet'].agg(np.nansum).to_dict()"
   ]
  },
  {
   "cell_type": "code",
   "execution_count": 106,
   "id": "88e247d3",
   "metadata": {},
   "outputs": [
    {
     "name": "stdout",
     "output_type": "stream",
     "text": [
      "52.0\n"
     ]
    }
   ],
   "source": [
    "res = get_fleet('route_id')\n",
    "\n",
    "df_route_id['fleet'] = res\n",
    "print(sum([item for key,item in res.items()]))"
   ]
  },
  {
   "cell_type": "code",
   "execution_count": 107,
   "id": "0dc17813",
   "metadata": {},
   "outputs": [
    {
     "name": "stdout",
     "output_type": "stream",
     "text": [
      "52.0\n"
     ]
    }
   ],
   "source": [
    "res = get_fleet('route_type')\n",
    "\n",
    "df_route_type['fleet'] = res\n",
    "print(sum([item for key,item in res.items()]))"
   ]
  },
  {
   "cell_type": "markdown",
   "id": "b0a16eb3",
   "metadata": {},
   "source": [
    "# Line Length"
   ]
  },
  {
   "cell_type": "code",
   "execution_count": 108,
   "id": "5e08e66e",
   "metadata": {},
   "outputs": [],
   "source": [
    "def get_length(col='route_id'):\n",
    "    link = links.groupby([col,'trip_id'])[[length_col]].agg(np.nansum)\n",
    "    if col == 'route_type':\n",
    "        return link.reset_index().groupby(col)[length_col].agg(np.nansum).to_dict()\n",
    "    else:\n",
    "        return link.reset_index().groupby(col)[length_col].agg(np.nanmean).to_dict()"
   ]
  },
  {
   "cell_type": "code",
   "execution_count": 109,
   "id": "bfa2e75e",
   "metadata": {},
   "outputs": [],
   "source": [
    "# rpeparation. if legnth is NaN, or if shsape dist travel exist.\n",
    "\n",
    "length_col = None\n",
    "if 'length' in links.columns and length_col == None:\n",
    "    if len(links[links['length'].isnull()])==0:\n",
    "        length_col = 'length'\n",
    "        \n",
    "if 'shape_dist_traveled' in links.columns and length_col == None:\n",
    "    if len(links[links['shape_dist_traveled'].isnull()])==0:\n",
    "        length_col = 'shape_dist_traveled'\n",
    "\n",
    "if length_col == None:\n",
    "    print('create length from geometry')\n",
    "    links['length'] = links.to_crs(crs).length\n",
    "    length_col = 'length'"
   ]
  },
  {
   "cell_type": "code",
   "execution_count": 110,
   "id": "31db0758",
   "metadata": {},
   "outputs": [
    {
     "name": "stdout",
     "output_type": "stream",
     "text": [
      "730018.0\n"
     ]
    }
   ],
   "source": [
    "res = get_length('route_id')\n",
    "\n",
    "df_route_id['trip length (m)'] = res\n",
    "print(sum([item for key, item in res.items()]))"
   ]
  },
  {
   "cell_type": "code",
   "execution_count": 111,
   "id": "39826011",
   "metadata": {},
   "outputs": [
    {
     "name": "stdout",
     "output_type": "stream",
     "text": [
      "1405912\n"
     ]
    }
   ],
   "source": [
    "res = get_length('route_type')\n",
    "\n",
    "df_route_type['total route length (m)'] = res\n",
    "print(sum([item for key,item in res.items()]))"
   ]
  },
  {
   "cell_type": "markdown",
   "id": "638013ee",
   "metadata": {},
   "source": [
    "# Stations per line"
   ]
  },
  {
   "cell_type": "markdown",
   "id": "1d3091e8",
   "metadata": {},
   "source": [
    "Type de ligne"
   ]
  },
  {
   "cell_type": "code",
   "execution_count": 112,
   "id": "1efcef4b",
   "metadata": {},
   "outputs": [],
   "source": [
    "dict_nb_trips = links[['route_id', 'trip_id']].drop_duplicates().groupby('route_id')['trip_id'].count().to_dict()\n",
    "df_route_id['type'] = df_route_id.index.map(dict_nb_trips)\n",
    "df_route_id['type'] = df_route_id['type'].apply(lambda x: 'circular' if x == 1 else 'linear')"
   ]
  },
  {
   "cell_type": "markdown",
   "id": "10b4778c",
   "metadata": {},
   "source": [
    "Stops sequence"
   ]
  },
  {
   "cell_type": "code",
   "execution_count": 113,
   "id": "e2949ed1",
   "metadata": {},
   "outputs": [],
   "source": [
    "def get_node_sequence(route_id):\n",
    "    links_route = links.loc[links.route_id == route_id]\n",
    "    if df_route_id.loc[route_id]['type'] == 'linear':\n",
    "        if route_id == 'X Airport':\n",
    "            trip_id = route_id.replace(' ', '_') + '_0'\n",
    "        else:\n",
    "            trip_id = route_id + '_0'\n",
    "        links_route = links_route.loc[links_route.trip_id == trip_id]\n",
    "    links_route = links_route.sort_values(by='link_sequence')\n",
    "    nodes_seq = []\n",
    "    for i in range(len(links_route)):\n",
    "        nodes_seq += [links_route.iloc[i]['a']]\n",
    "    nodes_seq += [links_route.iloc[-1]['b']]\n",
    "    return nodes_seq"
   ]
  },
  {
   "cell_type": "code",
   "execution_count": 114,
   "id": "5a8a9479",
   "metadata": {},
   "outputs": [],
   "source": [
    "nodes_stops = dict(zip(nodes.index, nodes['stop_name']))\n",
    "\n",
    "def get_stops_sequence(route_id):\n",
    "    nodes_seq = get_node_sequence(route_id)\n",
    "    stops_seq = []\n",
    "    for node in nodes_seq:\n",
    "        stops_seq += [nodes_stops[node]]\n",
    "    return stops_seq"
   ]
  },
  {
   "cell_type": "code",
   "execution_count": 115,
   "id": "3c20f536",
   "metadata": {},
   "outputs": [],
   "source": [
    "df_route_id['stations sequence'] = [get_stops_sequence(route_id) for route_id in df_route_id.index]\n",
    "df_route_id['nb stations'] = df_route_id['stations sequence'].apply(lambda x: len(x))"
   ]
  },
  {
   "cell_type": "code",
   "execution_count": 116,
   "id": "21e54d0d",
   "metadata": {},
   "outputs": [
    {
     "data": {
      "text/html": [
       "<div>\n",
       "<style scoped>\n",
       "    .dataframe tbody tr th:only-of-type {\n",
       "        vertical-align: middle;\n",
       "    }\n",
       "\n",
       "    .dataframe tbody tr th {\n",
       "        vertical-align: top;\n",
       "    }\n",
       "\n",
       "    .dataframe thead th {\n",
       "        text-align: right;\n",
       "    }\n",
       "</style>\n",
       "<table border=\"1\" class=\"dataframe\">\n",
       "  <thead>\n",
       "    <tr style=\"text-align: right;\">\n",
       "      <th></th>\n",
       "      <th>route_type</th>\n",
       "      <th>veh_capacity (PAX)</th>\n",
       "      <th>headway (s)</th>\n",
       "      <th>catchment population</th>\n",
       "      <th>catchment jobs</th>\n",
       "      <th>catchment tourists</th>\n",
       "      <th>frequency (veh/hours)</th>\n",
       "      <th>fleet</th>\n",
       "      <th>trip length (m)</th>\n",
       "      <th>type</th>\n",
       "      <th>stations sequence</th>\n",
       "      <th>nb stations</th>\n",
       "    </tr>\n",
       "    <tr>\n",
       "      <th>route_id</th>\n",
       "      <th></th>\n",
       "      <th></th>\n",
       "      <th></th>\n",
       "      <th></th>\n",
       "      <th></th>\n",
       "      <th></th>\n",
       "      <th></th>\n",
       "      <th></th>\n",
       "      <th></th>\n",
       "      <th></th>\n",
       "      <th></th>\n",
       "      <th></th>\n",
       "    </tr>\n",
       "  </thead>\n",
       "  <tbody>\n",
       "    <tr>\n",
       "      <th>IC1</th>\n",
       "      <td>coach</td>\n",
       "      <td>60</td>\n",
       "      <td>82740</td>\n",
       "      <td>0.000000</td>\n",
       "      <td>24.532563</td>\n",
       "      <td>6.536221</td>\n",
       "      <td>0.043510</td>\n",
       "      <td>2.0</td>\n",
       "      <td>220773.5</td>\n",
       "      <td>linear</td>\n",
       "      <td>[Winter Park parking, Khaybar]</td>\n",
       "      <td>2</td>\n",
       "    </tr>\n",
       "    <tr>\n",
       "      <th>IC2</th>\n",
       "      <td>coach</td>\n",
       "      <td>60</td>\n",
       "      <td>82740</td>\n",
       "      <td>0.000000</td>\n",
       "      <td>33.079061</td>\n",
       "      <td>15.251183</td>\n",
       "      <td>0.043510</td>\n",
       "      <td>2.0</td>\n",
       "      <td>43251.5</td>\n",
       "      <td>linear</td>\n",
       "      <td>[Winter Park parking, Sharaan Reserve]</td>\n",
       "      <td>2</td>\n",
       "    </tr>\n",
       "    <tr>\n",
       "      <th>V9</th>\n",
       "      <td>coach</td>\n",
       "      <td>60</td>\n",
       "      <td>1839</td>\n",
       "      <td>1586.413402</td>\n",
       "      <td>3135.866229</td>\n",
       "      <td>6024.330627</td>\n",
       "      <td>1.957586</td>\n",
       "      <td>2.0</td>\n",
       "      <td>8768.0</td>\n",
       "      <td>linear</td>\n",
       "      <td>[Winter Park parking, Aljadidah South, Almansh...</td>\n",
       "      <td>3</td>\n",
       "    </tr>\n",
       "    <tr>\n",
       "      <th>V4</th>\n",
       "      <td>coach</td>\n",
       "      <td>60</td>\n",
       "      <td>2669</td>\n",
       "      <td>0.000000</td>\n",
       "      <td>41.830228</td>\n",
       "      <td>57.013720</td>\n",
       "      <td>1.348820</td>\n",
       "      <td>2.0</td>\n",
       "      <td>34570.0</td>\n",
       "      <td>circular</td>\n",
       "      <td>[Winter Park parking, Shaden Resort, Sahary Re...</td>\n",
       "      <td>5</td>\n",
       "    </tr>\n",
       "    <tr>\n",
       "      <th>V3</th>\n",
       "      <td>coach</td>\n",
       "      <td>60</td>\n",
       "      <td>1655</td>\n",
       "      <td>0.000000</td>\n",
       "      <td>228.847172</td>\n",
       "      <td>216.177699</td>\n",
       "      <td>2.175227</td>\n",
       "      <td>5.0</td>\n",
       "      <td>23205.5</td>\n",
       "      <td>linear</td>\n",
       "      <td>[Winter Park parking, Habitas Caravan, Maraya,...</td>\n",
       "      <td>5</td>\n",
       "    </tr>\n",
       "  </tbody>\n",
       "</table>\n",
       "</div>"
      ],
      "text/plain": [
       "         route_type veh_capacity (PAX)  headway (s)  catchment population  \\\n",
       "route_id                                                                    \n",
       "IC1           coach                 60        82740              0.000000   \n",
       "IC2           coach                 60        82740              0.000000   \n",
       "V9            coach                 60         1839           1586.413402   \n",
       "V4            coach                 60         2669              0.000000   \n",
       "V3            coach                 60         1655              0.000000   \n",
       "\n",
       "          catchment jobs  catchment tourists  frequency (veh/hours)  fleet  \\\n",
       "route_id                                                                     \n",
       "IC1            24.532563            6.536221               0.043510    2.0   \n",
       "IC2            33.079061           15.251183               0.043510    2.0   \n",
       "V9           3135.866229         6024.330627               1.957586    2.0   \n",
       "V4             41.830228           57.013720               1.348820    2.0   \n",
       "V3            228.847172          216.177699               2.175227    5.0   \n",
       "\n",
       "          trip length (m)      type  \\\n",
       "route_id                              \n",
       "IC1              220773.5    linear   \n",
       "IC2               43251.5    linear   \n",
       "V9                 8768.0    linear   \n",
       "V4                34570.0  circular   \n",
       "V3                23205.5    linear   \n",
       "\n",
       "                                          stations sequence  nb stations  \n",
       "route_id                                                                  \n",
       "IC1                          [Winter Park parking, Khaybar]            2  \n",
       "IC2                  [Winter Park parking, Sharaan Reserve]            2  \n",
       "V9        [Winter Park parking, Aljadidah South, Almansh...            3  \n",
       "V4        [Winter Park parking, Shaden Resort, Sahary Re...            5  \n",
       "V3        [Winter Park parking, Habitas Caravan, Maraya,...            5  "
      ]
     },
     "execution_count": 116,
     "metadata": {},
     "output_type": "execute_result"
    }
   ],
   "source": [
    "df_route_id.head()"
   ]
  },
  {
   "cell_type": "markdown",
   "id": "cfe620dd",
   "metadata": {},
   "source": [
    "Number of stations per route_type"
   ]
  },
  {
   "cell_type": "code",
   "execution_count": 117,
   "id": "02a5d19f",
   "metadata": {},
   "outputs": [],
   "source": [
    "stations_route_type = pd.DataFrame(df_route_id.groupby('route_type')['stations sequence'].agg(lambda x: list(set(sum(x, [])))))\n",
    "stations_route_type['nb stations'] = stations_route_type['stations sequence'].apply(lambda x: len(x))\n",
    "df_route_type = df_route_type.merge(stations_route_type, left_on=df_route_type.index, right_on=stations_route_type.index, how='left')\n",
    "df_route_type = df_route_type.rename(columns={'key_0': 'route_type'})\n",
    "df_route_type = df_route_type.set_index('route_type')"
   ]
  },
  {
   "cell_type": "markdown",
   "id": "dcdbcd38",
   "metadata": {},
   "source": [
    "Connexions"
   ]
  },
  {
   "cell_type": "code",
   "execution_count": 118,
   "id": "18040dcf",
   "metadata": {},
   "outputs": [],
   "source": [
    "iterable = list(zip(nodes['stop_name'], nodes.index))\n",
    "\n",
    "stops_nodes = defaultdict(set)\n",
    "for key, value in iterable:\n",
    "    stops_nodes[key].add(value)\n",
    "stops_nodes = dict(stops_nodes)"
   ]
  },
  {
   "cell_type": "code",
   "execution_count": 119,
   "id": "646d9612",
   "metadata": {},
   "outputs": [],
   "source": [
    "iterable = list(zip(links['a'], links['route_id']))\n",
    "iterable = iterable + list(zip(links['b'], links['route_id']))\n",
    "\n",
    "nodes_routes = defaultdict(set)\n",
    "for key, value in iterable:\n",
    "    nodes_routes[key].add(value)\n",
    "nodes_routes = dict(nodes_routes)"
   ]
  },
  {
   "cell_type": "code",
   "execution_count": 120,
   "id": "36df5f11",
   "metadata": {},
   "outputs": [],
   "source": [
    "stops_routes = {}\n",
    "\n",
    "for stop, node_list in stops_nodes.items():\n",
    "    routes = set()\n",
    "    for node in node_list:\n",
    "        if node in nodes_routes:\n",
    "            routes.update(nodes_routes[node])\n",
    "    stops_routes[stop] = routes"
   ]
  },
  {
   "cell_type": "code",
   "execution_count": 121,
   "id": "f70cd383",
   "metadata": {},
   "outputs": [],
   "source": [
    "hubs = pd.DataFrame.from_dict(stops_routes, orient='index')\n",
    "hubs['lines'] = hubs.apply(lambda row: [val for val in row if pd.notnull(val)], axis=1)\n",
    "hubs = hubs.drop(columns=[i for i in range(len(hubs.columns) - 1)])\n",
    "hubs['nb_lines'] = hubs['lines'].apply(lambda x: len(x))\n",
    "hubs = hubs.sort_values(by='nb_lines', ascending=False)"
   ]
  },
  {
   "cell_type": "code",
   "execution_count": 122,
   "id": "fc7a2f85",
   "metadata": {},
   "outputs": [],
   "source": [
    "dict_route_type = dict(zip(df_route_id.index, df_route_id['route_type']))\n",
    "route_order = ['coach', 'bus', 'DRT']\n",
    "\n",
    "def lines_to_dict(lines):\n",
    "    route_dict = {route_type: [] for route_type in route_order}\n",
    "    for line in lines:\n",
    "        route_type = dict_route_type.get(line)\n",
    "        if route_type in route_dict:\n",
    "            route_dict[route_type].append(line)\n",
    "    route_dict = {k: sorted(v) for k, v in route_dict.items() if v}\n",
    "    return route_dict\n",
    "\n",
    "hubs['lines'] = hubs['lines'].apply(lines_to_dict)"
   ]
  },
  {
   "cell_type": "code",
   "execution_count": 123,
   "id": "04865fab",
   "metadata": {},
   "outputs": [],
   "source": [
    "from shapely.ops import unary_union\n",
    "\n",
    "def centroid(geometries):\n",
    "    combined_geometry = unary_union(geometries)\n",
    "    return combined_geometry.centroid\n",
    "\n",
    "centroids = pd.DataFrame(nodes.groupby('stop_name')['geometry'].agg(centroid))\n",
    "hubs = hubs.merge(centroids, left_on=hubs.index, right_on=centroids.index, how='left')\n",
    "\n",
    "hubs = hubs.rename(columns={'key_0': 'stop_name'})\n",
    "hubs = hubs.set_index('stop_name')"
   ]
  },
  {
   "cell_type": "code",
   "execution_count": 124,
   "id": "786021ae",
   "metadata": {},
   "outputs": [],
   "source": [
    "hubs['stop_radius'] = hubs['lines'].apply(lambda x: max(catchment_radius[mode] for mode in x.keys()))"
   ]
  },
  {
   "cell_type": "code",
   "execution_count": 125,
   "id": "fc52be24",
   "metadata": {},
   "outputs": [],
   "source": [
    "# Catchment population, jobs, tourists -- BUT TOO LONG (5 min 30)\n",
    "\n",
    "# mesh_pop_stops = mesh_pop[mesh_pop['population'] > 0]\n",
    "# mesh_jobs_stops = mesh_jobs[mesh_jobs['population'] > 0]\n",
    "# mesh_tour_stops = mesh_tour[mesh_tour['population'] > 0]\n",
    "\n",
    "# from geopy.distance import geodesic\n",
    "# def is_within_radius(point, center, radius):\n",
    "#     distance = geodesic((point.y, point.x), (center.y, center.x)).meters\n",
    "#     return distance <= radius\n",
    "\n",
    "# def catchment_pop_stops(row):\n",
    "#     center = row['geometry']\n",
    "#     radius = row['stop_radius']\n",
    "#     population_sum = mesh_pop_stops[mesh_pop_stops.apply(lambda row: is_within_radius(row['geometry'], center, radius), axis=1)]['population'].sum()\n",
    "#     return population_sum\n",
    "\n",
    "# def catchment_jobs_stops(row):\n",
    "#     center = row['geometry']\n",
    "#     radius = row['stop_radius']\n",
    "#     jobs_sum = mesh_jobs_stops[mesh_jobs_stops.apply(lambda row: is_within_radius(row['geometry'], center, radius), axis=1)]['population'].sum()\n",
    "#     return jobs_sum\n",
    "\n",
    "# def catchment_tour_stops(row):\n",
    "#     center = row['geometry']\n",
    "#     radius = row['stop_radius']\n",
    "#     tourists_sum = mesh_tour_stops[mesh_tour_stops.apply(lambda row: is_within_radius(row['geometry'], center, radius), axis=1)]['population'].sum()\n",
    "#     return tourists_sum\n",
    "\n",
    "# hubs['catchment_population'] = hubs.apply(catchment_pop_stops, axis=1)\n",
    "# hubs['catchment_jobs'] = hubs.apply(catchment_jobs_stops, axis=1)\n",
    "# hubs['catchment_tourists'] = hubs.apply(catchment_tour_stops, axis=1)"
   ]
  },
  {
   "cell_type": "code",
   "execution_count": 126,
   "id": "c0a51da0",
   "metadata": {},
   "outputs": [
    {
     "data": {
      "text/html": [
       "<div>\n",
       "<style scoped>\n",
       "    .dataframe tbody tr th:only-of-type {\n",
       "        vertical-align: middle;\n",
       "    }\n",
       "\n",
       "    .dataframe tbody tr th {\n",
       "        vertical-align: top;\n",
       "    }\n",
       "\n",
       "    .dataframe thead th {\n",
       "        text-align: right;\n",
       "    }\n",
       "</style>\n",
       "<table border=\"1\" class=\"dataframe\">\n",
       "  <thead>\n",
       "    <tr style=\"text-align: right;\">\n",
       "      <th></th>\n",
       "      <th>lines</th>\n",
       "      <th>nb_lines</th>\n",
       "      <th>geometry</th>\n",
       "      <th>stop_radius</th>\n",
       "    </tr>\n",
       "    <tr>\n",
       "      <th>stop_name</th>\n",
       "      <th></th>\n",
       "      <th></th>\n",
       "      <th></th>\n",
       "      <th></th>\n",
       "    </tr>\n",
       "  </thead>\n",
       "  <tbody>\n",
       "    <tr>\n",
       "      <th>Winter Park parking</th>\n",
       "      <td>{'coach': ['IC1', 'IC2', 'IC3', 'IC4', 'IC5', ...</td>\n",
       "      <td>13</td>\n",
       "      <td>POINT (37.90674 26.66512)</td>\n",
       "      <td>500.0</td>\n",
       "    </tr>\n",
       "    <tr>\n",
       "      <th>Old Town South</th>\n",
       "      <td>{'coach': ['R1', 'R5', 'V1', 'V2', 'X Airport'...</td>\n",
       "      <td>7</td>\n",
       "      <td>POINT (37.91867 26.61641)</td>\n",
       "      <td>500.0</td>\n",
       "    </tr>\n",
       "    <tr>\n",
       "      <th>Almanshiya</th>\n",
       "      <td>{'coach': ['R1', 'V2', 'V9'], 'DRT': ['R6']}</td>\n",
       "      <td>4</td>\n",
       "      <td>POINT (37.93949 26.60475)</td>\n",
       "      <td>500.0</td>\n",
       "    </tr>\n",
       "    <tr>\n",
       "      <th>Daimumah</th>\n",
       "      <td>{'coach': ['R1', 'R5', 'V2']}</td>\n",
       "      <td>3</td>\n",
       "      <td>POINT (37.92481 26.62847)</td>\n",
       "      <td>500.0</td>\n",
       "    </tr>\n",
       "    <tr>\n",
       "      <th>Dadan Visitors Center</th>\n",
       "      <td>{'coach': ['R1', 'R5', 'V2']}</td>\n",
       "      <td>3</td>\n",
       "      <td>POINT (37.91405 26.64345)</td>\n",
       "      <td>500.0</td>\n",
       "    </tr>\n",
       "    <tr>\n",
       "      <th>...</th>\n",
       "      <td>...</td>\n",
       "      <td>...</td>\n",
       "      <td>...</td>\n",
       "      <td>...</td>\n",
       "    </tr>\n",
       "    <tr>\n",
       "      <th>Medina 7</th>\n",
       "      <td>{'DRT': ['R3']}</td>\n",
       "      <td>1</td>\n",
       "      <td>POINT (37.90514 26.64698)</td>\n",
       "      <td>300.0</td>\n",
       "    </tr>\n",
       "    <tr>\n",
       "      <th>Medina 8</th>\n",
       "      <td>{'DRT': ['R3']}</td>\n",
       "      <td>1</td>\n",
       "      <td>POINT (37.90534 26.64506)</td>\n",
       "      <td>300.0</td>\n",
       "    </tr>\n",
       "    <tr>\n",
       "      <th>Medina 10</th>\n",
       "      <td>{'DRT': ['R3']}</td>\n",
       "      <td>1</td>\n",
       "      <td>POINT (37.90703 26.64304)</td>\n",
       "      <td>300.0</td>\n",
       "    </tr>\n",
       "    <tr>\n",
       "      <th>Medina 11</th>\n",
       "      <td>{'DRT': ['R3']}</td>\n",
       "      <td>1</td>\n",
       "      <td>POINT (37.90781 26.64098)</td>\n",
       "      <td>300.0</td>\n",
       "    </tr>\n",
       "    <tr>\n",
       "      <th>AlUla Sky car wah</th>\n",
       "      <td>{'coach': ['X Airport']}</td>\n",
       "      <td>1</td>\n",
       "      <td>POINT (37.94436 26.57368)</td>\n",
       "      <td>500.0</td>\n",
       "    </tr>\n",
       "  </tbody>\n",
       "</table>\n",
       "<p>96 rows × 4 columns</p>\n",
       "</div>"
      ],
      "text/plain": [
       "                                                                   lines  \\\n",
       "stop_name                                                                  \n",
       "Winter Park parking    {'coach': ['IC1', 'IC2', 'IC3', 'IC4', 'IC5', ...   \n",
       "Old Town South         {'coach': ['R1', 'R5', 'V1', 'V2', 'X Airport'...   \n",
       "Almanshiya                  {'coach': ['R1', 'V2', 'V9'], 'DRT': ['R6']}   \n",
       "Daimumah                                   {'coach': ['R1', 'R5', 'V2']}   \n",
       "Dadan Visitors Center                      {'coach': ['R1', 'R5', 'V2']}   \n",
       "...                                                                  ...   \n",
       "Medina 7                                                 {'DRT': ['R3']}   \n",
       "Medina 8                                                 {'DRT': ['R3']}   \n",
       "Medina 10                                                {'DRT': ['R3']}   \n",
       "Medina 11                                                {'DRT': ['R3']}   \n",
       "AlUla Sky car wah                               {'coach': ['X Airport']}   \n",
       "\n",
       "                       nb_lines                   geometry  stop_radius  \n",
       "stop_name                                                                \n",
       "Winter Park parking          13  POINT (37.90674 26.66512)        500.0  \n",
       "Old Town South                7  POINT (37.91867 26.61641)        500.0  \n",
       "Almanshiya                    4  POINT (37.93949 26.60475)        500.0  \n",
       "Daimumah                      3  POINT (37.92481 26.62847)        500.0  \n",
       "Dadan Visitors Center         3  POINT (37.91405 26.64345)        500.0  \n",
       "...                         ...                        ...          ...  \n",
       "Medina 7                      1  POINT (37.90514 26.64698)        300.0  \n",
       "Medina 8                      1  POINT (37.90534 26.64506)        300.0  \n",
       "Medina 10                     1  POINT (37.90703 26.64304)        300.0  \n",
       "Medina 11                     1  POINT (37.90781 26.64098)        300.0  \n",
       "AlUla Sky car wah             1  POINT (37.94436 26.57368)        500.0  \n",
       "\n",
       "[96 rows x 4 columns]"
      ]
     },
     "execution_count": 126,
     "metadata": {},
     "output_type": "execute_result"
    }
   ],
   "source": [
    "hubs"
   ]
  },
  {
   "cell_type": "code",
   "execution_count": 127,
   "id": "c31852fb",
   "metadata": {},
   "outputs": [],
   "source": [
    "hubs.to_csv(output_folder + 'hubs.csv')\n",
    "\n",
    "hubs = gpd.GeoDataFrame(hubs, geometry='geometry', crs='EPSG:4326')\n",
    "hubs.to_file(output_folder + 'hubs.geojson')"
   ]
  },
  {
   "cell_type": "code",
   "execution_count": 128,
   "id": "72b44f0c",
   "metadata": {},
   "outputs": [],
   "source": [
    "def get_connections(row):\n",
    "    route_id = row.name\n",
    "    connections = set()\n",
    "    for station in row['stations sequence']:\n",
    "        if station in stops_routes:\n",
    "            connections.update(stops_routes[station])\n",
    "    connections.discard(route_id)  # Supprimer la route_id de l'ensemble des connexions\n",
    "    return lines_to_dict(connections), len(connections)\n",
    "\n",
    "df_route_id[['connexions', 'nb lines connected']] = df_route_id.apply(lambda row: pd.Series(get_connections(row)), axis=1)"
   ]
  },
  {
   "cell_type": "code",
   "execution_count": 129,
   "id": "8bcf900f",
   "metadata": {},
   "outputs": [
    {
     "data": {
      "text/html": [
       "<div>\n",
       "<style scoped>\n",
       "    .dataframe tbody tr th:only-of-type {\n",
       "        vertical-align: middle;\n",
       "    }\n",
       "\n",
       "    .dataframe tbody tr th {\n",
       "        vertical-align: top;\n",
       "    }\n",
       "\n",
       "    .dataframe thead th {\n",
       "        text-align: right;\n",
       "    }\n",
       "</style>\n",
       "<table border=\"1\" class=\"dataframe\">\n",
       "  <thead>\n",
       "    <tr style=\"text-align: right;\">\n",
       "      <th></th>\n",
       "      <th>route_type</th>\n",
       "      <th>veh_capacity (PAX)</th>\n",
       "      <th>headway (s)</th>\n",
       "      <th>catchment population</th>\n",
       "      <th>catchment jobs</th>\n",
       "      <th>catchment tourists</th>\n",
       "      <th>frequency (veh/hours)</th>\n",
       "      <th>fleet</th>\n",
       "      <th>trip length (m)</th>\n",
       "      <th>type</th>\n",
       "      <th>stations sequence</th>\n",
       "      <th>nb stations</th>\n",
       "      <th>connexions</th>\n",
       "      <th>nb lines connected</th>\n",
       "    </tr>\n",
       "    <tr>\n",
       "      <th>route_id</th>\n",
       "      <th></th>\n",
       "      <th></th>\n",
       "      <th></th>\n",
       "      <th></th>\n",
       "      <th></th>\n",
       "      <th></th>\n",
       "      <th></th>\n",
       "      <th></th>\n",
       "      <th></th>\n",
       "      <th></th>\n",
       "      <th></th>\n",
       "      <th></th>\n",
       "      <th></th>\n",
       "      <th></th>\n",
       "    </tr>\n",
       "  </thead>\n",
       "  <tbody>\n",
       "    <tr>\n",
       "      <th>IC1</th>\n",
       "      <td>coach</td>\n",
       "      <td>60</td>\n",
       "      <td>82740</td>\n",
       "      <td>0.000000</td>\n",
       "      <td>24.532563</td>\n",
       "      <td>6.536221</td>\n",
       "      <td>0.043510</td>\n",
       "      <td>2.0</td>\n",
       "      <td>220773.5</td>\n",
       "      <td>linear</td>\n",
       "      <td>[Winter Park parking, Khaybar]</td>\n",
       "      <td>2</td>\n",
       "      <td>{'coach': ['IC2', 'IC3', 'IC4', 'IC5', 'V1', '...</td>\n",
       "      <td>12</td>\n",
       "    </tr>\n",
       "    <tr>\n",
       "      <th>IC2</th>\n",
       "      <td>coach</td>\n",
       "      <td>60</td>\n",
       "      <td>82740</td>\n",
       "      <td>0.000000</td>\n",
       "      <td>33.079061</td>\n",
       "      <td>15.251183</td>\n",
       "      <td>0.043510</td>\n",
       "      <td>2.0</td>\n",
       "      <td>43251.5</td>\n",
       "      <td>linear</td>\n",
       "      <td>[Winter Park parking, Sharaan Reserve]</td>\n",
       "      <td>2</td>\n",
       "      <td>{'coach': ['IC1', 'IC3', 'IC4', 'IC5', 'V1', '...</td>\n",
       "      <td>12</td>\n",
       "    </tr>\n",
       "    <tr>\n",
       "      <th>V9</th>\n",
       "      <td>coach</td>\n",
       "      <td>60</td>\n",
       "      <td>1839</td>\n",
       "      <td>1586.413402</td>\n",
       "      <td>3135.866229</td>\n",
       "      <td>6024.330627</td>\n",
       "      <td>1.957586</td>\n",
       "      <td>2.0</td>\n",
       "      <td>8768.0</td>\n",
       "      <td>linear</td>\n",
       "      <td>[Winter Park parking, Aljadidah South, Almansh...</td>\n",
       "      <td>3</td>\n",
       "      <td>{'coach': ['IC1', 'IC2', 'IC3', 'IC4', 'IC5', ...</td>\n",
       "      <td>14</td>\n",
       "    </tr>\n",
       "    <tr>\n",
       "      <th>V4</th>\n",
       "      <td>coach</td>\n",
       "      <td>60</td>\n",
       "      <td>2669</td>\n",
       "      <td>0.000000</td>\n",
       "      <td>41.830228</td>\n",
       "      <td>57.013720</td>\n",
       "      <td>1.348820</td>\n",
       "      <td>2.0</td>\n",
       "      <td>34570.0</td>\n",
       "      <td>circular</td>\n",
       "      <td>[Winter Park parking, Shaden Resort, Sahary Re...</td>\n",
       "      <td>5</td>\n",
       "      <td>{'coach': ['IC1', 'IC2', 'IC3', 'IC4', 'IC5', ...</td>\n",
       "      <td>12</td>\n",
       "    </tr>\n",
       "    <tr>\n",
       "      <th>V3</th>\n",
       "      <td>coach</td>\n",
       "      <td>60</td>\n",
       "      <td>1655</td>\n",
       "      <td>0.000000</td>\n",
       "      <td>228.847172</td>\n",
       "      <td>216.177699</td>\n",
       "      <td>2.175227</td>\n",
       "      <td>5.0</td>\n",
       "      <td>23205.5</td>\n",
       "      <td>linear</td>\n",
       "      <td>[Winter Park parking, Habitas Caravan, Maraya,...</td>\n",
       "      <td>5</td>\n",
       "      <td>{'coach': ['IC1', 'IC2', 'IC3', 'IC4', 'IC5', ...</td>\n",
       "      <td>12</td>\n",
       "    </tr>\n",
       "  </tbody>\n",
       "</table>\n",
       "</div>"
      ],
      "text/plain": [
       "         route_type veh_capacity (PAX)  headway (s)  catchment population  \\\n",
       "route_id                                                                    \n",
       "IC1           coach                 60        82740              0.000000   \n",
       "IC2           coach                 60        82740              0.000000   \n",
       "V9            coach                 60         1839           1586.413402   \n",
       "V4            coach                 60         2669              0.000000   \n",
       "V3            coach                 60         1655              0.000000   \n",
       "\n",
       "          catchment jobs  catchment tourists  frequency (veh/hours)  fleet  \\\n",
       "route_id                                                                     \n",
       "IC1            24.532563            6.536221               0.043510    2.0   \n",
       "IC2            33.079061           15.251183               0.043510    2.0   \n",
       "V9           3135.866229         6024.330627               1.957586    2.0   \n",
       "V4             41.830228           57.013720               1.348820    2.0   \n",
       "V3            228.847172          216.177699               2.175227    5.0   \n",
       "\n",
       "          trip length (m)      type  \\\n",
       "route_id                              \n",
       "IC1              220773.5    linear   \n",
       "IC2               43251.5    linear   \n",
       "V9                 8768.0    linear   \n",
       "V4                34570.0  circular   \n",
       "V3                23205.5    linear   \n",
       "\n",
       "                                          stations sequence  nb stations  \\\n",
       "route_id                                                                   \n",
       "IC1                          [Winter Park parking, Khaybar]            2   \n",
       "IC2                  [Winter Park parking, Sharaan Reserve]            2   \n",
       "V9        [Winter Park parking, Aljadidah South, Almansh...            3   \n",
       "V4        [Winter Park parking, Shaden Resort, Sahary Re...            5   \n",
       "V3        [Winter Park parking, Habitas Caravan, Maraya,...            5   \n",
       "\n",
       "                                                 connexions  \\\n",
       "route_id                                                      \n",
       "IC1       {'coach': ['IC2', 'IC3', 'IC4', 'IC5', 'V1', '...   \n",
       "IC2       {'coach': ['IC1', 'IC3', 'IC4', 'IC5', 'V1', '...   \n",
       "V9        {'coach': ['IC1', 'IC2', 'IC3', 'IC4', 'IC5', ...   \n",
       "V4        {'coach': ['IC1', 'IC2', 'IC3', 'IC4', 'IC5', ...   \n",
       "V3        {'coach': ['IC1', 'IC2', 'IC3', 'IC4', 'IC5', ...   \n",
       "\n",
       "          nb lines connected  \n",
       "route_id                      \n",
       "IC1                       12  \n",
       "IC2                       12  \n",
       "V9                        14  \n",
       "V4                        12  \n",
       "V3                        12  "
      ]
     },
     "execution_count": 129,
     "metadata": {},
     "output_type": "execute_result"
    }
   ],
   "source": [
    "df_route_id.head()"
   ]
  },
  {
   "cell_type": "markdown",
   "id": "1f98a64c",
   "metadata": {},
   "source": [
    "# Vehicle revenue KM "
   ]
  },
  {
   "cell_type": "code",
   "execution_count": 130,
   "id": "c70257d8",
   "metadata": {},
   "outputs": [],
   "source": [
    "def get_veh_kmh(col='route_id'):\n",
    "    link = links.groupby([col,'trip_id'])[[length_col,'frequency']].agg({length_col:np.nansum,'frequency':np.nanmean})\n",
    "    link['veh_km/h'] = np.ceil(link['frequency'] * link[length_col]) * 3600/1000 #to km/H\n",
    "    return link.reset_index().groupby(col)['veh_km/h'].agg(np.nansum).to_dict()"
   ]
  },
  {
   "cell_type": "code",
   "execution_count": 131,
   "id": "6b53c067",
   "metadata": {},
   "outputs": [
    {
     "name": "stdout",
     "output_type": "stream",
     "text": [
      "817.1999999999999\n"
     ]
    }
   ],
   "source": [
    "res = get_veh_kmh('route_id')\n",
    "\n",
    "df_route_id['veh.km/h'] = res\n",
    "print(sum([item for key,item in res.items()]))"
   ]
  },
  {
   "cell_type": "code",
   "execution_count": 132,
   "id": "3bc451d7",
   "metadata": {},
   "outputs": [
    {
     "name": "stdout",
     "output_type": "stream",
     "text": [
      "817.2\n"
     ]
    }
   ],
   "source": [
    "res = get_veh_kmh('route_type')\n",
    "\n",
    "df_route_type['veh.km/h'] = res\n",
    "print(sum([item for key,item in res.items()]))"
   ]
  },
  {
   "cell_type": "markdown",
   "id": "ab77743f",
   "metadata": {},
   "source": [
    "# Round trip time"
   ]
  },
  {
   "cell_type": "code",
   "execution_count": 133,
   "id": "fd818c88",
   "metadata": {},
   "outputs": [],
   "source": [
    "def get_round_trip_time(col='route_id'):\n",
    "    link = links.groupby([col,'trip_id'])[['time']].agg(np.nansum)\n",
    "    # return link.reset_index().groupby(col)['time'].agg(np.nansum).to_dict()\n",
    "    return link.reset_index().groupby(col)['time'].agg(np.nanmean).to_dict()"
   ]
  },
  {
   "cell_type": "code",
   "execution_count": 134,
   "id": "869ea67e",
   "metadata": {},
   "outputs": [
    {
     "name": "stdout",
     "output_type": "stream",
     "text": [
      "59811.0\n"
     ]
    }
   ],
   "source": [
    "res = get_round_trip_time('route_id')\n",
    "\n",
    "df_route_id['trip time (s)'] = res\n",
    "print(sum([item for key,item in res.items()]))"
   ]
  },
  {
   "cell_type": "markdown",
   "id": "d59c560a",
   "metadata": {},
   "source": [
    "# Average commercial speed"
   ]
  },
  {
   "cell_type": "code",
   "execution_count": 135,
   "id": "38314c2a",
   "metadata": {},
   "outputs": [],
   "source": [
    "df_route_id['average com. speed (km/h)'] = 3.6 * df_route_id['trip length (m)'] / df_route_id['trip time (s)']"
   ]
  },
  {
   "cell_type": "markdown",
   "id": "bd643e89",
   "metadata": {},
   "source": [
    "# Add ultimate indicators"
   ]
  },
  {
   "cell_type": "code",
   "execution_count": 136,
   "id": "4a7d0d1a",
   "metadata": {},
   "outputs": [],
   "source": [
    "# round numbers\n",
    "for col in ['catchment population', 'catchment jobs', 'catchment tourists', 'trip length (m)', 'trip length (km)', 'veh.km/h', 'trip time (s)', 'average com. speed (km/h)']:\n",
    "    if col in df_route_id.columns:\n",
    "        df_route_id[col] = df_route_id[col].apply(lambda x :np.round(x, 0))\n",
    "    if col in df_route_type.columns:\n",
    "        df_route_type[col] = df_route_type[col].apply(lambda x :np.round(x, 0))\n",
    "df_route_id['frequency (veh/hours)'] = df_route_id['frequency (veh/hours)'].apply(lambda x :np.round(x, 2))\n",
    "df_route_type['frequency (veh/hours)'] = df_route_type['frequency (veh/hours)'].apply(lambda x :np.round(x, 2))"
   ]
  },
  {
   "cell_type": "markdown",
   "id": "c9de89e9",
   "metadata": {},
   "source": [
    "Convert units trip length & trip time"
   ]
  },
  {
   "cell_type": "code",
   "execution_count": 137,
   "id": "ee24c4a3",
   "metadata": {},
   "outputs": [],
   "source": [
    "df_route_id['trip length (km)'] = round(df_route_id['trip length (m)'] / 1000, 1)\n",
    "\n",
    "def sec_to_duree(total_seconds):\n",
    "    hours = int(total_seconds // 3600)\n",
    "    minutes = int((total_seconds % 3600) // 60)\n",
    "    seconds = int(total_seconds % 60)\n",
    "    if seconds >= 30:\n",
    "        minutes += 1\n",
    "    if minutes == 60:\n",
    "        hours += 1\n",
    "        minutes = 0\n",
    "    time_str = \"\"\n",
    "    if hours > 0:\n",
    "        time_str += f\"{hours}h \"\n",
    "    if minutes > 0:  \n",
    "        time_str += f\"{minutes}min \"\n",
    "    return time_str.strip()\n",
    "\n",
    "df_route_id['one way trip time'] = df_route_id['trip time (s)'].apply(sec_to_duree)\n",
    "df_route_id['headway'] = df_route_id['headway (s)'].apply(sec_to_duree)"
   ]
  },
  {
   "cell_type": "markdown",
   "id": "d5cd4b87",
   "metadata": {},
   "source": [
    "Average distance between stops"
   ]
  },
  {
   "cell_type": "code",
   "execution_count": 138,
   "id": "f3e4245d",
   "metadata": {},
   "outputs": [],
   "source": [
    "df_route_id['average dist. stops (m)'] = df_route_id['trip length (m)'] / (df_route_id['nb stations'] -1)"
   ]
  },
  {
   "cell_type": "markdown",
   "id": "052615df",
   "metadata": {},
   "source": [
    "Annual mileage"
   ]
  },
  {
   "cell_type": "code",
   "execution_count": 139,
   "id": "8b6a9938",
   "metadata": {},
   "outputs": [],
   "source": [
    "df_route_id['annual mileage'] = df_route_id['frequency (veh/hours)'] * 24 * 365 / (df_route_id['fleet'] + df_route_id['fleet'].apply(lambda x: max(1, x / 10))) * df_route_id['trip length (km)']\n",
    "\n",
    "df_route_id['annual mileage'] = df_route_id.apply(\n",
    "    lambda row: row['annual mileage'] * 2 if row['type'] == 'linear' else row['annual mileage'], axis=1\n",
    ")"
   ]
  },
  {
   "cell_type": "code",
   "execution_count": 140,
   "id": "3105f92e",
   "metadata": {},
   "outputs": [],
   "source": [
    "#df_route_id = df_route_id.fillna('null')\n",
    "#df_route_type = df_route_type.fillna('null')"
   ]
  },
  {
   "cell_type": "markdown",
   "id": "6a5213bf",
   "metadata": {},
   "source": [
    "# Export dfs to csv"
   ]
  },
  {
   "cell_type": "code",
   "execution_count": 141,
   "id": "984694c2",
   "metadata": {},
   "outputs": [
    {
     "data": {
      "text/html": [
       "<div>\n",
       "<style scoped>\n",
       "    .dataframe tbody tr th:only-of-type {\n",
       "        vertical-align: middle;\n",
       "    }\n",
       "\n",
       "    .dataframe tbody tr th {\n",
       "        vertical-align: top;\n",
       "    }\n",
       "\n",
       "    .dataframe thead th {\n",
       "        text-align: right;\n",
       "    }\n",
       "</style>\n",
       "<table border=\"1\" class=\"dataframe\">\n",
       "  <thead>\n",
       "    <tr style=\"text-align: right;\">\n",
       "      <th></th>\n",
       "      <th>route_type</th>\n",
       "      <th>veh_capacity (PAX)</th>\n",
       "      <th>headway (s)</th>\n",
       "      <th>catchment population</th>\n",
       "      <th>catchment jobs</th>\n",
       "      <th>catchment tourists</th>\n",
       "      <th>frequency (veh/hours)</th>\n",
       "      <th>fleet</th>\n",
       "      <th>type</th>\n",
       "      <th>stations sequence</th>\n",
       "      <th>nb stations</th>\n",
       "      <th>connexions</th>\n",
       "      <th>nb lines connected</th>\n",
       "      <th>veh.km/h</th>\n",
       "      <th>average com. speed (km/h)</th>\n",
       "      <th>trip length (km)</th>\n",
       "      <th>one way trip time</th>\n",
       "      <th>headway</th>\n",
       "      <th>average dist. stops (m)</th>\n",
       "      <th>annual mileage</th>\n",
       "    </tr>\n",
       "    <tr>\n",
       "      <th>route_id</th>\n",
       "      <th></th>\n",
       "      <th></th>\n",
       "      <th></th>\n",
       "      <th></th>\n",
       "      <th></th>\n",
       "      <th></th>\n",
       "      <th></th>\n",
       "      <th></th>\n",
       "      <th></th>\n",
       "      <th></th>\n",
       "      <th></th>\n",
       "      <th></th>\n",
       "      <th></th>\n",
       "      <th></th>\n",
       "      <th></th>\n",
       "      <th></th>\n",
       "      <th></th>\n",
       "      <th></th>\n",
       "      <th></th>\n",
       "      <th></th>\n",
       "    </tr>\n",
       "  </thead>\n",
       "  <tbody>\n",
       "    <tr>\n",
       "      <th>IC1</th>\n",
       "      <td>coach</td>\n",
       "      <td>60</td>\n",
       "      <td>82740</td>\n",
       "      <td>0.0</td>\n",
       "      <td>25.0</td>\n",
       "      <td>7.0</td>\n",
       "      <td>0.04</td>\n",
       "      <td>2.0</td>\n",
       "      <td>linear</td>\n",
       "      <td>[Winter Park parking, Khaybar]</td>\n",
       "      <td>2</td>\n",
       "      <td>{'coach': ['IC2', 'IC3', 'IC4', 'IC5', 'V1', '...</td>\n",
       "      <td>12</td>\n",
       "      <td>22.0</td>\n",
       "      <td>73.0</td>\n",
       "      <td>220.8</td>\n",
       "      <td>3h 1min</td>\n",
       "      <td>22h 59min</td>\n",
       "      <td>220774.0</td>\n",
       "      <td>51578.88</td>\n",
       "    </tr>\n",
       "    <tr>\n",
       "      <th>IC2</th>\n",
       "      <td>coach</td>\n",
       "      <td>60</td>\n",
       "      <td>82740</td>\n",
       "      <td>0.0</td>\n",
       "      <td>33.0</td>\n",
       "      <td>15.0</td>\n",
       "      <td>0.04</td>\n",
       "      <td>2.0</td>\n",
       "      <td>linear</td>\n",
       "      <td>[Winter Park parking, Sharaan Reserve]</td>\n",
       "      <td>2</td>\n",
       "      <td>{'coach': ['IC1', 'IC3', 'IC4', 'IC5', 'V1', '...</td>\n",
       "      <td>12</td>\n",
       "      <td>7.0</td>\n",
       "      <td>52.0</td>\n",
       "      <td>43.3</td>\n",
       "      <td>50min</td>\n",
       "      <td>22h 59min</td>\n",
       "      <td>43252.0</td>\n",
       "      <td>10114.88</td>\n",
       "    </tr>\n",
       "    <tr>\n",
       "      <th>V9</th>\n",
       "      <td>coach</td>\n",
       "      <td>60</td>\n",
       "      <td>1839</td>\n",
       "      <td>1586.0</td>\n",
       "      <td>3136.0</td>\n",
       "      <td>6024.0</td>\n",
       "      <td>1.96</td>\n",
       "      <td>2.0</td>\n",
       "      <td>linear</td>\n",
       "      <td>[Winter Park parking, Aljadidah South, Almansh...</td>\n",
       "      <td>3</td>\n",
       "      <td>{'coach': ['IC1', 'IC2', 'IC3', 'IC4', 'IC5', ...</td>\n",
       "      <td>14</td>\n",
       "      <td>36.0</td>\n",
       "      <td>20.0</td>\n",
       "      <td>8.8</td>\n",
       "      <td>27min</td>\n",
       "      <td>31min</td>\n",
       "      <td>4384.0</td>\n",
       "      <td>100728.32</td>\n",
       "    </tr>\n",
       "    <tr>\n",
       "      <th>V4</th>\n",
       "      <td>coach</td>\n",
       "      <td>60</td>\n",
       "      <td>2669</td>\n",
       "      <td>0.0</td>\n",
       "      <td>42.0</td>\n",
       "      <td>57.0</td>\n",
       "      <td>1.35</td>\n",
       "      <td>2.0</td>\n",
       "      <td>circular</td>\n",
       "      <td>[Winter Park parking, Shaden Resort, Sahary Re...</td>\n",
       "      <td>5</td>\n",
       "      <td>{'coach': ['IC1', 'IC2', 'IC3', 'IC4', 'IC5', ...</td>\n",
       "      <td>12</td>\n",
       "      <td>47.0</td>\n",
       "      <td>33.0</td>\n",
       "      <td>34.6</td>\n",
       "      <td>1h 3min</td>\n",
       "      <td>44min</td>\n",
       "      <td>8642.5</td>\n",
       "      <td>136393.20</td>\n",
       "    </tr>\n",
       "    <tr>\n",
       "      <th>V3</th>\n",
       "      <td>coach</td>\n",
       "      <td>60</td>\n",
       "      <td>1655</td>\n",
       "      <td>0.0</td>\n",
       "      <td>229.0</td>\n",
       "      <td>216.0</td>\n",
       "      <td>2.18</td>\n",
       "      <td>5.0</td>\n",
       "      <td>linear</td>\n",
       "      <td>[Winter Park parking, Habitas Caravan, Maraya,...</td>\n",
       "      <td>5</td>\n",
       "      <td>{'coach': ['IC1', 'IC2', 'IC3', 'IC4', 'IC5', ...</td>\n",
       "      <td>12</td>\n",
       "      <td>104.0</td>\n",
       "      <td>28.0</td>\n",
       "      <td>23.2</td>\n",
       "      <td>50min</td>\n",
       "      <td>28min</td>\n",
       "      <td>5801.5</td>\n",
       "      <td>147681.92</td>\n",
       "    </tr>\n",
       "  </tbody>\n",
       "</table>\n",
       "</div>"
      ],
      "text/plain": [
       "         route_type veh_capacity (PAX)  headway (s)  catchment population  \\\n",
       "route_id                                                                    \n",
       "IC1           coach                 60        82740                   0.0   \n",
       "IC2           coach                 60        82740                   0.0   \n",
       "V9            coach                 60         1839                1586.0   \n",
       "V4            coach                 60         2669                   0.0   \n",
       "V3            coach                 60         1655                   0.0   \n",
       "\n",
       "          catchment jobs  catchment tourists  frequency (veh/hours)  fleet  \\\n",
       "route_id                                                                     \n",
       "IC1                 25.0                 7.0                   0.04    2.0   \n",
       "IC2                 33.0                15.0                   0.04    2.0   \n",
       "V9                3136.0              6024.0                   1.96    2.0   \n",
       "V4                  42.0                57.0                   1.35    2.0   \n",
       "V3                 229.0               216.0                   2.18    5.0   \n",
       "\n",
       "              type                                  stations sequence  \\\n",
       "route_id                                                                \n",
       "IC1         linear                     [Winter Park parking, Khaybar]   \n",
       "IC2         linear             [Winter Park parking, Sharaan Reserve]   \n",
       "V9          linear  [Winter Park parking, Aljadidah South, Almansh...   \n",
       "V4        circular  [Winter Park parking, Shaden Resort, Sahary Re...   \n",
       "V3          linear  [Winter Park parking, Habitas Caravan, Maraya,...   \n",
       "\n",
       "          nb stations                                         connexions  \\\n",
       "route_id                                                                   \n",
       "IC1                 2  {'coach': ['IC2', 'IC3', 'IC4', 'IC5', 'V1', '...   \n",
       "IC2                 2  {'coach': ['IC1', 'IC3', 'IC4', 'IC5', 'V1', '...   \n",
       "V9                  3  {'coach': ['IC1', 'IC2', 'IC3', 'IC4', 'IC5', ...   \n",
       "V4                  5  {'coach': ['IC1', 'IC2', 'IC3', 'IC4', 'IC5', ...   \n",
       "V3                  5  {'coach': ['IC1', 'IC2', 'IC3', 'IC4', 'IC5', ...   \n",
       "\n",
       "          nb lines connected  veh.km/h  average com. speed (km/h)  \\\n",
       "route_id                                                            \n",
       "IC1                       12      22.0                       73.0   \n",
       "IC2                       12       7.0                       52.0   \n",
       "V9                        14      36.0                       20.0   \n",
       "V4                        12      47.0                       33.0   \n",
       "V3                        12     104.0                       28.0   \n",
       "\n",
       "          trip length (km) one way trip time    headway  \\\n",
       "route_id                                                  \n",
       "IC1                  220.8           3h 1min  22h 59min   \n",
       "IC2                   43.3             50min  22h 59min   \n",
       "V9                     8.8             27min      31min   \n",
       "V4                    34.6           1h 3min      44min   \n",
       "V3                    23.2             50min      28min   \n",
       "\n",
       "          average dist. stops (m)  annual mileage  \n",
       "route_id                                           \n",
       "IC1                      220774.0        51578.88  \n",
       "IC2                       43252.0        10114.88  \n",
       "V9                         4384.0       100728.32  \n",
       "V4                         8642.5       136393.20  \n",
       "V3                         5801.5       147681.92  "
      ]
     },
     "execution_count": 141,
     "metadata": {},
     "output_type": "execute_result"
    }
   ],
   "source": [
    "df_route_id = df_route_id.drop(columns=['trip length (m)', 'trip time (s)'])\n",
    "df_route_id.to_csv(output_folder + 'route_id_metrics.csv')\n",
    "df_route_id.head()"
   ]
  },
  {
   "cell_type": "code",
   "execution_count": 142,
   "id": "c6a5c283",
   "metadata": {},
   "outputs": [
    {
     "data": {
      "text/html": [
       "<div>\n",
       "<style scoped>\n",
       "    .dataframe tbody tr th:only-of-type {\n",
       "        vertical-align: middle;\n",
       "    }\n",
       "\n",
       "    .dataframe tbody tr th {\n",
       "        vertical-align: top;\n",
       "    }\n",
       "\n",
       "    .dataframe thead th {\n",
       "        text-align: right;\n",
       "    }\n",
       "</style>\n",
       "<table border=\"1\" class=\"dataframe\">\n",
       "  <thead>\n",
       "    <tr style=\"text-align: right;\">\n",
       "      <th></th>\n",
       "      <th>catchment population</th>\n",
       "      <th>catchment jobs</th>\n",
       "      <th>catchment tourists</th>\n",
       "      <th>frequency (veh/hours)</th>\n",
       "      <th>fleet</th>\n",
       "      <th>total route length (m)</th>\n",
       "      <th>stations sequence</th>\n",
       "      <th>nb stations</th>\n",
       "      <th>veh.km/h</th>\n",
       "    </tr>\n",
       "    <tr>\n",
       "      <th>route_type</th>\n",
       "      <th></th>\n",
       "      <th></th>\n",
       "      <th></th>\n",
       "      <th></th>\n",
       "      <th></th>\n",
       "      <th></th>\n",
       "      <th></th>\n",
       "      <th></th>\n",
       "      <th></th>\n",
       "    </tr>\n",
       "  </thead>\n",
       "  <tbody>\n",
       "    <tr>\n",
       "      <th>DRT</th>\n",
       "      <td>33426.0</td>\n",
       "      <td>23806.0</td>\n",
       "      <td>18264.0</td>\n",
       "      <td>3.30</td>\n",
       "      <td>10.0</td>\n",
       "      <td>50790</td>\n",
       "      <td>[Old Town South, Khaled AlWalid, Winter Park p...</td>\n",
       "      <td>71</td>\n",
       "      <td>158.0</td>\n",
       "    </tr>\n",
       "    <tr>\n",
       "      <th>coach</th>\n",
       "      <td>31341.0</td>\n",
       "      <td>22667.0</td>\n",
       "      <td>13620.0</td>\n",
       "      <td>1.85</td>\n",
       "      <td>40.0</td>\n",
       "      <td>1354146</td>\n",
       "      <td>[Old Town South, Sadral Gharbaiyah Quarter, Wi...</td>\n",
       "      <td>27</td>\n",
       "      <td>648.0</td>\n",
       "    </tr>\n",
       "    <tr>\n",
       "      <th>bus</th>\n",
       "      <td>937.0</td>\n",
       "      <td>1158.0</td>\n",
       "      <td>4481.0</td>\n",
       "      <td>9.63</td>\n",
       "      <td>2.0</td>\n",
       "      <td>976</td>\n",
       "      <td>[Aljadidah, Aljadidah North Parking]</td>\n",
       "      <td>2</td>\n",
       "      <td>11.0</td>\n",
       "    </tr>\n",
       "  </tbody>\n",
       "</table>\n",
       "</div>"
      ],
      "text/plain": [
       "            catchment population  catchment jobs  catchment tourists  \\\n",
       "route_type                                                             \n",
       "DRT                      33426.0         23806.0             18264.0   \n",
       "coach                    31341.0         22667.0             13620.0   \n",
       "bus                        937.0          1158.0              4481.0   \n",
       "\n",
       "            frequency (veh/hours)  fleet  total route length (m)  \\\n",
       "route_type                                                         \n",
       "DRT                          3.30   10.0                   50790   \n",
       "coach                        1.85   40.0                 1354146   \n",
       "bus                          9.63    2.0                     976   \n",
       "\n",
       "                                            stations sequence  nb stations  \\\n",
       "route_type                                                                   \n",
       "DRT         [Old Town South, Khaled AlWalid, Winter Park p...           71   \n",
       "coach       [Old Town South, Sadral Gharbaiyah Quarter, Wi...           27   \n",
       "bus                      [Aljadidah, Aljadidah North Parking]            2   \n",
       "\n",
       "            veh.km/h  \n",
       "route_type            \n",
       "DRT            158.0  \n",
       "coach          648.0  \n",
       "bus             11.0  "
      ]
     },
     "execution_count": 142,
     "metadata": {},
     "output_type": "execute_result"
    }
   ],
   "source": [
    "df_route_type.to_csv(output_folder + 'route_type_metrics.csv')\n",
    "df_route_type"
   ]
  },
  {
   "cell_type": "code",
   "execution_count": 143,
   "id": "743025c2",
   "metadata": {},
   "outputs": [],
   "source": [
    "# TODO : rajouter ligne pour tout le réseau (notamment couverture)"
   ]
  },
  {
   "cell_type": "code",
   "execution_count": 144,
   "id": "00df74f2",
   "metadata": {},
   "outputs": [],
   "source": [
    "df_route_id = df_route_id.reset_index()\n",
    "df_route_id = df_route_id[['route_id', 'route_type', 'type', 'trip length (km)', 'nb stations', 'average dist. stops (m)', 'stations sequence', 'connexions', \n",
    "                           'headway', 'one way trip time', 'average com. speed (km/h)', 'fleet', 'veh_capacity (PAX)', 'annual mileage',\n",
    "                           'catchment population', 'catchment jobs', 'catchment tourists']]\n",
    "df_route_id = df_route_id.rename(\n",
    "    columns={'route_id': 'Name', \n",
    "             'route_type': 'Type',\n",
    "             'type': 'Route design',\n",
    "             'headway': 'Headway',\n",
    "             'trip length (km)': 'Trip length (km)',\n",
    "             'nb stations': 'Number of stops',\n",
    "             'average dist. stops (m)': 'Average distance between stops (m)',\n",
    "             'stations sequence': 'Main stops',\n",
    "             'one way trip time': 'Travel time',\n",
    "             'average com. speed (km/h)': 'Average commercial speed (km/h)',\n",
    "             'veh_capacity (PAX)': 'Vehicle capacity (PAX)',\n",
    "             'fleet': 'Number of vehicles',\n",
    "             'annual mileage': 'Annual mileage (km)',\n",
    "             'catchment population': 'Covered population (inhabitants)',\n",
    "             'catchment jobs': 'Covered jobs',\n",
    "             'catchment tourists': 'Covered tourists',\n",
    "             'connexions': 'Connexion with other lines',\n",
    "             })"
   ]
  },
  {
   "cell_type": "code",
   "execution_count": 145,
   "id": "7ffb420a",
   "metadata": {},
   "outputs": [
    {
     "data": {
      "text/html": [
       "<div>\n",
       "<style scoped>\n",
       "    .dataframe tbody tr th:only-of-type {\n",
       "        vertical-align: middle;\n",
       "    }\n",
       "\n",
       "    .dataframe tbody tr th {\n",
       "        vertical-align: top;\n",
       "    }\n",
       "\n",
       "    .dataframe thead th {\n",
       "        text-align: right;\n",
       "    }\n",
       "</style>\n",
       "<table border=\"1\" class=\"dataframe\">\n",
       "  <thead>\n",
       "    <tr style=\"text-align: right;\">\n",
       "      <th></th>\n",
       "      <th>0</th>\n",
       "    </tr>\n",
       "  </thead>\n",
       "  <tbody>\n",
       "    <tr>\n",
       "      <th>Name</th>\n",
       "      <td>IC1</td>\n",
       "    </tr>\n",
       "    <tr>\n",
       "      <th>Type</th>\n",
       "      <td>coach</td>\n",
       "    </tr>\n",
       "    <tr>\n",
       "      <th>Route design</th>\n",
       "      <td>linear</td>\n",
       "    </tr>\n",
       "    <tr>\n",
       "      <th>Trip length (km)</th>\n",
       "      <td>220.8</td>\n",
       "    </tr>\n",
       "    <tr>\n",
       "      <th>Number of stops</th>\n",
       "      <td>2</td>\n",
       "    </tr>\n",
       "    <tr>\n",
       "      <th>Average distance between stops (m)</th>\n",
       "      <td>220774.0</td>\n",
       "    </tr>\n",
       "    <tr>\n",
       "      <th>Main stops</th>\n",
       "      <td>[Winter Park parking, Khaybar]</td>\n",
       "    </tr>\n",
       "    <tr>\n",
       "      <th>Connexion with other lines</th>\n",
       "      <td>{'coach': ['IC2', 'IC3', 'IC4', 'IC5', 'V1', '...</td>\n",
       "    </tr>\n",
       "    <tr>\n",
       "      <th>Headway</th>\n",
       "      <td>22h 59min</td>\n",
       "    </tr>\n",
       "    <tr>\n",
       "      <th>Travel time</th>\n",
       "      <td>3h 1min</td>\n",
       "    </tr>\n",
       "    <tr>\n",
       "      <th>Average commercial speed (km/h)</th>\n",
       "      <td>73.0</td>\n",
       "    </tr>\n",
       "    <tr>\n",
       "      <th>Number of vehicles</th>\n",
       "      <td>2.0</td>\n",
       "    </tr>\n",
       "    <tr>\n",
       "      <th>Vehicle capacity (PAX)</th>\n",
       "      <td>60</td>\n",
       "    </tr>\n",
       "    <tr>\n",
       "      <th>Annual mileage (km)</th>\n",
       "      <td>51578.88</td>\n",
       "    </tr>\n",
       "    <tr>\n",
       "      <th>Covered population (inhabitants)</th>\n",
       "      <td>0.0</td>\n",
       "    </tr>\n",
       "    <tr>\n",
       "      <th>Covered jobs</th>\n",
       "      <td>25.0</td>\n",
       "    </tr>\n",
       "    <tr>\n",
       "      <th>Covered tourists</th>\n",
       "      <td>7.0</td>\n",
       "    </tr>\n",
       "  </tbody>\n",
       "</table>\n",
       "</div>"
      ],
      "text/plain": [
       "                                                                                    0\n",
       "Name                                                                              IC1\n",
       "Type                                                                            coach\n",
       "Route design                                                                   linear\n",
       "Trip length (km)                                                                220.8\n",
       "Number of stops                                                                     2\n",
       "Average distance between stops (m)                                           220774.0\n",
       "Main stops                                             [Winter Park parking, Khaybar]\n",
       "Connexion with other lines          {'coach': ['IC2', 'IC3', 'IC4', 'IC5', 'V1', '...\n",
       "Headway                                                                     22h 59min\n",
       "Travel time                                                                   3h 1min\n",
       "Average commercial speed (km/h)                                                  73.0\n",
       "Number of vehicles                                                                2.0\n",
       "Vehicle capacity (PAX)                                                             60\n",
       "Annual mileage (km)                                                          51578.88\n",
       "Covered population (inhabitants)                                                  0.0\n",
       "Covered jobs                                                                     25.0\n",
       "Covered tourists                                                                  7.0"
      ]
     },
     "execution_count": 145,
     "metadata": {},
     "output_type": "execute_result"
    }
   ],
   "source": [
    "df_route = df_route_id.loc[0]\n",
    "pd.DataFrame(df_route.T)"
   ]
  },
  {
   "cell_type": "code",
   "execution_count": 146,
   "id": "5bde07dd",
   "metadata": {},
   "outputs": [],
   "source": [
    "for i in df_route_id.index:\n",
    "    route = df_route_id.loc[i, 'Name']\n",
    "    df_route = df_route_id.loc[i]\n",
    "    pd.DataFrame(df_route.T).to_csv(output_folder + 'metrics_route_{}.csv'.format(route))"
   ]
  },
  {
   "cell_type": "code",
   "execution_count": null,
   "id": "5c5d19c0",
   "metadata": {},
   "outputs": [],
   "source": [
    "end_of_notebook"
   ]
  },
  {
   "cell_type": "code",
   "execution_count": 147,
   "id": "c13a885b",
   "metadata": {},
   "outputs": [],
   "source": [
    "# TODO"
   ]
  },
  {
   "cell_type": "markdown",
   "id": "8c761410",
   "metadata": {},
   "source": [
    "## THERMOMETRE LIGNE = PLAN LIGNE DANS LE METRO\n",
    " - PRIO : sous-version = plan reseau TC sur fond de carte + 1 carte par ligne\n",
    " - Plan du réseau simplifié largeur qui dépend du mode"
   ]
  },
  {
   "cell_type": "code",
   "execution_count": 148,
   "id": "7d3e47f6",
   "metadata": {},
   "outputs": [],
   "source": [
    "geom_routes = gpd.GeoDataFrame(links.groupby(['route_id', 'route_color'])['geometry'].agg(unary_union), geometry='geometry', crs='EPSG:4326').reset_index().sort_values(by='route_id')\n",
    "geom_routes['route_color'] = geom_routes['route_color'].apply(lambda x: ('#'+x).upper())"
   ]
  },
  {
   "cell_type": "code",
   "execution_count": 149,
   "id": "c7e93076",
   "metadata": {},
   "outputs": [
    {
     "ename": "ImportError",
     "evalue": "The 'folium', 'matplotlib' and 'mapclassify' packages are required for 'explore()'. You can install them using 'conda install -c conda-forge folium matplotlib mapclassify' or 'pip install folium matplotlib mapclassify'.",
     "output_type": "error",
     "traceback": [
      "\u001b[0;31m---------------------------------------------------------------------------\u001b[0m",
      "\u001b[0;31mModuleNotFoundError\u001b[0m                       Traceback (most recent call last)",
      "File \u001b[0;32m~/.local/share/virtualenvs/quetzal-77-onnKO/lib/python3.8/site-packages/geopandas/explore.py:287\u001b[0m, in \u001b[0;36m_explore\u001b[0;34m(df, column, cmap, color, m, tiles, attr, tooltip, popup, highlight, categorical, legend, scheme, k, vmin, vmax, width, height, categories, classification_kwds, control_scale, marker_type, marker_kwds, style_kwds, highlight_kwds, missing_kwds, tooltip_kwds, popup_kwds, legend_kwds, map_kwds, **kwargs)\u001b[0m\n\u001b[1;32m    286\u001b[0m \u001b[38;5;28;01mimport\u001b[39;00m \u001b[38;5;21;01mmatplotlib\u001b[39;00m\u001b[38;5;21;01m.\u001b[39;00m\u001b[38;5;21;01mpyplot\u001b[39;00m \u001b[38;5;28;01mas\u001b[39;00m \u001b[38;5;21;01mplt\u001b[39;00m\n\u001b[0;32m--> 287\u001b[0m \u001b[38;5;28;01mfrom\u001b[39;00m \u001b[38;5;21;01mmapclassify\u001b[39;00m \u001b[38;5;28;01mimport\u001b[39;00m classify\n\u001b[1;32m    289\u001b[0m \u001b[38;5;66;03m# isolate MPL version - GH#2596\u001b[39;00m\n",
      "\u001b[0;31mModuleNotFoundError\u001b[0m: No module named 'mapclassify'",
      "\nDuring handling of the above exception, another exception occurred:\n",
      "\u001b[0;31mImportError\u001b[0m                               Traceback (most recent call last)",
      "Cell \u001b[0;32mIn[149], line 1\u001b[0m\n\u001b[0;32m----> 1\u001b[0m network \u001b[38;5;241m=\u001b[39m \u001b[43mgeom_routes\u001b[49m\u001b[38;5;241;43m.\u001b[39;49m\u001b[43mexplore\u001b[49m\u001b[43m(\u001b[49m\n\u001b[1;32m      2\u001b[0m \u001b[43m    \u001b[49m\u001b[43mcolumn\u001b[49m\u001b[43m \u001b[49m\u001b[38;5;241;43m=\u001b[39;49m\u001b[43m \u001b[49m\u001b[38;5;124;43m'\u001b[39;49m\u001b[38;5;124;43mroute_id\u001b[39;49m\u001b[38;5;124;43m'\u001b[39;49m\u001b[43m,\u001b[49m\n\u001b[1;32m      3\u001b[0m \u001b[43m    \u001b[49m\u001b[43mcmap\u001b[49m\u001b[43m \u001b[49m\u001b[38;5;241;43m=\u001b[39;49m\u001b[43m \u001b[49m\u001b[43mcolors\u001b[49m\u001b[38;5;241;43m.\u001b[39;49m\u001b[43mListedColormap\u001b[49m\u001b[43m(\u001b[49m\u001b[43mgeom_routes\u001b[49m\u001b[43m[\u001b[49m\u001b[38;5;124;43m'\u001b[39;49m\u001b[38;5;124;43mroute_color\u001b[39;49m\u001b[38;5;124;43m'\u001b[39;49m\u001b[43m]\u001b[49m\u001b[38;5;241;43m.\u001b[39;49m\u001b[43mto_list\u001b[49m\u001b[43m(\u001b[49m\u001b[43m)\u001b[49m\u001b[43m)\u001b[49m\u001b[43m,\u001b[49m\n\u001b[1;32m      4\u001b[0m \u001b[43m    \u001b[49m\u001b[43mtiles\u001b[49m\u001b[43m \u001b[49m\u001b[38;5;241;43m=\u001b[39;49m\u001b[43m \u001b[49m\u001b[38;5;124;43m\"\u001b[39;49m\u001b[38;5;124;43mCartoDB positron\u001b[39;49m\u001b[38;5;124;43m\"\u001b[39;49m\u001b[43m,\u001b[49m\n\u001b[1;32m      5\u001b[0m \u001b[43m    \u001b[49m\u001b[43mstyle_kwds\u001b[49m\u001b[43m \u001b[49m\u001b[38;5;241;43m=\u001b[39;49m\u001b[43m \u001b[49m\u001b[43m{\u001b[49m\u001b[38;5;124;43m'\u001b[39;49m\u001b[38;5;124;43mweight\u001b[39;49m\u001b[38;5;124;43m'\u001b[39;49m\u001b[43m:\u001b[49m\u001b[43m \u001b[49m\u001b[38;5;241;43m3\u001b[39;49m\u001b[43m}\u001b[49m\u001b[43m,\u001b[49m\n\u001b[1;32m      6\u001b[0m \u001b[43m    \u001b[49m\u001b[43mlegend_kwds\u001b[49m\u001b[43m \u001b[49m\u001b[38;5;241;43m=\u001b[39;49m\u001b[43m \u001b[49m\u001b[43m{\u001b[49m\u001b[38;5;124;43m'\u001b[39;49m\u001b[38;5;124;43mcaption\u001b[39;49m\u001b[38;5;124;43m'\u001b[39;49m\u001b[43m:\u001b[49m\u001b[43m \u001b[49m\u001b[38;5;124;43m'\u001b[39;49m\u001b[38;5;124;43mRoute name\u001b[39;49m\u001b[38;5;124;43m'\u001b[39;49m\u001b[43m}\u001b[49m\n\u001b[1;32m      7\u001b[0m \u001b[43m    \u001b[49m\u001b[43m)\u001b[49m\n",
      "File \u001b[0;32m~/.local/share/virtualenvs/quetzal-77-onnKO/lib/python3.8/site-packages/geopandas/geodataframe.py:2101\u001b[0m, in \u001b[0;36mGeoDataFrame.explore\u001b[0;34m(self, *args, **kwargs)\u001b[0m\n\u001b[1;32m   2099\u001b[0m \u001b[38;5;129m@doc\u001b[39m(_explore)\n\u001b[1;32m   2100\u001b[0m \u001b[38;5;28;01mdef\u001b[39;00m \u001b[38;5;21mexplore\u001b[39m(\u001b[38;5;28mself\u001b[39m, \u001b[38;5;241m*\u001b[39margs, \u001b[38;5;241m*\u001b[39m\u001b[38;5;241m*\u001b[39mkwargs):\n\u001b[0;32m-> 2101\u001b[0m     \u001b[38;5;28;01mreturn\u001b[39;00m \u001b[43m_explore\u001b[49m\u001b[43m(\u001b[49m\u001b[38;5;28;43mself\u001b[39;49m\u001b[43m,\u001b[49m\u001b[43m \u001b[49m\u001b[38;5;241;43m*\u001b[39;49m\u001b[43margs\u001b[49m\u001b[43m,\u001b[49m\u001b[43m \u001b[49m\u001b[38;5;241;43m*\u001b[39;49m\u001b[38;5;241;43m*\u001b[39;49m\u001b[43mkwargs\u001b[49m\u001b[43m)\u001b[49m\n",
      "File \u001b[0;32m~/.local/share/virtualenvs/quetzal-77-onnKO/lib/python3.8/site-packages/geopandas/explore.py:297\u001b[0m, in \u001b[0;36m_explore\u001b[0;34m(df, column, cmap, color, m, tiles, attr, tooltip, popup, highlight, categorical, legend, scheme, k, vmin, vmax, width, height, categories, classification_kwds, control_scale, marker_type, marker_kwds, style_kwds, highlight_kwds, missing_kwds, tooltip_kwds, popup_kwds, legend_kwds, map_kwds, **kwargs)\u001b[0m\n\u001b[1;32m    294\u001b[0m         \u001b[38;5;28;01mimport\u001b[39;00m \u001b[38;5;21;01mmatplotlib\u001b[39;00m\u001b[38;5;21;01m.\u001b[39;00m\u001b[38;5;21;01mcm\u001b[39;00m \u001b[38;5;28;01mas\u001b[39;00m \u001b[38;5;21;01mcm\u001b[39;00m\n\u001b[1;32m    296\u001b[0m \u001b[38;5;28;01mexcept\u001b[39;00m (\u001b[38;5;167;01mImportError\u001b[39;00m, \u001b[38;5;167;01mModuleNotFoundError\u001b[39;00m):\n\u001b[0;32m--> 297\u001b[0m     \u001b[38;5;28;01mraise\u001b[39;00m \u001b[38;5;167;01mImportError\u001b[39;00m(\n\u001b[1;32m    298\u001b[0m         \u001b[38;5;124m\"\u001b[39m\u001b[38;5;124mThe \u001b[39m\u001b[38;5;124m'\u001b[39m\u001b[38;5;124mfolium\u001b[39m\u001b[38;5;124m'\u001b[39m\u001b[38;5;124m, \u001b[39m\u001b[38;5;124m'\u001b[39m\u001b[38;5;124mmatplotlib\u001b[39m\u001b[38;5;124m'\u001b[39m\u001b[38;5;124m and \u001b[39m\u001b[38;5;124m'\u001b[39m\u001b[38;5;124mmapclassify\u001b[39m\u001b[38;5;124m'\u001b[39m\u001b[38;5;124m packages are required for \u001b[39m\u001b[38;5;124m\"\u001b[39m\n\u001b[1;32m    299\u001b[0m         \u001b[38;5;124m\"\u001b[39m\u001b[38;5;124m'\u001b[39m\u001b[38;5;124mexplore()\u001b[39m\u001b[38;5;124m'\u001b[39m\u001b[38;5;124m. You can install them using \u001b[39m\u001b[38;5;124m\"\u001b[39m\n\u001b[1;32m    300\u001b[0m         \u001b[38;5;124m\"\u001b[39m\u001b[38;5;124m'\u001b[39m\u001b[38;5;124mconda install -c conda-forge folium matplotlib mapclassify\u001b[39m\u001b[38;5;124m'\u001b[39m\u001b[38;5;124m \u001b[39m\u001b[38;5;124m\"\u001b[39m\n\u001b[1;32m    301\u001b[0m         \u001b[38;5;124m\"\u001b[39m\u001b[38;5;124mor \u001b[39m\u001b[38;5;124m'\u001b[39m\u001b[38;5;124mpip install folium matplotlib mapclassify\u001b[39m\u001b[38;5;124m'\u001b[39m\u001b[38;5;124m.\u001b[39m\u001b[38;5;124m\"\u001b[39m\n\u001b[1;32m    302\u001b[0m     )\n\u001b[1;32m    304\u001b[0m \u001b[38;5;66;03m# xyservices is an optional dependency\u001b[39;00m\n\u001b[1;32m    305\u001b[0m \u001b[38;5;28;01mtry\u001b[39;00m:\n",
      "\u001b[0;31mImportError\u001b[0m: The 'folium', 'matplotlib' and 'mapclassify' packages are required for 'explore()'. You can install them using 'conda install -c conda-forge folium matplotlib mapclassify' or 'pip install folium matplotlib mapclassify'."
     ]
    }
   ],
   "source": [
    "network = geom_routes.explore(\n",
    "    column = 'route_id',\n",
    "    cmap = colors.ListedColormap(geom_routes['route_color'].to_list()),\n",
    "    tiles = \"CartoDB positron\",\n",
    "    style_kwds = {'weight': 3},\n",
    "    legend_kwds = {'caption': 'Route name'}\n",
    "    )"
   ]
  },
  {
   "cell_type": "code",
   "execution_count": 150,
   "id": "7e647ed0",
   "metadata": {},
   "outputs": [
    {
     "ename": "NameError",
     "evalue": "name 'network' is not defined",
     "output_type": "error",
     "traceback": [
      "\u001b[0;31m---------------------------------------------------------------------------\u001b[0m",
      "\u001b[0;31mNameError\u001b[0m                                 Traceback (most recent call last)",
      "Cell \u001b[0;32mIn[150], line 1\u001b[0m\n\u001b[0;32m----> 1\u001b[0m \u001b[43mnetwork\u001b[49m\u001b[38;5;241m.\u001b[39msave(output_folder \u001b[38;5;241m+\u001b[39m \u001b[38;5;124m'\u001b[39m\u001b[38;5;124mnetwork.html\u001b[39m\u001b[38;5;124m'\u001b[39m)\n",
      "\u001b[0;31mNameError\u001b[0m: name 'network' is not defined"
     ]
    }
   ],
   "source": [
    "network.save(output_folder + 'network.html')"
   ]
  },
  {
   "cell_type": "code",
   "execution_count": 100,
   "id": "1995d111",
   "metadata": {},
   "outputs": [],
   "source": [
    "for route_id in geom_routes['route_id']:\n",
    "    geom_route = geom_routes[geom_routes['route_id'] == route_id]\n",
    "    route_plot = geom_route.explore(\n",
    "        column = 'route_id',\n",
    "        cmap = colors.ListedColormap(geom_route['route_color'].to_list()),\n",
    "        # tiles = \"CartoDB positron\",\n",
    "        style_kwds = {'weight': 3},\n",
    "        legend = False\n",
    "        )\n",
    "    route_plot.save(output_folder + 'map_{}.html'.format(route_id))"
   ]
  },
  {
   "cell_type": "code",
   "execution_count": 101,
   "id": "a5582743",
   "metadata": {},
   "outputs": [],
   "source": [
    "# import io\n",
    "# from PIL import Image\n",
    "\n",
    "# img_data = network._to_png(5)\n",
    "# img = Image.open(io.BytesIO(img_data))\n",
    "# img.save(output_folder + 'network.png')"
   ]
  },
  {
   "cell_type": "code",
   "execution_count": 102,
   "id": "73061893",
   "metadata": {},
   "outputs": [
    {
     "ename": "NameError",
     "evalue": "name 'end_of_notebook' is not defined",
     "output_type": "error",
     "traceback": [
      "\u001b[1;31m---------------------------------------------------------------------------\u001b[0m",
      "\u001b[1;31mNameError\u001b[0m                                 Traceback (most recent call last)",
      "Cell \u001b[1;32mIn[102], line 1\u001b[0m\n\u001b[1;32m----> 1\u001b[0m \u001b[43mend_of_notebook\u001b[49m\n",
      "\u001b[1;31mNameError\u001b[0m: name 'end_of_notebook' is not defined"
     ]
    }
   ],
   "source": []
  },
  {
   "cell_type": "markdown",
   "id": "4924d2a1",
   "metadata": {},
   "source": [
    "# Geomatic outputs : A REVOIR ?\n",
    "Couverture population par arrêt"
   ]
  },
  {
   "cell_type": "code",
   "execution_count": null,
   "id": "10166c45",
   "metadata": {},
   "outputs": [],
   "source": [
    "#using get catchment. get the catchment radius of each node (get larger one if used by many mode.)\n",
    "link = links.groupby('route_type')[['a','b','route_type']].agg({'a':set,'b':set,'route_type':'first'})\n",
    "link['node'] = link.apply(lambda row: row['a'].union(row['b']), axis=1)\n",
    "link = link.drop(columns=['a','b'])\n",
    "\n",
    "# add catchment radius for the route_type\n",
    "link['catchment_radius'] = link['route_type'].apply(lambda x: catchment_radius.get(x, default_catchment_radius))\n",
    "link = link.explode('node').reset_index(drop=True)\n",
    "link = link.sort_values('catchment_radius', ascending=False).drop_duplicates('node', keep='first')\n",
    "link = node_dist_pop.merge(link, left_on='node_index', right_on='node')\n",
    "link = link[link['distances'] <= link['catchment_radius']]"
   ]
  },
  {
   "cell_type": "code",
   "execution_count": null,
   "id": "2fc70605",
   "metadata": {},
   "outputs": [],
   "source": [
    "temp_dict = link.groupby('node_index')['population'].sum().to_dict()"
   ]
  },
  {
   "cell_type": "code",
   "execution_count": null,
   "id": "1c6e4d7e",
   "metadata": {},
   "outputs": [
    {
     "data": {
      "text/plain": [
       "{'node_0': 0.0,\n",
       " 'node_1': 8566.345274630032,\n",
       " 'node_10': 62.85056968681102,\n",
       " 'node_100': 2543.9820090936405,\n",
       " 'node_101': 2543.9820090936405,\n",
       " 'node_102': 2543.9820090936405,\n",
       " 'node_103': 2543.9820090936405,\n",
       " 'node_104': 1631.2485128411652,\n",
       " 'node_105': 1631.2485128411652,\n",
       " 'node_106': 1631.2485128411652,\n",
       " 'node_107': 1631.2485128411652,\n",
       " 'node_108': 1469.5686343053208,\n",
       " 'node_109': 1469.5686343053208,\n",
       " 'node_11': 1937.5562777693212,\n",
       " 'node_110': 1469.5686343053208,\n",
       " 'node_111': 1469.5686343053208,\n",
       " 'node_112': 1469.5686343053208,\n",
       " 'node_113': 1469.5686343053208,\n",
       " 'node_114': 1469.5686343053208,\n",
       " 'node_119': 62.85056968681102,\n",
       " 'node_120': 62.85056968681102,\n",
       " 'node_121': 62.85056968681102,\n",
       " 'node_122': 62.85056968681102,\n",
       " 'node_123': 62.85056968681102,\n",
       " 'node_124': 62.85056968681102,\n",
       " 'node_125': 1636.246599392545,\n",
       " 'node_126': 2543.9820090936405,\n",
       " 'node_127': 1631.2485128411652,\n",
       " 'node_129': 62.85056968681102,\n",
       " 'node_130': 62.85056968681102,\n",
       " 'node_131': 62.85056968681102,\n",
       " 'node_132': 62.85056968681102,\n",
       " 'node_133': 62.85056968681102,\n",
       " 'node_136': 62.85056968681102,\n",
       " 'node_138': 1469.5686343053208,\n",
       " 'node_139': 1469.5686343053208,\n",
       " 'node_14': 0.0,\n",
       " 'node_140': 1469.5686343053208,\n",
       " 'node_141': 1469.5686343053208,\n",
       " 'node_142': 1469.5686343053208,\n",
       " 'node_143': 1469.5686343053208,\n",
       " 'node_144': 3100.8171471464857,\n",
       " 'node_145': 3100.8171471464857,\n",
       " 'node_146': 3100.8171471464857,\n",
       " 'node_147': 1631.2485128411652,\n",
       " 'node_148': 1631.2485128411652,\n",
       " 'node_149': 1631.2485128411652,\n",
       " 'node_15': 2543.9820090936405,\n",
       " 'node_150': 1631.2485128411652,\n",
       " 'node_151': 1631.2485128411652,\n",
       " 'node_152': 4175.230521934805,\n",
       " 'node_153': 2543.9820090936405,\n",
       " 'node_154': 2543.9820090936405,\n",
       " 'node_155': 2543.9820090936405,\n",
       " 'node_156': 2543.9820090936405,\n",
       " 'node_157': 2543.9820090936405,\n",
       " 'node_158': 2543.9820090936405,\n",
       " 'node_159': 1636.246599392545,\n",
       " 'node_16': 0.0,\n",
       " 'node_160': 1636.246599392545,\n",
       " 'node_161': 1636.246599392545,\n",
       " 'node_162': 1636.246599392545,\n",
       " 'node_163': 1636.246599392545,\n",
       " 'node_164': 62.85056968681102,\n",
       " 'node_167': 62.85056968681102,\n",
       " 'node_168': 0.0,\n",
       " 'node_17': 0.0,\n",
       " 'node_170': 5087.964018187281,\n",
       " 'node_171': 3301.664631582432,\n",
       " 'node_172': 0.0,\n",
       " 'node_173': 0.0,\n",
       " 'node_175': 0.0,\n",
       " 'node_176': 188.55170906043307,\n",
       " 'node_177': 0.0,\n",
       " 'node_178': 0.0,\n",
       " 'node_179': 936.9233145110904,\n",
       " 'node_18': 4898.743625074875,\n",
       " 'node_180': 7476.895153517238,\n",
       " 'node_181': 8566.345274630032,\n",
       " 'node_182': 3100.8171471464857,\n",
       " 'node_183': 1636.246599392545,\n",
       " 'node_184': 62.85056968681102,\n",
       " 'node_185': 0.0,\n",
       " 'node_186': 1063.1903785523405,\n",
       " 'node_187': 0.0,\n",
       " 'node_189': 0.0,\n",
       " 'node_19': 4175.230521934805,\n",
       " 'node_190': 0.0,\n",
       " 'node_191': 0.0,\n",
       " 'node_192': 5626.118936996118,\n",
       " 'node_193': 0.0,\n",
       " 'node_194': 0.0,\n",
       " 'node_195': 1133.7795238892663,\n",
       " 'node_196': 0.0,\n",
       " 'node_197': 0.0,\n",
       " 'node_198': 0.0,\n",
       " 'node_199': 0.0,\n",
       " 'node_2': 801.1955131407336,\n",
       " 'node_20': 1631.2485128411652,\n",
       " 'node_200': 0.0,\n",
       " 'node_201': 290.97870582192576,\n",
       " 'node_202': 62.85056968681102,\n",
       " 'node_203': 5908.497210362883,\n",
       " 'node_204': 0.0,\n",
       " 'node_205': 0.0,\n",
       " 'node_206': 0.0,\n",
       " 'node_207': 0.0,\n",
       " 'node_209': 3426.9339746822,\n",
       " 'node_21': 989.7421411100585,\n",
       " 'node_210': 2543.9820090936405,\n",
       " 'node_211': 62.85056968681102,\n",
       " 'node_212': 62.85056968681102,\n",
       " 'node_214': 1636.246599392545,\n",
       " 'node_215': 1636.246599392545,\n",
       " 'node_216': 1636.246599392545,\n",
       " 'node_217': 1636.246599392545,\n",
       " 'node_22': 2543.9820090936405,\n",
       " 'node_220': 62.85056968681102,\n",
       " 'node_221': 1636.246599392545,\n",
       " 'node_222': 4175.230521934805,\n",
       " 'node_225': 5644.799156240127,\n",
       " 'node_226': 0.0,\n",
       " 'node_227': 0.0,\n",
       " 'node_228': 125.70113937362204,\n",
       " 'node_229': 62.85056968681102,\n",
       " 'node_23': 1133.7795238892663,\n",
       " 'node_230': 62.85056968681102,\n",
       " 'node_231': 62.85056968681102,\n",
       " 'node_232': 2065.365243415501,\n",
       " 'node_233': 2065.365243415501,\n",
       " 'node_234': 62.85056968681102,\n",
       " 'node_235': 125.70113937362204,\n",
       " 'node_236': 0.0,\n",
       " 'node_237': 0.0,\n",
       " 'node_238': 0.0,\n",
       " 'node_239': 0.0,\n",
       " 'node_240': 0.0,\n",
       " 'node_241': 0.0,\n",
       " 'node_242': 0.0,\n",
       " 'node_243': 0.0,\n",
       " 'node_244': 0.0,\n",
       " 'node_245': 0.0,\n",
       " 'node_246': 0.0,\n",
       " 'node_248': 0.0,\n",
       " 'node_249': 0.0,\n",
       " 'node_25': 1688.7588867082336,\n",
       " 'node_250': 0.0,\n",
       " 'node_251': 0.0,\n",
       " 'node_252': 0.0,\n",
       " 'node_253': 0.0,\n",
       " 'node_254': 0.0,\n",
       " 'node_255': 0.0,\n",
       " 'node_256': 0.0,\n",
       " 'node_257': 0.0,\n",
       " 'node_258': 0.0,\n",
       " 'node_259': 0.0,\n",
       " 'node_26': 1937.5562777693212,\n",
       " 'node_260': 0.0,\n",
       " 'node_261': 0.0,\n",
       " 'node_262': 1636.246599392545,\n",
       " 'node_263': 0.0,\n",
       " 'node_264': 1636.246599392545,\n",
       " 'node_265': 0.0,\n",
       " 'node_266': 1636.246599392545,\n",
       " 'node_267': 1636.246599392545,\n",
       " 'node_268': 1636.246599392545,\n",
       " 'node_269': 1636.246599392545,\n",
       " 'node_27': 3875.1125555386425,\n",
       " 'node_270': 0.0,\n",
       " 'node_271': 0.0,\n",
       " 'node_272': 1636.246599392545,\n",
       " 'node_273': 3301.664631582432,\n",
       " 'node_274': 0.0,\n",
       " 'node_275': 3301.664631582432,\n",
       " 'node_276': 0.0,\n",
       " 'node_277': 0.0,\n",
       " 'node_278': 936.9233145110904,\n",
       " 'node_279': 936.9233145110904,\n",
       " 'node_28': 1937.5562777693212,\n",
       " 'node_280': 936.9233145110904,\n",
       " 'node_282': 0.0,\n",
       " 'node_283': 4112.741153621033,\n",
       " 'node_284': 0.0,\n",
       " 'node_285': 0.0,\n",
       " 'node_286': 0.0,\n",
       " 'node_287': 0.0,\n",
       " 'node_288': 0.0,\n",
       " 'node_289': 0.0,\n",
       " 'node_29': 989.7421411100585,\n",
       " 'node_290': 0.0,\n",
       " 'node_291': 0.0,\n",
       " 'node_292': 0.0,\n",
       " 'node_293': 0.0,\n",
       " 'node_294': 1133.7795238892663,\n",
       " 'node_295': 0.0,\n",
       " 'node_296': 0.0,\n",
       " 'node_297': 0.0,\n",
       " 'node_298': 0.0,\n",
       " 'node_299': 145.48935291096288,\n",
       " 'node_3': 989.7421411100585,\n",
       " 'node_30': 0.0,\n",
       " 'node_300': 3426.9339746822,\n",
       " 'node_31': 0.0,\n",
       " 'node_32': 1469.5686343053208,\n",
       " 'node_33': 62.85056968681102,\n",
       " 'node_34': 62.85056968681102,\n",
       " 'node_35': 0.0,\n",
       " 'node_36': 62.85056968681102,\n",
       " 'node_37': 5845.646640676072,\n",
       " 'node_39': 0.0,\n",
       " 'node_4': 989.7421411100585,\n",
       " 'node_40': 0.0,\n",
       " 'node_41': 936.9233145110904,\n",
       " 'node_42': 0.0,\n",
       " 'node_43': 0.0,\n",
       " 'node_44': 0.0,\n",
       " 'node_45': 0.0,\n",
       " 'node_46': 0.0,\n",
       " 'node_47': 1063.1903785523405,\n",
       " 'node_49': 0.0,\n",
       " 'node_5': 3301.664631582432,\n",
       " 'node_50': 0.0,\n",
       " 'node_51': 0.0,\n",
       " 'node_53': 0.0,\n",
       " 'node_54': 0.0,\n",
       " 'node_56': 0.0,\n",
       " 'node_58': 0.0,\n",
       " 'node_59': 0.0,\n",
       " 'node_6': 3100.8171471464857,\n",
       " 'node_60': 1636.246599392545,\n",
       " 'node_61': 0.0,\n",
       " 'node_62': 936.9233145110904,\n",
       " 'node_63': 0.0,\n",
       " 'node_64': 0.0,\n",
       " 'node_65': 0.0,\n",
       " 'node_66': 5845.646640676072,\n",
       " 'node_67': 3301.664631582432,\n",
       " 'node_68': 62.85056968681102,\n",
       " 'node_69': 62.85056968681102,\n",
       " 'node_7': 1469.5686343053208,\n",
       " 'node_70': 1469.5686343053208,\n",
       " 'node_71': 989.7421411100585,\n",
       " 'node_72': 989.7421411100585,\n",
       " 'node_73': 3875.1125555386425,\n",
       " 'node_74': 1937.5562777693212,\n",
       " 'node_75': 1688.7588867082336,\n",
       " 'node_77': 1133.7795238892663,\n",
       " 'node_78': 7437.727547617136,\n",
       " 'node_79': 4903.741711626255,\n",
       " 'node_8': 936.9233145110904,\n",
       " 'node_80': 3272.49319878509,\n",
       " 'node_81': 4937.911230974977,\n",
       " 'node_82': 1636.246599392545,\n",
       " 'node_83': 1636.246599392545,\n",
       " 'node_84': 0.0,\n",
       " 'node_85': 1636.246599392545,\n",
       " 'node_88': 2543.9820090936405,\n",
       " 'node_89': 1631.2485128411652,\n",
       " 'node_9': 62.85056968681102,\n",
       " 'node_90': 3100.8171471464857,\n",
       " 'node_91': 3100.8171471464857,\n",
       " 'node_92': 62.85056968681102,\n",
       " 'node_93': 1636.246599392545,\n",
       " 'node_94': 1636.246599392545,\n",
       " 'node_95': 1636.246599392545,\n",
       " 'node_96': 1636.246599392545,\n",
       " 'node_97': 2543.9820090936405,\n",
       " 'node_98': 2543.9820090936405,\n",
       " 'node_99': 2543.9820090936405}"
      ]
     },
     "execution_count": 82,
     "metadata": {},
     "output_type": "execute_result"
    }
   ],
   "source": [
    "temp_dict"
   ]
  },
  {
   "cell_type": "code",
   "execution_count": null,
   "id": "eea212c3",
   "metadata": {},
   "outputs": [
    {
     "ename": "AttributeError",
     "evalue": "'set' object has no attribute 'head'",
     "output_type": "error",
     "traceback": [
      "\u001b[1;31m---------------------------------------------------------------------------\u001b[0m",
      "\u001b[1;31mAttributeError\u001b[0m                            Traceback (most recent call last)",
      "Cell \u001b[1;32mIn[83], line 1\u001b[0m\n\u001b[1;32m----> 1\u001b[0m \u001b[43mnodes\u001b[49m\u001b[38;5;241;43m.\u001b[39;49m\u001b[43mhead\u001b[49m()\n",
      "\u001b[1;31mAttributeError\u001b[0m: 'set' object has no attribute 'head'"
     ]
    }
   ],
   "source": [
    "nodes.head()"
   ]
  },
  {
   "cell_type": "code",
   "execution_count": null,
   "id": "1a1e0e43",
   "metadata": {},
   "outputs": [],
   "source": [
    "# temp_dict = link.groupby('node_index')['population'].sum().to_dict()\n",
    "nodes['catchment'] = nodes.index.map(temp_dict.get)\n",
    "\n",
    "temp_dict = link.groupby('node_index')['catchment_radius'].agg('first').to_dict() \n",
    "nodes['catchment_radius'] = nodes.index.map(temp_dict.get)"
   ]
  },
  {
   "cell_type": "code",
   "execution_count": null,
   "id": "db8164da",
   "metadata": {},
   "outputs": [],
   "source": [
    "nodes.to_file(output_folder + 'nodes.geojson',driver='GeoJSON',engine=io_engine)"
   ]
  }
 ],
 "metadata": {
  "kernelspec": {
   "display_name": "Python 3 (ipykernel)",
   "language": "python",
   "name": "python3"
  },
  "language_info": {
   "codemirror_mode": {
    "name": "ipython",
    "version": 3
   },
   "file_extension": ".py",
   "mimetype": "text/x-python",
   "name": "python",
   "nbconvert_exporter": "python",
   "pygments_lexer": "ipython3",
   "version": "3.8.6"
  }
 },
 "nbformat": 4,
 "nbformat_minor": 5
}
