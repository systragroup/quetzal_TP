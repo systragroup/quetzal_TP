{
 "cells": [
  {
   "cell_type": "code",
   "execution_count": 472,
   "id": "71ccff01",
   "metadata": {},
   "outputs": [
    {
     "name": "stdout",
     "output_type": "stream",
     "text": [
      "{'training_folder': '../../scenarios/jakarta', 'params': {}}\n"
     ]
    }
   ],
   "source": [
    "import sys\n",
    "import json\n",
    "\n",
    "params = {}\n",
    "         \n",
    "default = {'training_folder': '../../scenarios/jakarta', 'params':params} # Default execution parameters\n",
    "manual, argv = (True, default) if 'ipykernel' in sys.argv[0] else (False, dict(default, **json.loads(sys.argv[1])))\n",
    "print(argv)\n"
   ]
  },
  {
   "cell_type": "code",
   "execution_count": 473,
   "id": "99b5db61",
   "metadata": {},
   "outputs": [],
   "source": [
    "import os\n",
    "import time\n",
    "import geopandas as gpd\n",
    "import pandas as pd\n",
    "sys.path.insert(0, r'../../../quetzal') # Add path to quetzal\n",
    "#from quetzal.engine.road_model import RoadModel\n",
    "#from quetzal.engine.pathfinder_utils import get_path, parallel_dijkstra, build_index, sparse_matrix\n",
    "#from quetzal.engine.msa_utils import get_zone_index, assign_volume\n",
    "import numpy as np\n",
    "import random\n",
    "import matplotlib.pyplot as plt\n",
    "from shapely.geometry import Point\n",
    "#from typing import Tuple\n",
    "#from geopy.distance import geodesic  # works for geopy version >=2\n",
    "#from sklearn.cluster import KMeans\n",
    "#from syspy.spatial.spatial import nearest, agglomerative_clustering, voronoi_diagram_dataframes, add_geometry_coordinates\n",
    "#from quetzal.engine.pathfinder_utils import simple_routing,get_path\n",
    "num_cores = 1"
   ]
  },
  {
   "cell_type": "code",
   "execution_count": 474,
   "id": "dc057466",
   "metadata": {},
   "outputs": [],
   "source": [
    "def get_epsg(lat: float, lon: float) -> int:\n",
    "    '''\n",
    "    return EPSG in meter for a given (lat,lon)\n",
    "    lat is north south \n",
    "    lon is est west\n",
    "    '''\n",
    "    return int(32700 - round((45 + lat) / 90, 0) * 100 + round((183 + lon) / 6, 0))\n",
    "\n",
    "def get_flight_distance(x):\n",
    "    # inputs : [(lat,lon), (lat,lon)]. or [(y,x),(y,x)]\n",
    "    # however. geodesic use lon,lat. so its inverted here\n",
    "    return geodesic(x[0], x[1]).m\n",
    "\n",
    "\n"
   ]
  },
  {
   "cell_type": "code",
   "execution_count": 475,
   "id": "bb087e97",
   "metadata": {},
   "outputs": [],
   "source": [
    "def create_mesh(zones: gpd.GeoDataFrame ,step: float = 0.01) -> gpd.GeoDataFrame:\n",
    "    '''\n",
    "    create a mesh in the zones total bbox at every step (in the units of the zones crs)\n",
    "    step: degree if crs=4326, else meters.\n",
    "    '''\n",
    "    x_max, y_max = zones.bounds.max()[['maxx','maxy']].values\n",
    "    x_min, y_min = zones.bounds.min()[['minx','miny']].values\n",
    "\n",
    "    points = []\n",
    "    x = x_min\n",
    "    while x<x_max:\n",
    "        y = y_min\n",
    "        while y<y_max:\n",
    "            points.append(Point(x,y))\n",
    "            y += step\n",
    "        x += step\n",
    "    points = gpd.GeoDataFrame(geometry=points,crs=zones.crs)\n",
    "    points.index.name='index'\n",
    "    return points\n",
    "\n",
    "# https://stackoverflow.com/questions/36399381/whats-the-fastest-way-of-checking-if-a-point-is-inside-a-polygon-in-python\n",
    "from numba import jit, njit\n",
    "import numba\n",
    "@jit(nopython=True)\n",
    "def fast_point_in_polygon(x,y,poly):\n",
    "    n = len(poly)\n",
    "    inside = False\n",
    "    p2x = 0.0\n",
    "    p2y = 0.0\n",
    "    xints = 0.0\n",
    "    p1x,p1y = poly[0]\n",
    "    for i in numba.prange(n+1):\n",
    "        p2x,p2y = poly[i % n]\n",
    "        if y > min(p1y,p2y):\n",
    "            if y <= max(p1y,p2y):\n",
    "                if x <= max(p1x,p2x):\n",
    "                    if p1y != p2y:\n",
    "                        xints = (y-p1y)*(p2x-p1x)/(p2y-p1y)+p1x\n",
    "                    if p1x == p2x or x <= xints:\n",
    "                        inside = not inside\n",
    "        p1x,p1y = p2x,p2y\n",
    "        \n",
    "    return inside\n",
    "\n",
    "\n",
    "@njit(parallel=True)\n",
    "def fast_points_in_polygon(points, polygon):\n",
    "    D = np.empty(len(points), dtype=numba.boolean) \n",
    "    for i in numba.prange(0, len(points)):\n",
    "        D[i] = fast_point_in_polygon(points[i,0], points[i,1], polygon)\n",
    "    return np.where(D)[0]\n",
    "\n",
    "def points_in_polygon(points:np.ndarray, polygon:gpd.GeoDataFrame) -> np.ndarray:\n",
    "    '''\n",
    "    return a list of point in the polygon. values are the index in the points array.\n",
    "    \n",
    "    points:np.array[np.array[float,float]]\n",
    "        list of all the points coords (x,y)\n",
    "    polygon: gpd.GeoDataFrame\n",
    "        geodataframe of multiples polygons.\n",
    "    '''\n",
    "    polygon = np.array([*polygon.exterior.coords])\n",
    "    return fast_points_in_polygon(points,polygon)\n",
    "\n",
    "\n",
    "def population_to_mesh(population: gpd.GeoDataFrame, step: float=0.01,population_col='population') ->  gpd.GeoDataFrame:\n",
    "    '''\n",
    "    create a mesh in the zones total bbox at every step (in the units of the zones crs)\n",
    "    and assign the population to each node equaly (if 2 node in a zone. they have each 50% of the population)\n",
    "    population:\n",
    "        geodataframe with total population by zones ans zones geomerty\n",
    "    step: \n",
    "        degree if crs=4326, else meters.\n",
    "    '''\n",
    "    import warnings\n",
    "    warnings.filterwarnings('ignore')\n",
    "    population=population.copy()\n",
    "    if population.index.name != 'index':\n",
    "        population.index.name = 'index'\n",
    "    points = create_mesh(population, step=step)\n",
    "    points_coords = np.array([point.coords[0] for point in points['geometry'].values])\n",
    "    \n",
    "    population['nodes'] = population['geometry'].apply(lambda x: points_in_polygon(points_coords,x))\n",
    "    \n",
    "    nodes = population.reset_index()[['index','nodes',population_col]].copy()\n",
    "    nodes = nodes.explode('nodes').dropna()\n",
    "    print(len(nodes[nodes['nodes'].duplicated()]),'nodes in multiple zones')\n",
    "    \n",
    "    \n",
    "    zone_index_dict = nodes.set_index('nodes')['index'].to_dict()\n",
    "    points['zone'] = points.index.map(zone_index_dict)\n",
    "\n",
    "    pop_dict = nodes.set_index('nodes')[population_col].to_dict()\n",
    "    points[population_col] = points.index.map(pop_dict)\n",
    "    points = points.dropna()\n",
    "    \n",
    "    # get number of points per zones. divide population equaly between each points\n",
    "    len_dict = points.groupby('zone')[population_col].agg(len).to_dict()\n",
    "    points['num_points'] = points['zone'].apply(lambda x:len_dict.get(x))\n",
    "    points[population_col] = points[population_col] / points['num_points']\n",
    "    points = points.drop(columns = ['num_points'])\n",
    "    \n",
    "    print(len(population) - len(points['zone'].unique()),'unfounded zones. centroids will be added to the mesh')\n",
    "    \n",
    "    # find zones not in any points of the mesh.\n",
    "    # add those zones centroid as a single mesh point.\n",
    "    zones_list = points['zone'].unique()\n",
    "    unfounded_zones = population.loc[~population.index.isin(zones_list)][['geometry',population_col]]\n",
    "    unfounded_zones['geometry'] = unfounded_zones.centroid\n",
    "\n",
    "    unfounded_zones = unfounded_zones.reset_index().rename(columns={'index':'zone'})\n",
    "    points = pd.concat([points,unfounded_zones]).reset_index(drop=True)\n",
    "    points.index.name='index'\n",
    "    \n",
    "    return points"
   ]
  },
  {
   "cell_type": "code",
   "execution_count": 476,
   "id": "4e405b87",
   "metadata": {},
   "outputs": [
    {
     "name": "stdout",
     "output_type": "stream",
     "text": [
      "../../scenarios/jakarta/inputs/pt/\n"
     ]
    }
   ],
   "source": [
    "base_folder = argv['training_folder']\n",
    "pt_folder = base_folder + '/inputs/pt/'\n",
    "input_folder = base_folder +'/inputs/'\n",
    "od_folder = base_folder + '/inputs/od/'\n",
    "output_folder = base_folder +'/outputs/'\n",
    "print(pt_folder)\n",
    "if not os.path.exists(output_folder):\n",
    "    os.makedirs(output_folder)\n"
   ]
  },
  {
   "cell_type": "markdown",
   "id": "cdd032bd",
   "metadata": {},
   "source": [
    "# inputs"
   ]
  },
  {
   "cell_type": "code",
   "execution_count": 477,
   "id": "7dadadbf",
   "metadata": {},
   "outputs": [],
   "source": [
    "#cst_incline = argv['params' ]['constant']['cst_incline']\n",
    "#cst_road = argv['params']['road_weight']\n",
    "#cst_shared = argv['params']['shared_cycleway_weight']"
   ]
  },
  {
   "cell_type": "code",
   "execution_count": 478,
   "id": "1a674100",
   "metadata": {},
   "outputs": [],
   "source": [
    "links = gpd.read_file(pt_folder + 'links.geojson') \n",
    "nodes = gpd.read_file(pt_folder + 'nodes.geojson')\n",
    "links = links.set_index('index')\n",
    "nodes = nodes.set_index('index')"
   ]
  },
  {
   "cell_type": "code",
   "execution_count": 479,
   "id": "8c5c4543",
   "metadata": {},
   "outputs": [],
   "source": [
    "population = gpd.read_file(input_folder + 'population.geojson')\n",
    "if 'index' in population.columns:\n",
    "    population = population.set_index('index')\n",
    "else:\n",
    "    population.index.name='index'"
   ]
  },
  {
   "cell_type": "code",
   "execution_count": 480,
   "id": "6071cbdf",
   "metadata": {},
   "outputs": [],
   "source": [
    "od_file = od_folder + 'od.geojson'\n",
    "od_file_provided = os.path.isfile(od_file)\n",
    "if od_file_provided:\n",
    "    od_test = gpd.read_file(od_folder + 'od.geojson')\n",
    "    if 'name' not in od_test.columns:\n",
    "        od_test['name'] = od_test['index']\n",
    "    od_test['name'] = od_test['name'].fillna(od_test['index'].astype(str))"
   ]
  },
  {
   "cell_type": "markdown",
   "id": "5957e96e",
   "metadata": {},
   "source": [
    "# population preapation"
   ]
  },
  {
   "cell_type": "code",
   "execution_count": 481,
   "id": "7550b3f8",
   "metadata": {},
   "outputs": [],
   "source": [
    "#get_epsg( -6.58316,106.79165)"
   ]
  },
  {
   "cell_type": "code",
   "execution_count": 482,
   "id": "69f9b3a1",
   "metadata": {},
   "outputs": [],
   "source": [
    "centroid = [*population.centroid[0].coords][0]"
   ]
  },
  {
   "cell_type": "code",
   "execution_count": 483,
   "id": "eb7bde48",
   "metadata": {},
   "outputs": [],
   "source": [
    "crs = get_epsg(centroid[1],centroid[0])"
   ]
  },
  {
   "cell_type": "code",
   "execution_count": 484,
   "id": "fb323552",
   "metadata": {},
   "outputs": [
    {
     "data": {
      "text/plain": [
       "6803.724157998284"
      ]
     },
     "execution_count": 484,
     "metadata": {},
     "output_type": "execute_result"
    }
   ],
   "source": [
    "population['area (km2)'] = population.to_crs(crs).area*1e-6\n",
    "population['area (km2)'].sum()"
   ]
  },
  {
   "cell_type": "code",
   "execution_count": 485,
   "id": "535527f3",
   "metadata": {},
   "outputs": [
    {
     "data": {
      "text/plain": [
       "31232829.78657818"
      ]
     },
     "execution_count": 485,
     "metadata": {},
     "output_type": "execute_result"
    }
   ],
   "source": [
    "population['population'] = population['density']*population['area (km2)']\n",
    "population['population'].sum()"
   ]
  },
  {
   "cell_type": "markdown",
   "id": "e2fe490c",
   "metadata": {},
   "source": [
    "# population mesh"
   ]
  },
  {
   "cell_type": "code",
   "execution_count": 486,
   "id": "a39af9a7",
   "metadata": {},
   "outputs": [
    {
     "name": "stdout",
     "output_type": "stream",
     "text": [
      "0 nodes in multiple zones\n",
      "66 unfounded zones. centroids will be added to the mesh\n"
     ]
    }
   ],
   "source": [
    "mesh = population_to_mesh(population, step=0.01, population_col = 'population')"
   ]
  },
  {
   "cell_type": "code",
   "execution_count": null,
   "id": "54c9e239",
   "metadata": {},
   "outputs": [],
   "source": []
  },
  {
   "cell_type": "code",
   "execution_count": 487,
   "id": "29ec8f55",
   "metadata": {},
   "outputs": [],
   "source": [
    "mesh.to_file(output_folder + 'population_mesh.geojson',driver='GeoJSON')"
   ]
  },
  {
   "cell_type": "code",
   "execution_count": null,
   "id": "aa66c181",
   "metadata": {},
   "outputs": [],
   "source": []
  },
  {
   "cell_type": "markdown",
   "id": "27e4d99f",
   "metadata": {},
   "source": [
    "# catchment"
   ]
  },
  {
   "cell_type": "code",
   "execution_count": 488,
   "id": "d8825a6d",
   "metadata": {},
   "outputs": [
    {
     "data": {
      "text/plain": [
       "217"
      ]
     },
     "execution_count": 488,
     "metadata": {},
     "output_type": "execute_result"
    }
   ],
   "source": [
    "len(links['route_id'].unique())"
   ]
  },
  {
   "cell_type": "code",
   "execution_count": 489,
   "id": "c8dcb13c",
   "metadata": {},
   "outputs": [
    {
     "data": {
      "text/plain": [
       "1"
      ]
     },
     "execution_count": 489,
     "metadata": {},
     "output_type": "execute_result"
    }
   ],
   "source": [
    "len(links['route_type'].unique())"
   ]
  },
  {
   "cell_type": "code",
   "execution_count": 591,
   "id": "c48a7377",
   "metadata": {},
   "outputs": [],
   "source": [
    "def nearest(one, many, radius=100, geometry=False):\n",
    "    try:\n",
    "        # Assert df_many.index.is_unique\n",
    "        assert one.index.is_unique\n",
    "        assert many.index.is_unique\n",
    "    except AssertionError:\n",
    "        msg = 'Index of one or many should not contain duplicates'\n",
    "        print(msg)\n",
    "        warnings.warn(msg)\n",
    "    many = add_geometry_coordinates(many.copy(), columns=['x_geometry', 'y_geometry'])\n",
    "    one = add_geometry_coordinates(one.copy())\n",
    "    \n",
    "    x = many[['x_geometry', 'y_geometry']].values\n",
    "    # Fit Nearest neighbors model\n",
    "    #nbrs = NearestNeighbors(n_neighbors=n_neighbors, algorithm='ball_tree').fit(x)\n",
    "    nbrs = NearestNeighbors(radius=radius,algorithm='ball_tree').fit(x)\n",
    "\n",
    "\n",
    "    # x = df_many[['x_geometry','y_geometry']].values\n",
    "    y = one[['x_geometry', 'y_geometry']].values\n",
    "\n",
    "    #distances, indices = nbrs.kneighbors(y,return_distance=True)\n",
    "    distances, indices = nbrs.radius_neighbors(y, radius = radius, return_distance=True)\n",
    "\n",
    "    indices = pd.DataFrame(indices)\n",
    "    indices = pd.DataFrame(indices.stack(), columns=['index_nn']).reset_index().rename(\n",
    "        columns={'level_0': 'ix_one', 'level_1': 'rank'}\n",
    "    )\n",
    "    indices['distances'] = distances\n",
    "    return indices"
   ]
  },
  {
   "cell_type": "code",
   "execution_count": 592,
   "id": "5ac4e8d4",
   "metadata": {},
   "outputs": [],
   "source": [
    "from syspy.spatial.spatial import add_geometry_coordinates\n",
    "from sklearn.neighbors import NearestNeighbors\n",
    "\n"
   ]
  },
  {
   "cell_type": "code",
   "execution_count": null,
   "id": "da874bc5",
   "metadata": {},
   "outputs": [],
   "source": []
  },
  {
   "cell_type": "code",
   "execution_count": null,
   "id": "62601283",
   "metadata": {},
   "outputs": [],
   "source": [
    "# find TC nodes to mesh distance"
   ]
  },
  {
   "cell_type": "code",
   "execution_count": 755,
   "id": "9f2ad2cd",
   "metadata": {},
   "outputs": [],
   "source": [
    "node_dist = nearest(nodes.to_crs(crs),mesh.to_crs(crs),3000)\n",
    "node_dist = node_dist.rename(columns={'ix_one': 'node_index','index_nn':'mesh_index'}).drop(columns='rank')"
   ]
  },
  {
   "cell_type": "code",
   "execution_count": 756,
   "id": "b165b62a",
   "metadata": {},
   "outputs": [],
   "source": [
    "nodes_index_dict = nodes.reset_index()['index'].to_dict()\n",
    "node_dist['node_index'] = node_dist['node_index'].apply(lambda x: nodes_index_dict.get(x))"
   ]
  },
  {
   "cell_type": "code",
   "execution_count": 757,
   "id": "b65d9239",
   "metadata": {},
   "outputs": [],
   "source": [
    "node_dist = node_dist.explode(['mesh_index','distances'])\n",
    "population_dict = mesh['population'].to_dict()\n",
    "node_dist['population'] = node_dist['mesh_index'].apply(lambda x: population_dict.get(x))\n"
   ]
  },
  {
   "cell_type": "code",
   "execution_count": null,
   "id": "3545b7d5",
   "metadata": {},
   "outputs": [],
   "source": []
  },
  {
   "cell_type": "code",
   "execution_count": null,
   "id": "e0771a65",
   "metadata": {},
   "outputs": [],
   "source": []
  },
  {
   "cell_type": "code",
   "execution_count": 758,
   "id": "e0e6eadc",
   "metadata": {},
   "outputs": [
    {
     "data": {
      "text/plain": [
       "217"
      ]
     },
     "execution_count": 758,
     "metadata": {},
     "output_type": "execute_result"
    }
   ],
   "source": [
    "len(links['route_id'].unique())"
   ]
  },
  {
   "cell_type": "code",
   "execution_count": 759,
   "id": "b2395f1e",
   "metadata": {},
   "outputs": [
    {
     "name": "stdout",
     "output_type": "stream",
     "text": [
      "357239472.2862398\n",
      "CPU times: user 1.49 s, sys: 4.04 ms, total: 1.49 s\n",
      "Wall time: 1.49 s\n"
     ]
    }
   ],
   "source": [
    "%%time\n",
    "res={}\n",
    "for route_id in links['route_id'].unique():\n",
    "    link = links[links['route_id'] == route_id]\n",
    "    nodes_set = (set(link['a'].values).union(set(link['a'].values)))\n",
    "    link_nodes = node_dist[node_dist['node_index'].isin(nodes_set)]\n",
    "    volume = link_nodes.drop_duplicates('mesh_index')['population'].sum()\n",
    "    res[route_id] = volume\n",
    "print(sum([item for key,item in res.items()]))"
   ]
  },
  {
   "cell_type": "code",
   "execution_count": 760,
   "id": "c05886bb",
   "metadata": {},
   "outputs": [
    {
     "name": "stdout",
     "output_type": "stream",
     "text": [
      "17020132.917962827\n",
      "CPU times: user 32.8 ms, sys: 11 µs, total: 32.8 ms\n",
      "Wall time: 31.9 ms\n"
     ]
    }
   ],
   "source": [
    "%%time\n",
    "res={}\n",
    "for route_id in links['route_type'].unique():\n",
    "    link = links[links['route_type'] == route_id]\n",
    "    nodes_set = (set(link['a'].values).union(set(link['a'].values)))\n",
    "    link_nodes = node_dist[node_dist['node_index'].isin(nodes_set)]\n",
    "    volume = link_nodes.drop_duplicates('mesh_index')['population'].sum()\n",
    "    res[route_id] = volume\n",
    "print(sum([item for key,item in res.items()]))"
   ]
  },
  {
   "cell_type": "code",
   "execution_count": 766,
   "id": "4e04d2f1",
   "metadata": {},
   "outputs": [
    {
     "name": "stdout",
     "output_type": "stream",
     "text": [
      "36609.18500763753\n",
      "2479863.1200390784\n",
      "13384986.8075926\n",
      "15615014.072050348\n",
      "17020132.917962827\n",
      "CPU times: user 132 ms, sys: 3.99 ms, total: 136 ms\n",
      "Wall time: 135 ms\n"
     ]
    }
   ],
   "source": [
    "%%time\n",
    "res=[]\n",
    "dists = [0,1,10,20,50,100,500,1000,2]\n",
    "for dist in dists:\n",
    "    nodes_set = (set(links['a'].values).union(set(links['a'].values)))\n",
    "    link_nodes = node_dist[node_dist['node_index'].isin(nodes_set)]\n",
    "    link_nodes = link_nodes[link_nodes['distances']<dist]\n",
    "    volume = link_nodes.drop_duplicates('mesh_index')['population'].sum()\n",
    "    res.append(volume)\n",
    "    print(volume)"
   ]
  },
  {
   "cell_type": "code",
   "execution_count": 767,
   "id": "2056cdab",
   "metadata": {},
   "outputs": [
    {
     "data": {
      "text/plain": [
       "[<matplotlib.lines.Line2D at 0x7fae08256550>]"
      ]
     },
     "execution_count": 767,
     "metadata": {},
     "output_type": "execute_result"
    },
    {
     "data": {
      "image/png": "[encoded data removed]",
      "text/plain": [
       "<Figure size 640x480 with 1 Axes>"
      ]
     },
     "metadata": {},
     "output_type": "display_data"
    }
   ],
   "source": [
    "plt.plot(dists,res)"
   ]
  },
  {
   "cell_type": "code",
   "execution_count": null,
   "id": "a7701b3f",
   "metadata": {},
   "outputs": [],
   "source": []
  },
  {
   "cell_type": "code",
   "execution_count": 733,
   "id": "f7785010",
   "metadata": {},
   "outputs": [
    {
     "data": {
      "text/plain": [
       "514930.4189033144"
      ]
     },
     "execution_count": 733,
     "metadata": {},
     "output_type": "execute_result"
    }
   ],
   "source": []
  },
  {
   "cell_type": "code",
   "execution_count": null,
   "id": "5a6852d1",
   "metadata": {},
   "outputs": [],
   "source": []
  },
  {
   "cell_type": "markdown",
   "id": "11dfe2fb",
   "metadata": {},
   "source": [
    "# test"
   ]
  },
  {
   "cell_type": "code",
   "execution_count": 706,
   "id": "b879e22a",
   "metadata": {},
   "outputs": [
    {
     "data": {
      "text/html": [
       "<div>\n",
       "<style scoped>\n",
       "    .dataframe tbody tr th:only-of-type {\n",
       "        vertical-align: middle;\n",
       "    }\n",
       "\n",
       "    .dataframe tbody tr th {\n",
       "        vertical-align: top;\n",
       "    }\n",
       "\n",
       "    .dataframe thead th {\n",
       "        text-align: right;\n",
       "    }\n",
       "</style>\n",
       "<table border=\"1\" class=\"dataframe\">\n",
       "  <thead>\n",
       "    <tr style=\"text-align: right;\">\n",
       "      <th></th>\n",
       "      <th>node_index</th>\n",
       "      <th>mesh_index</th>\n",
       "      <th>distances</th>\n",
       "    </tr>\n",
       "  </thead>\n",
       "  <tbody>\n",
       "    <tr>\n",
       "      <th>0</th>\n",
       "      <td>node_0</td>\n",
       "      <td>[3049, 3050, 2918, 3048, 2920, 2984, 2985, 291...</td>\n",
       "      <td>[1265.465060434163, 1656.3926370385564, 1484.9...</td>\n",
       "    </tr>\n",
       "    <tr>\n",
       "      <th>1</th>\n",
       "      <td>node_1</td>\n",
       "      <td>[5551, 5564, 2995, 2996, 2929, 5602, 5607, 558...</td>\n",
       "      <td>[1977.6263879881608, 1960.3755783895344, 829.2...</td>\n",
       "    </tr>\n",
       "    <tr>\n",
       "      <th>2</th>\n",
       "      <td>node_2</td>\n",
       "      <td>[2402, 2403, 2464, 2466, 2594, 2467, 2530, 252...</td>\n",
       "      <td>[1611.907134086658, 1524.630724982175, 1817.96...</td>\n",
       "    </tr>\n",
       "    <tr>\n",
       "      <th>3</th>\n",
       "      <td>node_3</td>\n",
       "      <td>[3180, 3113, 3112, 3049, 3050, 3048, 2984, 311...</td>\n",
       "      <td>[1744.5176574733364, 778.5878831369325, 1747.3...</td>\n",
       "    </tr>\n",
       "    <tr>\n",
       "      <th>4</th>\n",
       "      <td>node_4</td>\n",
       "      <td>[2847, 2846, 2909, 2975, 2974, 2911, 2910, 297...</td>\n",
       "      <td>[1772.5251358715707, 1547.4060683290306, 1388....</td>\n",
       "    </tr>\n",
       "    <tr>\n",
       "      <th>...</th>\n",
       "      <td>...</td>\n",
       "      <td>...</td>\n",
       "      <td>...</td>\n",
       "    </tr>\n",
       "    <tr>\n",
       "      <th>6982</th>\n",
       "      <td>node_6982</td>\n",
       "      <td>[5588, 2933, 2869, 2998, 2802, 2932, 5561, 286...</td>\n",
       "      <td>[1249.648933240863, 588.6397682425078, 612.030...</td>\n",
       "    </tr>\n",
       "    <tr>\n",
       "      <th>6983</th>\n",
       "      <td>node_6983</td>\n",
       "      <td>[5588, 2933, 2869, 2998, 2802, 2932, 5561, 286...</td>\n",
       "      <td>[1297.7477565182787, 955.3407295483518, 818.96...</td>\n",
       "    </tr>\n",
       "    <tr>\n",
       "      <th>6984</th>\n",
       "      <td>node_6984</td>\n",
       "      <td>[3330, 3398, 3263, 3264, 3332, 3331, 3401, 333...</td>\n",
       "      <td>[1700.0196053775644, 1852.64700231443, 1524.44...</td>\n",
       "    </tr>\n",
       "    <tr>\n",
       "      <th>6985</th>\n",
       "      <td>node_6985</td>\n",
       "      <td>[3262, 3330, 3398, 3263, 3264, 3332, 3331, 333...</td>\n",
       "      <td>[1880.9875820290142, 1359.4710318811965, 1615....</td>\n",
       "    </tr>\n",
       "    <tr>\n",
       "      <th>6986</th>\n",
       "      <td>node_6986</td>\n",
       "      <td>[3263, 3264, 3265, 3332, 3331, 3401, 3333, 339...</td>\n",
       "      <td>[1685.2198230088727, 1394.1050837188193, 1869....</td>\n",
       "    </tr>\n",
       "  </tbody>\n",
       "</table>\n",
       "<p>6987 rows × 3 columns</p>\n",
       "</div>"
      ],
      "text/plain": [
       "     node_index                                         mesh_index  \\\n",
       "0        node_0  [3049, 3050, 2918, 3048, 2920, 2984, 2985, 291...   \n",
       "1        node_1  [5551, 5564, 2995, 2996, 2929, 5602, 5607, 558...   \n",
       "2        node_2  [2402, 2403, 2464, 2466, 2594, 2467, 2530, 252...   \n",
       "3        node_3  [3180, 3113, 3112, 3049, 3050, 3048, 2984, 311...   \n",
       "4        node_4  [2847, 2846, 2909, 2975, 2974, 2911, 2910, 297...   \n",
       "...         ...                                                ...   \n",
       "6982  node_6982  [5588, 2933, 2869, 2998, 2802, 2932, 5561, 286...   \n",
       "6983  node_6983  [5588, 2933, 2869, 2998, 2802, 2932, 5561, 286...   \n",
       "6984  node_6984  [3330, 3398, 3263, 3264, 3332, 3331, 3401, 333...   \n",
       "6985  node_6985  [3262, 3330, 3398, 3263, 3264, 3332, 3331, 333...   \n",
       "6986  node_6986  [3263, 3264, 3265, 3332, 3331, 3401, 3333, 339...   \n",
       "\n",
       "                                              distances  \n",
       "0     [1265.465060434163, 1656.3926370385564, 1484.9...  \n",
       "1     [1977.6263879881608, 1960.3755783895344, 829.2...  \n",
       "2     [1611.907134086658, 1524.630724982175, 1817.96...  \n",
       "3     [1744.5176574733364, 778.5878831369325, 1747.3...  \n",
       "4     [1772.5251358715707, 1547.4060683290306, 1388....  \n",
       "...                                                 ...  \n",
       "6982  [1249.648933240863, 588.6397682425078, 612.030...  \n",
       "6983  [1297.7477565182787, 955.3407295483518, 818.96...  \n",
       "6984  [1700.0196053775644, 1852.64700231443, 1524.44...  \n",
       "6985  [1880.9875820290142, 1359.4710318811965, 1615....  \n",
       "6986  [1685.2198230088727, 1394.1050837188193, 1869....  \n",
       "\n",
       "[6987 rows x 3 columns]"
      ]
     },
     "execution_count": 706,
     "metadata": {},
     "output_type": "execute_result"
    }
   ],
   "source": [
    "node_dist"
   ]
  },
  {
   "cell_type": "code",
   "execution_count": 707,
   "id": "3f8963aa",
   "metadata": {},
   "outputs": [
    {
     "data": {
      "text/html": [
       "<div>\n",
       "<style scoped>\n",
       "    .dataframe tbody tr th:only-of-type {\n",
       "        vertical-align: middle;\n",
       "    }\n",
       "\n",
       "    .dataframe tbody tr th {\n",
       "        vertical-align: top;\n",
       "    }\n",
       "\n",
       "    .dataframe thead th {\n",
       "        text-align: right;\n",
       "    }\n",
       "</style>\n",
       "<table border=\"1\" class=\"dataframe\">\n",
       "  <thead>\n",
       "    <tr style=\"text-align: right;\">\n",
       "      <th></th>\n",
       "      <th>node_index</th>\n",
       "      <th>mesh_index</th>\n",
       "      <th>distances</th>\n",
       "    </tr>\n",
       "  </thead>\n",
       "  <tbody>\n",
       "    <tr>\n",
       "      <th>0</th>\n",
       "      <td>node_0</td>\n",
       "      <td>3049</td>\n",
       "      <td>1265.46506</td>\n",
       "    </tr>\n",
       "    <tr>\n",
       "      <th>0</th>\n",
       "      <td>node_0</td>\n",
       "      <td>3050</td>\n",
       "      <td>1656.392637</td>\n",
       "    </tr>\n",
       "    <tr>\n",
       "      <th>0</th>\n",
       "      <td>node_0</td>\n",
       "      <td>2918</td>\n",
       "      <td>1484.901861</td>\n",
       "    </tr>\n",
       "    <tr>\n",
       "      <th>0</th>\n",
       "      <td>node_0</td>\n",
       "      <td>3048</td>\n",
       "      <td>1704.593402</td>\n",
       "    </tr>\n",
       "    <tr>\n",
       "      <th>0</th>\n",
       "      <td>node_0</td>\n",
       "      <td>2920</td>\n",
       "      <td>1429.302763</td>\n",
       "    </tr>\n",
       "    <tr>\n",
       "      <th>...</th>\n",
       "      <td>...</td>\n",
       "      <td>...</td>\n",
       "      <td>...</td>\n",
       "    </tr>\n",
       "    <tr>\n",
       "      <th>6986</th>\n",
       "      <td>node_6986</td>\n",
       "      <td>3401</td>\n",
       "      <td>1502.371094</td>\n",
       "    </tr>\n",
       "    <tr>\n",
       "      <th>6986</th>\n",
       "      <td>node_6986</td>\n",
       "      <td>3333</td>\n",
       "      <td>1284.487034</td>\n",
       "    </tr>\n",
       "    <tr>\n",
       "      <th>6986</th>\n",
       "      <td>node_6986</td>\n",
       "      <td>3399</td>\n",
       "      <td>1266.282805</td>\n",
       "    </tr>\n",
       "    <tr>\n",
       "      <th>6986</th>\n",
       "      <td>node_6986</td>\n",
       "      <td>3400</td>\n",
       "      <td>840.834068</td>\n",
       "    </tr>\n",
       "    <tr>\n",
       "      <th>6986</th>\n",
       "      <td>node_6986</td>\n",
       "      <td>3469</td>\n",
       "      <td>1940.398513</td>\n",
       "    </tr>\n",
       "  </tbody>\n",
       "</table>\n",
       "<p>80828 rows × 3 columns</p>\n",
       "</div>"
      ],
      "text/plain": [
       "     node_index mesh_index    distances\n",
       "0        node_0       3049   1265.46506\n",
       "0        node_0       3050  1656.392637\n",
       "0        node_0       2918  1484.901861\n",
       "0        node_0       3048  1704.593402\n",
       "0        node_0       2920  1429.302763\n",
       "...         ...        ...          ...\n",
       "6986  node_6986       3401  1502.371094\n",
       "6986  node_6986       3333  1284.487034\n",
       "6986  node_6986       3399  1266.282805\n",
       "6986  node_6986       3400   840.834068\n",
       "6986  node_6986       3469  1940.398513\n",
       "\n",
       "[80828 rows x 3 columns]"
      ]
     },
     "execution_count": 707,
     "metadata": {},
     "output_type": "execute_result"
    }
   ],
   "source": []
  },
  {
   "cell_type": "code",
   "execution_count": null,
   "id": "6975ffee",
   "metadata": {},
   "outputs": [],
   "source": []
  }
 ],
 "metadata": {
  "kernelspec": {
   "display_name": "Python 3 (ipykernel)",
   "language": "python",
   "name": "python3"
  },
  "language_info": {
   "codemirror_mode": {
    "name": "ipython",
    "version": 3
   },
   "file_extension": ".py",
   "mimetype": "text/x-python",
   "name": "python",
   "nbconvert_exporter": "python",
   "pygments_lexer": "ipython3",
   "version": "3.8.6"
  }
 },
 "nbformat": 4,
 "nbformat_minor": 5
}
