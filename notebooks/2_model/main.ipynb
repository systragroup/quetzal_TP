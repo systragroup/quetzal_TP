{
 "cells": [
  {
   "cell_type": "code",
   "execution_count": 1871,
   "id": "71ccff01",
   "metadata": {},
   "outputs": [
    {
     "name": "stdout",
     "output_type": "stream",
     "text": [
      "{'training_folder': '../../scenarios/montreal', 'params': {'catchment_radius': {'bus': 800, 'subway': 1000}}}\n"
     ]
    }
   ],
   "source": [
    "import sys\n",
    "import json\n",
    "\n",
    "catchment_radius={'bus':800,'subway':1000}\n",
    "\n",
    "params = {'catchment_radius':catchment_radius}\n",
    "         \n",
    "default = {'training_folder': '../../scenarios/montreal', 'params':params} # Default execution parameters\n",
    "manual, argv = (True, default) if 'ipykernel' in sys.argv[0] else (False, dict(default, **json.loads(sys.argv[1])))\n",
    "print(argv)\n"
   ]
  },
  {
   "cell_type": "code",
   "execution_count": 1933,
   "id": "99b5db61",
   "metadata": {},
   "outputs": [],
   "source": [
    "import os\n",
    "import time\n",
    "import geopandas as gpd\n",
    "import pandas as pd\n",
    "sys.path.insert(0, r'../../../quetzal') # Add path to quetzal\n",
    "import numpy as np\n",
    "import random\n",
    "import matplotlib.pyplot as plt\n",
    "from shapely.geometry import Point, LineString\n",
    "from syspy.spatial.spatial import add_geometry_coordinates, nearest\n",
    "from sklearn.neighbors import NearestNeighbors\n",
    "from typing import Literal\n",
    "#num_cores = 1"
   ]
  },
  {
   "cell_type": "code",
   "execution_count": 1934,
   "id": "dc057466",
   "metadata": {},
   "outputs": [],
   "source": [
    "# from quetzal_cyclops\n",
    "def get_epsg(lat: float, lon: float) -> int:\n",
    "    '''\n",
    "    lat, lon or y, x\n",
    "    return EPSG in meter for a given (lat,lon)\n",
    "    lat is north south \n",
    "    lon is est west\n",
    "    '''\n",
    "    return int(32700 - round((45 + lat) / 90, 0) * 100 + round((183 + lon) / 6, 0))\n",
    "\n",
    "# from quetzal_cyclops\n",
    "def zones_nearest_node(zones,nodes,drop_duplicates=False):\n",
    "    # getting zones centroids\n",
    "    centroid = zones.copy()\n",
    "    centroid['geometry'] = centroid.centroid\n",
    "    # finding nearest node\n",
    "    neigh = nearest(centroid, nodes, n_neighbors=1).rename(columns={'ix_one': 'zone_index', 'ix_many': 'node_index'})\n",
    "    zone_node_dict = neigh.set_index('zone_index')['node_index'].to_dict()\n",
    "    centroid['node_index'] = centroid.index.map(zone_node_dict.get)\n",
    "    #print('max_distance found: ', neigh['distance'].max())\n",
    "    # check for duplicated nodes. if there is. drop the duplicated zones.\n",
    "    if drop_duplicates:\n",
    "        if len(centroid.drop_duplicates('node_index')) != len(centroid):\n",
    "            print('there is zones associates to the same road_node')\n",
    "            # duplicated = centroid[centroid['node_index'].duplicated()]['node_index'].values\n",
    "            print('dropping zones: ')\n",
    "            print(centroid[centroid['node_index'].duplicated()].index.values)\n",
    "            centroid = centroid.drop_duplicates('node_index')\n",
    "    return centroid\n",
    "\n"
   ]
  },
  {
   "cell_type": "code",
   "execution_count": 1935,
   "id": "bb087e97",
   "metadata": {},
   "outputs": [],
   "source": [
    "def get_catchment_dist(link: gpd.GeoDataFrame, catchment_radius: dict, default: float=500):\n",
    "    route_type = link['route_type'].unique()\n",
    "    if len(route_type)>1:\n",
    "        print('multiple route type for a single route_id.. using first one for catchment radius')\n",
    "    route_type = route_type[0]\n",
    "    return catchment_radius.get(route_type, default)\n",
    "\n",
    "\n",
    "def nearest_radius(one, many, radius=100, geometry=False):\n",
    "    try:\n",
    "        # Assert df_many.index.is_unique\n",
    "        assert one.index.is_unique\n",
    "        assert many.index.is_unique\n",
    "    except AssertionError:\n",
    "        msg = 'Index of one or many should not contain duplicates'\n",
    "        print(msg)\n",
    "        warnings.warn(msg)\n",
    "    many = add_geometry_coordinates(many.copy(), columns=['x_geometry', 'y_geometry'])\n",
    "    one = add_geometry_coordinates(one.copy())\n",
    "    \n",
    "    x = many[['x_geometry', 'y_geometry']].values\n",
    "    # Fit Nearest neighbors model\n",
    "    #nbrs = NearestNeighbors(n_neighbors=n_neighbors, algorithm='ball_tree').fit(x)\n",
    "    nbrs = NearestNeighbors(radius=radius,algorithm='ball_tree').fit(x)\n",
    "\n",
    "\n",
    "    # x = df_many[['x_geometry','y_geometry']].values\n",
    "    y = one[['x_geometry', 'y_geometry']].values\n",
    "\n",
    "    #distances, indices = nbrs.kneighbors(y,return_distance=True)\n",
    "    distances, indices = nbrs.radius_neighbors(y, radius = radius, return_distance=True)\n",
    "\n",
    "    indices = pd.DataFrame(indices)\n",
    "    indices = pd.DataFrame(indices.stack(), columns=['index_nn']).reset_index().rename(\n",
    "        columns={'level_0': 'ix_one', 'level_1': 'rank'}\n",
    "    )\n",
    "    indices['distances'] = distances\n",
    "    return indices\n",
    "\n",
    "def create_mesh(zones: gpd.GeoDataFrame ,step: float = 0.01) -> gpd.GeoDataFrame:\n",
    "    '''\n",
    "    create a mesh in the zones total bbox at every step (in the units of the zones crs)\n",
    "    step: degree if crs=4326, else meters. 0.01 deg ~ 1km\n",
    "    '''\n",
    "    x_max, y_max = zones.bounds.max()[['maxx','maxy']].values\n",
    "    x_min, y_min = zones.bounds.min()[['minx','miny']].values\n",
    "\n",
    "    points = []\n",
    "    x = x_min\n",
    "    while x<x_max:\n",
    "        y = y_min\n",
    "        while y<y_max:\n",
    "            points.append(Point(x,y))\n",
    "            y += step\n",
    "        x += step\n",
    "    points = gpd.GeoDataFrame(geometry=points,crs=zones.crs)\n",
    "    points.index.name='index'\n",
    "    return points\n",
    "\n",
    "# https://stackoverflow.com/questions/36399381/whats-the-fastest-way-of-checking-if-a-point-is-inside-a-polygon-in-python\n",
    "from numba import jit, njit\n",
    "import numba as nb\n",
    "@jit(nopython=True)\n",
    "def fast_point_in_polygon(x: float, y: float , poly: np.ndarray) -> bool:\n",
    "    n = len(poly)\n",
    "    inside = False\n",
    "    p2x = 0.0\n",
    "    p2y = 0.0\n",
    "    xints = 0.0\n",
    "    p1x,p1y = poly[0]\n",
    "    for i in nb.prange(n+1):\n",
    "        p2x,p2y = poly[i % n]\n",
    "        if y > min(p1y,p2y):\n",
    "            if y <= max(p1y,p2y):\n",
    "                if x <= max(p1x,p2x):\n",
    "                    if p1y != p2y:\n",
    "                        xints = (y-p1y)*(p2x-p1x)/(p2y-p1y)+p1x\n",
    "                    if p1x == p2x or x <= xints:\n",
    "                        inside = not inside\n",
    "        p1x,p1y = p2x,p2y\n",
    "        \n",
    "    return inside\n",
    "\n",
    "\n",
    "@njit(parallel=True)\n",
    "def fast_points_in_polygon(points:np.ndarray, polygon:np.ndarray) -> np.ndarray:\n",
    "    D = np.empty(len(points), dtype=nb.boolean) \n",
    "    for i in nb.prange(0, len(points)):\n",
    "        D[i] = fast_point_in_polygon(points[i,0], points[i,1], polygon)\n",
    "    return np.where(D)[0]\n",
    "\n",
    "def points_in_polygon(points:np.ndarray, polygon:gpd.GeoDataFrame) -> np.ndarray:\n",
    "    '''\n",
    "    return a list of point in the polygon. values are the index in the points array.\n",
    "    \n",
    "    points:np.array[np.array[float,float]]\n",
    "        list of all the points coords (x,y)\n",
    "    polygon: gpd.GeoDataFrame\n",
    "        geodataframe of multiples polygons.\n",
    "    '''\n",
    "    polygon = np.array([*polygon.exterior.coords])\n",
    "    return fast_points_in_polygon(points,polygon)\n",
    "\n",
    "def population_to_mesh(population: gpd.GeoDataFrame,\n",
    "                       mesh: gpd.GeoDataFrame = None,\n",
    "                       step: float = 0.01,\n",
    "                       col: str = 'population', \n",
    "                       fill_missing: Literal['centroid', 'nearest', None] = 'centroid') ->  gpd.GeoDataFrame:\n",
    "    '''\n",
    "    create a mesh in the zones total bbox at every step (in the units of the zones crs)\n",
    "    and assign the population to each node equaly (if 2 node in a zone. they have each 50% of the population)\n",
    "    population:\n",
    "        geodataframe with total population by zones ans zones geomerty\n",
    "     mesh:\n",
    "        road nodes for example. if None. it will be created with equal step (variable step.)\n",
    "    step: \n",
    "        if mesh is None, Distance between each point degree if crs=4326, else meters. 0.01 deg ~ 1km\n",
    "    col:\n",
    "        column name with data to aggregation (population)\n",
    "    fill_missing: 'centroid', 'nearest', or None\n",
    "        centroid: zones centroid with no mesh node inside will be added to the mesh\n",
    "        nearest: zones population with no mesh point inside will be added to the nearest mesh point.\n",
    "    '''\n",
    "    import warnings\n",
    "    warnings.filterwarnings('ignore')\n",
    "    population=population.copy()\n",
    "    if population.index.name != 'index':\n",
    "        population.index.name = 'index'\n",
    "    # use existing mesh (points .geosjon) or create one.\n",
    "    if mesh is not None:\n",
    "        # we need numerical indexes. also,\n",
    "        # new nodes will be added (new index) for zones with no points inside.\n",
    "        points = mesh.copy()\n",
    "        points = points.reset_index(names='old_index')\n",
    "        points.index.name='index'\n",
    "    else:\n",
    "        points = create_mesh(population, step=step)\n",
    "        \n",
    "    points_coords = np.array([point.coords[0] for point in points['geometry'].values])\n",
    "    \n",
    "    population['nodes'] = population['geometry'].apply(lambda x: points_in_polygon(points_coords,x))\n",
    "    \n",
    "    nodes = population.reset_index()[['index','nodes',col]].copy()\n",
    "    nodes = nodes.explode('nodes').dropna()\n",
    "    print(len(nodes[nodes['nodes'].duplicated()]),'nodes in multiple zones. will be match to a single zone.')\n",
    "    \n",
    "    \n",
    "    zone_index_dict = nodes.set_index('nodes')['index'].to_dict()\n",
    "    points['zone'] = points.index.map(zone_index_dict)\n",
    "\n",
    "    pop_dict = nodes.set_index('nodes')[col].to_dict()\n",
    "    points[col] = points.index.map(pop_dict)\n",
    "    points = points.dropna()\n",
    "    \n",
    "    # get number of points per zones. divide population equaly between each points\n",
    "    len_dict = points.groupby('zone')[col].agg(len).to_dict()\n",
    "    points['num_points'] = points['zone'].apply(lambda x:len_dict.get(x))\n",
    "    points[col] = points[col] / points['num_points']\n",
    "    points = points.drop(columns = ['num_points'])\n",
    "    \n",
    "    print(len(population) - len(points['zone'].unique()),'unfounded zones')\n",
    "    \n",
    "    zones_list = points['zone'].unique()\n",
    "    unfounded_zones = population.loc[~population.index.isin(zones_list)][['geometry',col]]\n",
    "    if fill_missing == 'centroid':\n",
    "        print('Unfound zones centroid will be added to mesh')\n",
    "        # append unfounded zones centroids as in mesh\n",
    "        unfounded_zones['geometry'] = unfounded_zones.centroid\n",
    "        unfounded_zones = unfounded_zones.reset_index().rename(columns={'index':'zone'})\n",
    "        points = pd.concat([points,unfounded_zones]).reset_index(drop=True)\n",
    "        points.index.name='index'\n",
    "    elif fill_missing == 'nearest':\n",
    "        print('unfound zone will be added to nearest mesh node. zone_index will be lost')\n",
    "        unfounded_zones = zones_nearest_node(unfounded_zones,points)\n",
    "        pop_to_append = unfounded_zones.groupby('node_index')[[col]].sum()\n",
    "\n",
    "        points = points.merge(pop_to_append,left_index=True,right_index=True,how='left')\n",
    "        points[col+'_y'] = points[col+'_y'].fillna(0)\n",
    "\n",
    "        points[col] = points[col+'_x'] + points[col+'_y']\n",
    "        points = points.drop(columns=[col+'_x', col+'_y'])\n",
    "    else:\n",
    "        pass\n",
    "    \n",
    "    \n",
    "    points.index.name='index'\n",
    "    \n",
    "    return points"
   ]
  },
  {
   "cell_type": "code",
   "execution_count": 1936,
   "id": "4e405b87",
   "metadata": {},
   "outputs": [
    {
     "name": "stdout",
     "output_type": "stream",
     "text": [
      "../../scenarios/montreal/inputs/pt/\n"
     ]
    }
   ],
   "source": [
    "base_folder = argv['training_folder']\n",
    "pt_folder = base_folder + '/inputs/pt/'\n",
    "road_folder = base_folder + '/inputs/road/'\n",
    "input_folder = base_folder +'/inputs/'\n",
    "od_folder = base_folder + '/inputs/od/'\n",
    "output_folder = base_folder +'/outputs/'\n",
    "print(pt_folder)\n",
    "if not os.path.exists(output_folder):\n",
    "    os.makedirs(output_folder)\n"
   ]
  },
  {
   "cell_type": "code",
   "execution_count": 1937,
   "id": "b5181a44",
   "metadata": {},
   "outputs": [],
   "source": [
    "catchment_radius = argv['params' ]['catchment_radius']\n",
    "default_catchment_radius = 500"
   ]
  },
  {
   "cell_type": "markdown",
   "id": "cdd032bd",
   "metadata": {},
   "source": [
    "# inputs"
   ]
  },
  {
   "cell_type": "code",
   "execution_count": 1938,
   "id": "7dadadbf",
   "metadata": {},
   "outputs": [],
   "source": [
    "#cst_incline = argv['params' ]['constant']['cst_incline']\n",
    "#cst_road = argv['params']['road_weight']\n",
    "#cst_shared = argv['params']['shared_cycleway_weight']"
   ]
  },
  {
   "cell_type": "code",
   "execution_count": 1939,
   "id": "1a674100",
   "metadata": {},
   "outputs": [],
   "source": [
    "links = gpd.read_file(pt_folder + 'links.geojson') \n",
    "nodes = gpd.read_file(pt_folder + 'nodes.geojson')\n",
    "links = links.set_index('index')\n",
    "nodes = nodes.set_index('index')"
   ]
  },
  {
   "cell_type": "code",
   "execution_count": 1940,
   "id": "8c5c4543",
   "metadata": {},
   "outputs": [],
   "source": [
    "population = gpd.read_file(input_folder + 'population.geojson')\n",
    "if 'index' in population.columns:\n",
    "    population = population.set_index('index')\n",
    "else:\n",
    "    population.index.name='index'\n",
    "assert 'density' in population.columns, 'need density column. in km2'"
   ]
  },
  {
   "cell_type": "code",
   "execution_count": 1941,
   "id": "6071cbdf",
   "metadata": {},
   "outputs": [],
   "source": [
    "od_file = od_folder + 'od.geojson'\n",
    "od_file_provided = os.path.isfile(od_file)\n",
    "if od_file_provided:\n",
    "    od_test = gpd.read_file(od_folder + 'od.geojson')\n",
    "    if 'name' not in od_test.columns:\n",
    "        od_test['name'] = od_test['index']\n",
    "    od_test['name'] = od_test['name'].fillna(od_test['index'].astype(str))"
   ]
  },
  {
   "cell_type": "markdown",
   "id": "3a89c995",
   "metadata": {},
   "source": [
    "# population preapation"
   ]
  },
  {
   "cell_type": "code",
   "execution_count": 1942,
   "id": "080e178d",
   "metadata": {},
   "outputs": [
    {
     "data": {
      "text/plain": [
       "32618"
      ]
     },
     "execution_count": 1942,
     "metadata": {},
     "output_type": "execute_result"
    }
   ],
   "source": [
    "# find meters CRS\n",
    "centroid = [*LineString(population.centroid.values).centroid.coords][0]\n",
    "crs = get_epsg(centroid[1],centroid[0])\n",
    "crs"
   ]
  },
  {
   "cell_type": "code",
   "execution_count": 1943,
   "id": "17bd64e1",
   "metadata": {},
   "outputs": [
    {
     "data": {
      "text/plain": [
       "11574.507300457291"
      ]
     },
     "execution_count": 1943,
     "metadata": {},
     "output_type": "execute_result"
    }
   ],
   "source": [
    "population['area (km2)'] = population.to_crs(crs).area*1e-6\n",
    "population['area (km2)'].sum()"
   ]
  },
  {
   "cell_type": "code",
   "execution_count": 1944,
   "id": "3118e920",
   "metadata": {},
   "outputs": [
    {
     "data": {
      "text/plain": [
       "4884999.000000022"
      ]
     },
     "execution_count": 1944,
     "metadata": {},
     "output_type": "execute_result"
    }
   ],
   "source": [
    "population['population'] = population['density']*population['area (km2)']\n",
    "population['population'].sum()"
   ]
  },
  {
   "cell_type": "markdown",
   "id": "31fbd49d",
   "metadata": {},
   "source": [
    "# test with rnodes"
   ]
  },
  {
   "cell_type": "code",
   "execution_count": 1954,
   "id": "e8393d9e",
   "metadata": {},
   "outputs": [],
   "source": [
    "rnodes = gpd.read_file(road_folder + 'road_nodes.geojson')\n",
    "rnodes= rnodes.set_index('index')\n",
    "\n",
    "#rnodes = rnodes.reset_index(drop=True)\n",
    "#rnodes.index.name='index'"
   ]
  },
  {
   "cell_type": "code",
   "execution_count": 1955,
   "id": "d6be9b1b",
   "metadata": {},
   "outputs": [
    {
     "name": "stdout",
     "output_type": "stream",
     "text": [
      "4150 nodes in multiple zones. will be match to a single zone.\n",
      "9 unfounded zones\n",
      "unfound zone will be added to nearest mesh node. zone_index will be lost\n"
     ]
    }
   ],
   "source": [
    "mesh = population_to_mesh(population, mesh=rnodes, step=0.005, col='population', fill_missing='nearest')"
   ]
  },
  {
   "cell_type": "code",
   "execution_count": null,
   "id": "68148703",
   "metadata": {},
   "outputs": [],
   "source": []
  },
  {
   "cell_type": "markdown",
   "id": "654300f2",
   "metadata": {},
   "source": [
    "# population mesh"
   ]
  },
  {
   "cell_type": "code",
   "execution_count": null,
   "id": "7faeecd4",
   "metadata": {},
   "outputs": [],
   "source": []
  },
  {
   "cell_type": "code",
   "execution_count": 1951,
   "id": "5ea2e3f3",
   "metadata": {},
   "outputs": [
    {
     "name": "stdout",
     "output_type": "stream",
     "text": [
      "7458 nodes in multiple zones. will be match to a single zone.\n",
      "146 unfounded zones\n",
      "Unfound zones centroid will be added to mesh\n"
     ]
    }
   ],
   "source": [
    "#0.01 = 1km 0.005 = 500m\n",
    "mesh = population_to_mesh(population, step=0.005, col = 'population', fill_missing='centroid')"
   ]
  },
  {
   "cell_type": "code",
   "execution_count": 1952,
   "id": "5ab61155",
   "metadata": {},
   "outputs": [
    {
     "data": {
      "text/plain": [
       "46153"
      ]
     },
     "execution_count": 1952,
     "metadata": {},
     "output_type": "execute_result"
    }
   ],
   "source": [
    "len(mesh)"
   ]
  },
  {
   "cell_type": "code",
   "execution_count": 1953,
   "id": "08df2e0e",
   "metadata": {},
   "outputs": [
    {
     "data": {
      "text/html": [
       "<div>\n",
       "<style scoped>\n",
       "    .dataframe tbody tr th:only-of-type {\n",
       "        vertical-align: middle;\n",
       "    }\n",
       "\n",
       "    .dataframe tbody tr th {\n",
       "        vertical-align: top;\n",
       "    }\n",
       "\n",
       "    .dataframe thead th {\n",
       "        text-align: right;\n",
       "    }\n",
       "</style>\n",
       "<table border=\"1\" class=\"dataframe\">\n",
       "  <thead>\n",
       "    <tr style=\"text-align: right;\">\n",
       "      <th></th>\n",
       "      <th>geometry</th>\n",
       "      <th>zone</th>\n",
       "      <th>population</th>\n",
       "    </tr>\n",
       "    <tr>\n",
       "      <th>index</th>\n",
       "      <th></th>\n",
       "      <th></th>\n",
       "      <th></th>\n",
       "    </tr>\n",
       "  </thead>\n",
       "  <tbody>\n",
       "    <tr>\n",
       "      <th>0</th>\n",
       "      <td>POINT (-74.55201 45.60217)</td>\n",
       "      <td>1629.0</td>\n",
       "      <td>8.763158</td>\n",
       "    </tr>\n",
       "    <tr>\n",
       "      <th>1</th>\n",
       "      <td>POINT (-74.55201 45.60717)</td>\n",
       "      <td>1629.0</td>\n",
       "      <td>8.763158</td>\n",
       "    </tr>\n",
       "    <tr>\n",
       "      <th>2</th>\n",
       "      <td>POINT (-74.55201 45.61217)</td>\n",
       "      <td>1629.0</td>\n",
       "      <td>8.763158</td>\n",
       "    </tr>\n",
       "    <tr>\n",
       "      <th>3</th>\n",
       "      <td>POINT (-74.55201 45.61717)</td>\n",
       "      <td>1629.0</td>\n",
       "      <td>8.763158</td>\n",
       "    </tr>\n",
       "    <tr>\n",
       "      <th>4</th>\n",
       "      <td>POINT (-74.54701 45.59717)</td>\n",
       "      <td>1629.0</td>\n",
       "      <td>8.763158</td>\n",
       "    </tr>\n",
       "  </tbody>\n",
       "</table>\n",
       "</div>"
      ],
      "text/plain": [
       "                         geometry    zone  population\n",
       "index                                                \n",
       "0      POINT (-74.55201 45.60217)  1629.0    8.763158\n",
       "1      POINT (-74.55201 45.60717)  1629.0    8.763158\n",
       "2      POINT (-74.55201 45.61217)  1629.0    8.763158\n",
       "3      POINT (-74.55201 45.61717)  1629.0    8.763158\n",
       "4      POINT (-74.54701 45.59717)  1629.0    8.763158"
      ]
     },
     "execution_count": 1953,
     "metadata": {},
     "output_type": "execute_result"
    }
   ],
   "source": [
    "mesh.head()"
   ]
  },
  {
   "cell_type": "code",
   "execution_count": 1956,
   "id": "061701fc",
   "metadata": {},
   "outputs": [],
   "source": [
    "mesh.to_file(output_folder + 'population_mesh.geojson',driver='GeoJSON')"
   ]
  },
  {
   "cell_type": "markdown",
   "id": "3736019b",
   "metadata": {},
   "source": [
    "# catchment"
   ]
  },
  {
   "cell_type": "code",
   "execution_count": 1957,
   "id": "a6d55f0f",
   "metadata": {},
   "outputs": [
    {
     "data": {
      "text/plain": [
       "495"
      ]
     },
     "execution_count": 1957,
     "metadata": {},
     "output_type": "execute_result"
    }
   ],
   "source": [
    "len(links['route_id'].unique())"
   ]
  },
  {
   "cell_type": "code",
   "execution_count": 1958,
   "id": "1e7e51e5",
   "metadata": {},
   "outputs": [
    {
     "data": {
      "text/plain": [
       "3"
      ]
     },
     "execution_count": 1958,
     "metadata": {},
     "output_type": "execute_result"
    }
   ],
   "source": [
    "len(links['route_type'].unique())"
   ]
  },
  {
   "cell_type": "code",
   "execution_count": 1959,
   "id": "946f2207",
   "metadata": {},
   "outputs": [],
   "source": [
    "# find TC nodes to mesh distance"
   ]
  },
  {
   "cell_type": "code",
   "execution_count": 1960,
   "id": "c0c7d3f8",
   "metadata": {},
   "outputs": [],
   "source": [
    "node_dist = nearest_radius(nodes.to_crs(crs),mesh.to_crs(crs),radius=3000)\n",
    "node_dist = node_dist.rename(columns={'ix_one': 'node_index','index_nn':'mesh_index'}).drop(columns='rank')"
   ]
  },
  {
   "cell_type": "code",
   "execution_count": 1961,
   "id": "a3406d44",
   "metadata": {},
   "outputs": [],
   "source": [
    "nodes_index_dict = nodes.reset_index()['index'].to_dict()\n",
    "node_dist['node_index'] = node_dist['node_index'].apply(lambda x: nodes_index_dict.get(x))"
   ]
  },
  {
   "cell_type": "code",
   "execution_count": 1962,
   "id": "19388a4e",
   "metadata": {},
   "outputs": [],
   "source": [
    "node_dist = node_dist.explode(['mesh_index','distances'])\n",
    "population_dict = mesh['population'].to_dict()\n",
    "node_dist['population'] = node_dist['mesh_index'].apply(lambda x: population_dict.get(x))\n"
   ]
  },
  {
   "cell_type": "code",
   "execution_count": null,
   "id": "a917aa50",
   "metadata": {},
   "outputs": [],
   "source": []
  },
  {
   "cell_type": "markdown",
   "id": "c8ee4327",
   "metadata": {},
   "source": [
    "# metrics"
   ]
  },
  {
   "cell_type": "code",
   "execution_count": 1963,
   "id": "ea579287",
   "metadata": {},
   "outputs": [],
   "source": [
    "#init results dfs\n",
    "df_route_id = pd.DataFrame(index=links['route_id'].unique())\n",
    "df_route_id.index.name='route_id'\n",
    "\n",
    "df_route_type = pd.DataFrame(index=links['route_type'].unique())\n",
    "df_route_type.index.name='route_type'"
   ]
  },
  {
   "cell_type": "code",
   "execution_count": 1964,
   "id": "23bd9e3a",
   "metadata": {},
   "outputs": [],
   "source": [
    "def get_catchment(col='route_id'):\n",
    "    res={}\n",
    "    for route_id in links[col].unique():\n",
    "        link = links[links[co] == route_id]\n",
    "        nodes_set = (set(link['a'].values).union(set(link['a'].values)))\n",
    "        link_nodes = node_dist[node_dist['node_index'].isin(nodes_set)]\n",
    "\n",
    "        dist = get_catchment_dist(link, catchment_radius, default_catchment_radius)\n",
    "        link_nodes = link_nodes[link_nodes['distances'] <= dist]\n",
    "        volume = link_nodes.drop_duplicates('mesh_index')['population'].sum()\n",
    "        res[route_id] = volume\n",
    "    return res"
   ]
  },
  {
   "cell_type": "code",
   "execution_count": 1965,
   "id": "e59cd04a",
   "metadata": {},
   "outputs": [
    {
     "name": "stdout",
     "output_type": "stream",
     "text": [
      "29427112.602573097\n"
     ]
    }
   ],
   "source": [
    "%%snakec\n",
    "res = get_catchment('route_id')\n",
    "\n",
    "df_route_id['catchment'] = res\n",
    "print(sum([item for key,item in res.items()]))"
   ]
  },
  {
   "cell_type": "code",
   "execution_count": 1966,
   "id": "4cca4afc",
   "metadata": {},
   "outputs": [
    {
     "name": "stdout",
     "output_type": "stream",
     "text": [
      "4620954.27944296\n"
     ]
    }
   ],
   "source": [
    "res = get_catchment('route_type')\n",
    "\n",
    "df_route_type['catchment'] = res\n",
    "print(sum([item for key,item in res.items()]))"
   ]
  },
  {
   "cell_type": "code",
   "execution_count": 1967,
   "id": "f0ac30ec",
   "metadata": {},
   "outputs": [
    {
     "data": {
      "text/plain": [
       "[<matplotlib.lines.Line2D at 0x7f644a6d3160>]"
      ]
     },
     "execution_count": 1967,
     "metadata": {},
     "output_type": "execute_result"
    },
    {
     "data": {
      "image/png": "[encoded data removed]",
      "text/plain": [
       "<Figure size 640x480 with 1 Axes>"
      ]
     },
     "metadata": {},
     "output_type": "display_data"
    }
   ],
   "source": [
    "res=[]\n",
    "dists = [0,1,10,20,50,100,250,500,800,1000,2000,3000]\n",
    "for dist in dists:\n",
    "    nodes_set = (set(links['a'].values).union(set(links['a'].values)))\n",
    "    link_nodes = node_dist[node_dist['node_index'].isin(nodes_set)]\n",
    "    link_nodes = link_nodes[link_nodes['distances']<dist]\n",
    "    volume = link_nodes.drop_duplicates('mesh_index')['population'].sum()\n",
    "    res.append(volume)\n",
    "plt.plot(dists,res)"
   ]
  },
  {
   "cell_type": "markdown",
   "id": "a36f59f2",
   "metadata": {},
   "source": [
    "# frequency"
   ]
  },
  {
   "cell_type": "code",
   "execution_count": 1968,
   "id": "91b34938",
   "metadata": {},
   "outputs": [],
   "source": [
    "links['frequency'] = 1/links['headway']"
   ]
  },
  {
   "cell_type": "code",
   "execution_count": 1969,
   "id": "3cbf07c2",
   "metadata": {},
   "outputs": [],
   "source": [
    "def get_frequency(col='route_id'):\n",
    "    res={}\n",
    "    for route_id in links[col].unique():\n",
    "        link = links[links[col] == route_id]\n",
    "        vol = link.groupby('trip_id')['frequency'].agg(np.mean).mean()*3600\n",
    "        res[route_id] = vol\n",
    "    return res"
   ]
  },
  {
   "cell_type": "code",
   "execution_count": 1970,
   "id": "83433e85",
   "metadata": {},
   "outputs": [
    {
     "name": "stdout",
     "output_type": "stream",
     "text": [
      "nan\n"
     ]
    }
   ],
   "source": [
    "res = get_frequency('route_id')\n",
    "\n",
    "df_route_id['frequency (veh/hours)'] = res\n",
    "print(sum([item for key,item in res.items()]))"
   ]
  },
  {
   "cell_type": "code",
   "execution_count": 1971,
   "id": "dd820456",
   "metadata": {},
   "outputs": [
    {
     "name": "stdout",
     "output_type": "stream",
     "text": [
      "19.658820302193508\n"
     ]
    }
   ],
   "source": [
    "res = get_frequency('route_type')\n",
    "\n",
    "df_route_type['frequency (veh/hours)'] = res\n",
    "print(sum([item for key,item in res.items()]))"
   ]
  },
  {
   "cell_type": "code",
   "execution_count": null,
   "id": "e27af03f",
   "metadata": {},
   "outputs": [],
   "source": []
  },
  {
   "cell_type": "markdown",
   "id": "6956fef1",
   "metadata": {},
   "source": [
    "# operational Fleet"
   ]
  },
  {
   "cell_type": "code",
   "execution_count": 1972,
   "id": "8314b69e",
   "metadata": {},
   "outputs": [],
   "source": [
    "def get_fleet(col='route_id'):\n",
    "    res={}\n",
    "    for route_id in links[col].unique():\n",
    "        link = links[links[col] == route_id]\n",
    "        # frequency should be constant on a trip_id. take mean in case its not...\n",
    "        link = link.groupby('trip_id')[['time','frequency']].agg({'time':sum,'frequency':np.mean})\n",
    "        link['fleet'] = np.ceil(link['frequency'] * link['time'])\n",
    "        num_veh = link['fleet'].sum()\n",
    "        res[route_id] = num_veh\n",
    "    return res\n",
    "    "
   ]
  },
  {
   "cell_type": "code",
   "execution_count": 1973,
   "id": "8bce3670",
   "metadata": {},
   "outputs": [
    {
     "name": "stdout",
     "output_type": "stream",
     "text": [
      "1623.0\n"
     ]
    }
   ],
   "source": [
    "res = get_fleet('route_id')\n",
    "\n",
    "df_route_id['fleet'] = res\n",
    "print(sum([item for key,item in res.items()]))"
   ]
  },
  {
   "cell_type": "code",
   "execution_count": 1974,
   "id": "5b5944e6",
   "metadata": {},
   "outputs": [
    {
     "name": "stdout",
     "output_type": "stream",
     "text": [
      "1623.0\n"
     ]
    }
   ],
   "source": [
    "res = get_fleet('route_type')\n",
    "\n",
    "df_route_type['fleet'] = res\n",
    "print(sum([item for key,item in res.items()]))"
   ]
  },
  {
   "cell_type": "code",
   "execution_count": null,
   "id": "b7d5df41",
   "metadata": {},
   "outputs": [],
   "source": []
  },
  {
   "cell_type": "markdown",
   "id": "ba3aaeb9",
   "metadata": {},
   "source": [
    "# Line Length"
   ]
  },
  {
   "cell_type": "code",
   "execution_count": 1975,
   "id": "a8eeae9e",
   "metadata": {},
   "outputs": [],
   "source": [
    "def get_length(col='route_id'):\n",
    "    res={}\n",
    "    for route_id in links[col].unique():\n",
    "        link = links[links[col] == route_id]\n",
    "        # take first frequency as it should be constant on a trip_id\n",
    "        num_veh = link.groupby('trip_id')[length_col].agg(sum).sum()\n",
    "        res[route_id] = num_veh\n",
    "    return res\n",
    "    "
   ]
  },
  {
   "cell_type": "code",
   "execution_count": 1976,
   "id": "08fb2407",
   "metadata": {},
   "outputs": [
    {
     "name": "stdout",
     "output_type": "stream",
     "text": [
      "create length from geometry\n"
     ]
    }
   ],
   "source": [
    "# rpeparation. if legnth is NaN, or if shsape dist travel exist.\n",
    "\n",
    "length_col = None\n",
    "if 'shape_dist_traveled' in links.columns and col == None:\n",
    "    if len(links[links['shape_dist_traveled'].isnull()])==0:\n",
    "        length_col = 'shape_dist_traveled'\n",
    "if 'length' in links.columns and col == None:\n",
    "    if len(links[links['length'].isnull()])==0:\n",
    "        length_col = 'length'\n",
    "\n",
    "if length_col == None:\n",
    "    print('create length from geometry')\n",
    "    links['length'] = links.to_crs(crs).length\n",
    "    length_col = 'length'\n"
   ]
  },
  {
   "cell_type": "code",
   "execution_count": 1977,
   "id": "2759d267",
   "metadata": {},
   "outputs": [
    {
     "name": "stdout",
     "output_type": "stream",
     "text": [
      "15562671.273542816\n"
     ]
    }
   ],
   "source": [
    "res = get_length('route_id')\n",
    "\n",
    "df_route_id['length (m)'] = res\n",
    "print(sum([item for key,item in res.items()]))"
   ]
  },
  {
   "cell_type": "code",
   "execution_count": 1978,
   "id": "0832d2db",
   "metadata": {},
   "outputs": [
    {
     "name": "stdout",
     "output_type": "stream",
     "text": [
      "15562671.273542805\n"
     ]
    }
   ],
   "source": [
    "res = get_length('route_type')\n",
    "\n",
    "df_route_type['length (m)'] = res\n",
    "print(sum([item for key,item in res.items()]))"
   ]
  },
  {
   "cell_type": "code",
   "execution_count": null,
   "id": "e85c4025",
   "metadata": {},
   "outputs": [],
   "source": []
  },
  {
   "cell_type": "markdown",
   "id": "3a00b2d3",
   "metadata": {},
   "source": [
    "# Number of station per line"
   ]
  },
  {
   "cell_type": "code",
   "execution_count": 1979,
   "id": "a7d09a15",
   "metadata": {},
   "outputs": [],
   "source": [
    "# o-->o-->o-->o and  o<--o<--o<--o\n",
    "# est-ce que j'ai 8 ou 4 stations ?\n",
    "# j'ai 4 stations par trip et 4 stations par route (si c'est les memes).\n",
    "# comment savoir si cest les memes. clustering?\n",
    "def get_num_station(col='route_id'):\n",
    "    res={}\n",
    "    for route_id in links[col].unique():\n",
    "        link = links[links[col] == route_id]\n",
    "        nodes_set = (set(link['a'].values).union(set(link['a'].values)))\n",
    "        res[route_id] = len(nodes_set)\n",
    "    return res\n"
   ]
  },
  {
   "cell_type": "code",
   "execution_count": 1980,
   "id": "0544b68c",
   "metadata": {},
   "outputs": [
    {
     "name": "stdout",
     "output_type": "stream",
     "text": [
      "31953\n"
     ]
    }
   ],
   "source": [
    "res = get_num_station('route_id')\n",
    "\n",
    "df_route_id['num station'] = res\n",
    "print(sum([item for key,item in res.items()]))"
   ]
  },
  {
   "cell_type": "code",
   "execution_count": 1981,
   "id": "96133d8b",
   "metadata": {},
   "outputs": [
    {
     "name": "stdout",
     "output_type": "stream",
     "text": [
      "31909\n"
     ]
    }
   ],
   "source": [
    "res = get_num_station('route_type')\n",
    "\n",
    "df_route_type['num station'] = res\n",
    "print(sum([item for key,item in res.items()]))"
   ]
  },
  {
   "cell_type": "markdown",
   "id": "3ee0cabc",
   "metadata": {},
   "source": [
    "# Vehicle revenue KM "
   ]
  },
  {
   "cell_type": "code",
   "execution_count": 1982,
   "id": "95d509c3",
   "metadata": {},
   "outputs": [],
   "source": [
    "def get_veh_kmh(col='route_id'):\n",
    "    res={}\n",
    "    for route_id in links[col].unique():\n",
    "        link = links[links[col] == route_id]\n",
    "        # take first frequency as it should be constant on a trip_id\n",
    "        link = link.groupby('trip_id')[[length_col,'frequency']].agg({length_col:sum,'frequency':np.mean})\n",
    "        link['fleet'] = np.ceil(link['frequency'] * link[length_col])\n",
    "        volume = link['fleet'].sum()\n",
    "        res[route_id] = volume * 3600/1000 # to km/h\n",
    "    return res"
   ]
  },
  {
   "cell_type": "code",
   "execution_count": 1983,
   "id": "39f67886",
   "metadata": {},
   "outputs": [
    {
     "name": "stdout",
     "output_type": "stream",
     "text": [
      "30257.999999999996\n"
     ]
    }
   ],
   "source": [
    "res = get_veh_kmh('route_id')\n",
    "\n",
    "df_route_id['veh.km/h'] = res\n",
    "print(sum([item for key,item in res.items()]))"
   ]
  },
  {
   "cell_type": "code",
   "execution_count": 1984,
   "id": "38664829",
   "metadata": {},
   "outputs": [
    {
     "name": "stdout",
     "output_type": "stream",
     "text": [
      "30258.0\n"
     ]
    }
   ],
   "source": [
    "res = get_veh_kmh('route_type')\n",
    "\n",
    "df_route_type['veh.km/h'] = res\n",
    "print(sum([item for key,item in res.items()]))"
   ]
  },
  {
   "cell_type": "markdown",
   "id": "53248f53",
   "metadata": {},
   "source": [
    "# Round trip time"
   ]
  },
  {
   "cell_type": "code",
   "execution_count": 1985,
   "id": "3faba20a",
   "metadata": {},
   "outputs": [],
   "source": [
    "def get_round_trip_time(col='route_id'):\n",
    "    res={}\n",
    "    for route_id in links[col].unique():\n",
    "        link = links[links[col] == route_id]\n",
    "        # take first frequency as it should be constant on a trip_id\n",
    "        num_veh = link.groupby('trip_id')['time'].agg(sum).sum()\n",
    "        res[route_id] = num_veh\n",
    "    return res\n",
    "    "
   ]
  },
  {
   "cell_type": "code",
   "execution_count": 1986,
   "id": "5d459b0d",
   "metadata": {},
   "outputs": [
    {
     "name": "stdout",
     "output_type": "stream",
     "text": [
      "2035849.0\n"
     ]
    }
   ],
   "source": [
    "res = get_round_trip_time('route_id')\n",
    "\n",
    "df_route_id['round trip time (s)'] = res\n",
    "print(sum([item for key,item in res.items()]))"
   ]
  },
  {
   "cell_type": "code",
   "execution_count": 1987,
   "id": "855ada87",
   "metadata": {},
   "outputs": [
    {
     "data": {
      "text/html": [
       "<div>\n",
       "<style scoped>\n",
       "    .dataframe tbody tr th:only-of-type {\n",
       "        vertical-align: middle;\n",
       "    }\n",
       "\n",
       "    .dataframe tbody tr th {\n",
       "        vertical-align: top;\n",
       "    }\n",
       "\n",
       "    .dataframe thead th {\n",
       "        text-align: right;\n",
       "    }\n",
       "</style>\n",
       "<table border=\"1\" class=\"dataframe\">\n",
       "  <thead>\n",
       "    <tr style=\"text-align: right;\">\n",
       "      <th></th>\n",
       "      <th>catchment</th>\n",
       "      <th>frequency (veh/hours)</th>\n",
       "      <th>fleet</th>\n",
       "      <th>length (m)</th>\n",
       "      <th>num station</th>\n",
       "      <th>veh.km/h</th>\n",
       "      <th>round trip time (s)</th>\n",
       "    </tr>\n",
       "    <tr>\n",
       "      <th>route_id</th>\n",
       "      <th></th>\n",
       "      <th></th>\n",
       "      <th></th>\n",
       "      <th></th>\n",
       "      <th></th>\n",
       "      <th></th>\n",
       "      <th></th>\n",
       "    </tr>\n",
       "  </thead>\n",
       "  <tbody>\n",
       "    <tr>\n",
       "      <th>OMITSJU_350</th>\n",
       "      <td>18478.435113</td>\n",
       "      <td>2.514685</td>\n",
       "      <td>2.0</td>\n",
       "      <td>42140.284202</td>\n",
       "      <td>2</td>\n",
       "      <td>111.6</td>\n",
       "      <td>2460.0</td>\n",
       "    </tr>\n",
       "    <tr>\n",
       "      <th>OMITSJU_330</th>\n",
       "      <td>34385.895559</td>\n",
       "      <td>0.670391</td>\n",
       "      <td>1.0</td>\n",
       "      <td>28961.337484</td>\n",
       "      <td>4</td>\n",
       "      <td>21.6</td>\n",
       "      <td>2760.0</td>\n",
       "    </tr>\n",
       "    <tr>\n",
       "      <th>OMITSJU_325</th>\n",
       "      <td>34385.895559</td>\n",
       "      <td>1.005587</td>\n",
       "      <td>1.0</td>\n",
       "      <td>53389.075240</td>\n",
       "      <td>7</td>\n",
       "      <td>28.8</td>\n",
       "      <td>5040.0</td>\n",
       "    </tr>\n",
       "    <tr>\n",
       "      <th>OMITSJU_600</th>\n",
       "      <td>47383.388220</td>\n",
       "      <td>2.681564</td>\n",
       "      <td>4.0</td>\n",
       "      <td>71332.989306</td>\n",
       "      <td>3</td>\n",
       "      <td>194.4</td>\n",
       "      <td>4500.0</td>\n",
       "    </tr>\n",
       "    <tr>\n",
       "      <th>OMITSJU_3</th>\n",
       "      <td>15154.132752</td>\n",
       "      <td>2.682563</td>\n",
       "      <td>2.0</td>\n",
       "      <td>9852.115933</td>\n",
       "      <td>30</td>\n",
       "      <td>28.8</td>\n",
       "      <td>1440.0</td>\n",
       "    </tr>\n",
       "    <tr>\n",
       "      <th>...</th>\n",
       "      <td>...</td>\n",
       "      <td>...</td>\n",
       "      <td>...</td>\n",
       "      <td>...</td>\n",
       "      <td>...</td>\n",
       "      <td>...</td>\n",
       "      <td>...</td>\n",
       "    </tr>\n",
       "    <tr>\n",
       "      <th>CITROUS_38</th>\n",
       "      <td>9975.206753</td>\n",
       "      <td>2.011173</td>\n",
       "      <td>1.0</td>\n",
       "      <td>7490.695955</td>\n",
       "      <td>20</td>\n",
       "      <td>18.0</td>\n",
       "      <td>960.0</td>\n",
       "    </tr>\n",
       "    <tr>\n",
       "      <th>CITROUS_40</th>\n",
       "      <td>15944.931100</td>\n",
       "      <td>2.682563</td>\n",
       "      <td>1.0</td>\n",
       "      <td>9346.871473</td>\n",
       "      <td>31</td>\n",
       "      <td>25.2</td>\n",
       "      <td>1320.0</td>\n",
       "    </tr>\n",
       "    <tr>\n",
       "      <th>CITROUS_43</th>\n",
       "      <td>21728.209924</td>\n",
       "      <td>NaN</td>\n",
       "      <td>0.0</td>\n",
       "      <td>16679.827690</td>\n",
       "      <td>46</td>\n",
       "      <td>0.0</td>\n",
       "      <td>2280.0</td>\n",
       "    </tr>\n",
       "    <tr>\n",
       "      <th>CITROUS_210</th>\n",
       "      <td>43456.507322</td>\n",
       "      <td>2.011173</td>\n",
       "      <td>3.0</td>\n",
       "      <td>48074.954819</td>\n",
       "      <td>4</td>\n",
       "      <td>97.2</td>\n",
       "      <td>3600.0</td>\n",
       "    </tr>\n",
       "    <tr>\n",
       "      <th>CITROUS_115</th>\n",
       "      <td>45614.964731</td>\n",
       "      <td>2.011173</td>\n",
       "      <td>2.0</td>\n",
       "      <td>27093.340735</td>\n",
       "      <td>17</td>\n",
       "      <td>57.6</td>\n",
       "      <td>2940.0</td>\n",
       "    </tr>\n",
       "  </tbody>\n",
       "</table>\n",
       "<p>495 rows × 7 columns</p>\n",
       "</div>"
      ],
      "text/plain": [
       "                catchment  frequency (veh/hours)  fleet    length (m)  \\\n",
       "route_id                                                                \n",
       "OMITSJU_350  18478.435113               2.514685    2.0  42140.284202   \n",
       "OMITSJU_330  34385.895559               0.670391    1.0  28961.337484   \n",
       "OMITSJU_325  34385.895559               1.005587    1.0  53389.075240   \n",
       "OMITSJU_600  47383.388220               2.681564    4.0  71332.989306   \n",
       "OMITSJU_3    15154.132752               2.682563    2.0   9852.115933   \n",
       "...                   ...                    ...    ...           ...   \n",
       "CITROUS_38    9975.206753               2.011173    1.0   7490.695955   \n",
       "CITROUS_40   15944.931100               2.682563    1.0   9346.871473   \n",
       "CITROUS_43   21728.209924                    NaN    0.0  16679.827690   \n",
       "CITROUS_210  43456.507322               2.011173    3.0  48074.954819   \n",
       "CITROUS_115  45614.964731               2.011173    2.0  27093.340735   \n",
       "\n",
       "             num station  veh.km/h  round trip time (s)  \n",
       "route_id                                                 \n",
       "OMITSJU_350            2     111.6               2460.0  \n",
       "OMITSJU_330            4      21.6               2760.0  \n",
       "OMITSJU_325            7      28.8               5040.0  \n",
       "OMITSJU_600            3     194.4               4500.0  \n",
       "OMITSJU_3             30      28.8               1440.0  \n",
       "...                  ...       ...                  ...  \n",
       "CITROUS_38            20      18.0                960.0  \n",
       "CITROUS_40            31      25.2               1320.0  \n",
       "CITROUS_43            46       0.0               2280.0  \n",
       "CITROUS_210            4      97.2               3600.0  \n",
       "CITROUS_115           17      57.6               2940.0  \n",
       "\n",
       "[495 rows x 7 columns]"
      ]
     },
     "execution_count": 1987,
     "metadata": {},
     "output_type": "execute_result"
    }
   ],
   "source": [
    "df_route_id.to_csv(output_folder+'route_id_metrics.csv')\n",
    "df_route_id"
   ]
  },
  {
   "cell_type": "code",
   "execution_count": 1988,
   "id": "573f1f48",
   "metadata": {},
   "outputs": [
    {
     "data": {
      "text/html": [
       "<div>\n",
       "<style scoped>\n",
       "    .dataframe tbody tr th:only-of-type {\n",
       "        vertical-align: middle;\n",
       "    }\n",
       "\n",
       "    .dataframe tbody tr th {\n",
       "        vertical-align: top;\n",
       "    }\n",
       "\n",
       "    .dataframe thead th {\n",
       "        text-align: right;\n",
       "    }\n",
       "</style>\n",
       "<table border=\"1\" class=\"dataframe\">\n",
       "  <thead>\n",
       "    <tr style=\"text-align: right;\">\n",
       "      <th></th>\n",
       "      <th>catchment</th>\n",
       "      <th>frequency (veh/hours)</th>\n",
       "      <th>fleet</th>\n",
       "      <th>length (m)</th>\n",
       "      <th>num station</th>\n",
       "      <th>veh.km/h</th>\n",
       "    </tr>\n",
       "    <tr>\n",
       "      <th>route_type</th>\n",
       "      <th></th>\n",
       "      <th></th>\n",
       "      <th></th>\n",
       "      <th></th>\n",
       "      <th></th>\n",
       "      <th></th>\n",
       "    </tr>\n",
       "  </thead>\n",
       "  <tbody>\n",
       "    <tr>\n",
       "      <th>bus</th>\n",
       "      <td>3.615639e+06</td>\n",
       "      <td>2.529379</td>\n",
       "      <td>1545.0</td>\n",
       "      <td>1.482568e+07</td>\n",
       "      <td>31589</td>\n",
       "      <td>27752.4</td>\n",
       "    </tr>\n",
       "    <tr>\n",
       "      <th>subway</th>\n",
       "      <td>7.583981e+05</td>\n",
       "      <td>15.549234</td>\n",
       "      <td>63.0</td>\n",
       "      <td>1.473132e+05</td>\n",
       "      <td>165</td>\n",
       "      <td>2062.8</td>\n",
       "    </tr>\n",
       "    <tr>\n",
       "      <th>rail</th>\n",
       "      <td>2.469172e+05</td>\n",
       "      <td>1.580208</td>\n",
       "      <td>15.0</td>\n",
       "      <td>5.896787e+05</td>\n",
       "      <td>155</td>\n",
       "      <td>442.8</td>\n",
       "    </tr>\n",
       "  </tbody>\n",
       "</table>\n",
       "</div>"
      ],
      "text/plain": [
       "               catchment  frequency (veh/hours)   fleet    length (m)  \\\n",
       "route_type                                                              \n",
       "bus         3.615639e+06               2.529379  1545.0  1.482568e+07   \n",
       "subway      7.583981e+05              15.549234    63.0  1.473132e+05   \n",
       "rail        2.469172e+05               1.580208    15.0  5.896787e+05   \n",
       "\n",
       "            num station  veh.km/h  \n",
       "route_type                         \n",
       "bus               31589   27752.4  \n",
       "subway              165    2062.8  \n",
       "rail                155     442.8  "
      ]
     },
     "execution_count": 1988,
     "metadata": {},
     "output_type": "execute_result"
    }
   ],
   "source": [
    "df_route_type.to_csv(output_folder+'route_type_metrics.csv')\n",
    "df_route_type"
   ]
  },
  {
   "cell_type": "code",
   "execution_count": 1989,
   "id": "2bc2393a",
   "metadata": {},
   "outputs": [
    {
     "data": {
      "text/html": [
       "<div>\n",
       "<style scoped>\n",
       "    .dataframe tbody tr th:only-of-type {\n",
       "        vertical-align: middle;\n",
       "    }\n",
       "\n",
       "    .dataframe tbody tr th {\n",
       "        vertical-align: top;\n",
       "    }\n",
       "\n",
       "    .dataframe thead th {\n",
       "        text-align: right;\n",
       "    }\n",
       "</style>\n",
       "<table border=\"1\" class=\"dataframe\">\n",
       "  <thead>\n",
       "    <tr style=\"text-align: right;\">\n",
       "      <th></th>\n",
       "      <th>catchment</th>\n",
       "      <th>frequency (veh/hours)</th>\n",
       "      <th>fleet</th>\n",
       "      <th>length (m)</th>\n",
       "      <th>num station</th>\n",
       "      <th>veh.km/h</th>\n",
       "      <th>round trip time (s)</th>\n",
       "    </tr>\n",
       "    <tr>\n",
       "      <th>route_id</th>\n",
       "      <th></th>\n",
       "      <th></th>\n",
       "      <th></th>\n",
       "      <th></th>\n",
       "      <th></th>\n",
       "      <th></th>\n",
       "      <th></th>\n",
       "    </tr>\n",
       "  </thead>\n",
       "  <tbody>\n",
       "    <tr>\n",
       "      <th>STM_1</th>\n",
       "      <td>320231.206322</td>\n",
       "      <td>17.777886</td>\n",
       "      <td>23.0</td>\n",
       "      <td>40144.824632</td>\n",
       "      <td>52</td>\n",
       "      <td>716.4</td>\n",
       "      <td>4450.0</td>\n",
       "    </tr>\n",
       "  </tbody>\n",
       "</table>\n",
       "</div>"
      ],
      "text/plain": [
       "              catchment  frequency (veh/hours)  fleet    length (m)  \\\n",
       "route_id                                                              \n",
       "STM_1     320231.206322              17.777886   23.0  40144.824632   \n",
       "\n",
       "          num station  veh.km/h  round trip time (s)  \n",
       "route_id                                              \n",
       "STM_1              52     716.4               4450.0  "
      ]
     },
     "execution_count": 1989,
     "metadata": {},
     "output_type": "execute_result"
    }
   ],
   "source": [
    "df_route_id.loc[['STM_1']]"
   ]
  },
  {
   "cell_type": "code",
   "execution_count": null,
   "id": "218013a1",
   "metadata": {},
   "outputs": [],
   "source": []
  },
  {
   "cell_type": "code",
   "execution_count": null,
   "id": "ac462e19",
   "metadata": {},
   "outputs": [],
   "source": []
  },
  {
   "cell_type": "code",
   "execution_count": null,
   "id": "9f29c63b",
   "metadata": {},
   "outputs": [],
   "source": []
  },
  {
   "cell_type": "code",
   "execution_count": 1990,
   "id": "13f6ce26",
   "metadata": {},
   "outputs": [],
   "source": [
    "temp_dict = node_dist[node_dist['distances']<500].groupby('node_index')['population'].sum().to_dict()\n",
    "nodes['catchment_500m'] = nodes.index.map(temp_dict.get)\n",
    "\n",
    "temp_dict = node_dist[node_dist['distances']<1000].groupby('node_index')['population'].sum().to_dict()\n",
    "nodes['catchment_1km'] = nodes.index.map(temp_dict.get)"
   ]
  },
  {
   "cell_type": "code",
   "execution_count": 1991,
   "id": "291bceff",
   "metadata": {},
   "outputs": [],
   "source": [
    "nodes.to_file(output_folder+'nodes.geojson',driver='GeoJSON')"
   ]
  },
  {
   "cell_type": "markdown",
   "id": "11dfe2fb",
   "metadata": {},
   "source": [
    "# test"
   ]
  },
  {
   "cell_type": "markdown",
   "id": "3c7fcbea",
   "metadata": {},
   "source": []
  }
 ],
 "metadata": {
  "kernelspec": {
   "display_name": "Python 3 (ipykernel)",
   "language": "python",
   "name": "python3"
  },
  "language_info": {
   "codemirror_mode": {
    "name": "ipython",
    "version": 3
   },
   "file_extension": ".py",
   "mimetype": "text/x-python",
   "name": "python",
   "nbconvert_exporter": "python",
   "pygments_lexer": "ipython3",
   "version": "3.8.6"
  }
 },
 "nbformat": 4,
 "nbformat_minor": 5
}
