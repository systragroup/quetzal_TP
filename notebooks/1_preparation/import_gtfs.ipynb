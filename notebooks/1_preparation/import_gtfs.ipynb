{
 "cells": [
  {
   "cell_type": "code",
   "execution_count": 33,
   "id": "b700799f",
   "metadata": {},
   "outputs": [
    {
     "name": "stdout",
     "output_type": "stream",
     "text": [
      "{'training_folder': '../../scenarios/test', 'params': {'gtfs': '../../gtfs/stl.zip', 'selected_day': 1, 'time_range': ['6:00:00', '8:59:00']}}\n"
     ]
    }
   ],
   "source": [
    "import sys\n",
    "import json\n",
    "\n",
    "\n",
    "params = {'gtfs':'../../gtfs/stl.zip','selected_day':1,'time_range' : ['6:00:00', '8:59:00']}\n",
    "\n",
    "default = {'training_folder': '../../scenarios/test', 'params':params} # Default execution parameters\n",
    "manual, argv = (True, default) if 'ipykernel' in sys.argv[0] else (False, dict(default, **json.loads(sys.argv[1])))\n",
    "print(argv)\n",
    "import os\n",
    "\n",
    "os.environ['BUCKET_NAME']='quetzal-api-bucket'"
   ]
  },
  {
   "cell_type": "code",
   "execution_count": 30,
   "id": "3828eec2",
   "metadata": {},
   "outputs": [],
   "source": [
    "import time\n",
    "import geopandas as gpd\n",
    "import pandas as pd\n",
    "sys.path.insert(0, r'../../../quetzal/') # Add path to quetzal\n",
    "sys.path.insert(0, r'../../../quetzal/api/GTFS_importer') # Add path to quetzal\n",
    "\n",
    "from api.GTFS_importer import main"
   ]
  },
  {
   "cell_type": "code",
   "execution_count": null,
   "id": "48fa59e8",
   "metadata": {},
   "outputs": [],
   "source": []
  },
  {
   "cell_type": "code",
   "execution_count": 39,
   "id": "1f00274c",
   "metadata": {},
   "outputs": [
    {
     "name": "stdout",
     "output_type": "stream",
     "text": [
      "Importing ../../gtfs/stl.zip\n",
      "cleaning  ../../gtfs/stl.zip\n",
      "parent_station missing in stops. set to NaN in ../../gtfs/stl.zip\n",
      "restrict feed\n",
      "add shape_dist_traveled to shapes\n",
      "add shape_dist_traveled to stop_times\n",
      "Building links and nodes  ../../gtfs/stl.zip\n"
     ]
    }
   ],
   "source": [
    "uuid = 'test'\n",
    "files = [argv['params']['gtfs']]\n",
    "dates = []\n",
    "selected_day = argv['params']['selected_day']\n",
    "time_range = argv['params']['time_range']\n",
    "sm = main.main(uuid, files, dates, selected_day, time_range,export=False)\n"
   ]
  },
  {
   "cell_type": "code",
   "execution_count": 43,
   "id": "349146aa",
   "metadata": {},
   "outputs": [],
   "source": [
    "pt_folder = argv['training_folder']+'/inputs/pt/'\n",
    "if not os.path.exists(pt_folder):\n",
    "    os.makedirs(pt_folder)"
   ]
  },
  {
   "cell_type": "code",
   "execution_count": 45,
   "id": "24e752cb",
   "metadata": {},
   "outputs": [],
   "source": [
    "\n",
    "sm.links.to_file(pt_folder+'links.geojson',driver='GeoJSON')\n",
    "sm.nodes.to_file(pt_folder+'nodes.geojson',driver='GeoJSON')"
   ]
  },
  {
   "cell_type": "code",
   "execution_count": null,
   "id": "91ef4953",
   "metadata": {},
   "outputs": [],
   "source": []
  }
 ],
 "metadata": {
  "kernelspec": {
   "display_name": "quetzal_env",
   "language": "python",
   "name": "quetzal_env"
  },
  "language_info": {
   "codemirror_mode": {
    "name": "ipython",
    "version": 3
   },
   "file_extension": ".py",
   "mimetype": "text/x-python",
   "name": "python",
   "nbconvert_exporter": "python",
   "pygments_lexer": "ipython3",
   "version": "3.8.6"
  }
 },
 "nbformat": 4,
 "nbformat_minor": 5
}
