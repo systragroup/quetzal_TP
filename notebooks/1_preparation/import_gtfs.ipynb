{
 "cells": [
  {
   "cell_type": "code",
   "execution_count": 1,
   "id": "b700799f",
   "metadata": {},
   "outputs": [
    {
     "name": "stdout",
     "output_type": "stream",
     "text": [
      "{'training_folder': '../../scenarios/test', 'params': {'gtfs': '../../gtfs/stl.zip', 'selected_day': 1, 'time_range': ['6:00:00', '8:59:00']}}\n"
     ]
    }
   ],
   "source": [
    "import sys\n",
    "import json\n",
    "\n",
    "\n",
    "params = {'gtfs':'../../gtfs/stl.zip','selected_day':1,'time_range' : ['6:00:00', '8:59:00']}\n",
    "\n",
    "default = {'training_folder': '../../scenarios/test', 'params':params} # Default execution parameters\n",
    "manual, argv = (True, default) if 'ipykernel' in sys.argv[0] else (False, dict(default, **json.loads(sys.argv[1])))\n",
    "print(argv)\n",
    "import os\n",
    "\n",
    "os.environ['BUCKET_NAME']='quetzal-api-bucket'"
   ]
  },
  {
   "cell_type": "code",
   "execution_count": 2,
   "id": "3828eec2",
   "metadata": {},
   "outputs": [
    {
     "name": "stdout",
     "output_type": "stream",
     "text": [
      "init db\n"
     ]
    }
   ],
   "source": [
    "import time\n",
    "import geopandas as gpd\n",
    "import pandas as pd\n",
    "sys.path.insert(0, r'../../../quetzal/') # Add path to quetzal\n",
    "sys.path.insert(0, r'../../../quetzal/api/GTFS_importer') # Add path to quetzal\n",
    "\n",
    "from api.GTFS_importer import main"
   ]
  },
  {
   "cell_type": "code",
   "execution_count": null,
   "id": "48fa59e8",
   "metadata": {},
   "outputs": [],
   "source": []
  },
  {
   "cell_type": "code",
   "execution_count": 3,
   "id": "1f00274c",
   "metadata": {
    "scrolled": false
   },
   "outputs": [
    {
     "name": "stdout",
     "output_type": "stream",
     "text": [
      "Importing ../../gtfs/stl.zip\n",
      "cleaning  ../../gtfs/stl.zip\n",
      "parent_station missing in stops. set to NaN in ../../gtfs/stl.zip\n",
      "restrict feed\n",
      "add shape_dist_traveled to shapes\n",
      "add shape_dist_traveled to stop_times\n",
      "Building links and nodes  ../../gtfs/stl.zip\n"
     ]
    }
   ],
   "source": [
    "uuid = 'test'\n",
    "files = [argv['params']['gtfs']]\n",
    "dates = []\n",
    "selected_day = argv['params']['selected_day']\n",
    "time_range = argv['params']['time_range']\n",
    "sm = main.main(uuid, files, dates, selected_day, time_range,export=False)\n"
   ]
  },
  {
   "cell_type": "code",
   "execution_count": 4,
   "id": "a03d3675",
   "metadata": {},
   "outputs": [
    {
     "data": {
      "text/html": [
       "<div>\n",
       "<style scoped>\n",
       "    .dataframe tbody tr th:only-of-type {\n",
       "        vertical-align: middle;\n",
       "    }\n",
       "\n",
       "    .dataframe tbody tr th {\n",
       "        vertical-align: top;\n",
       "    }\n",
       "\n",
       "    .dataframe thead th {\n",
       "        text-align: right;\n",
       "    }\n",
       "</style>\n",
       "<table border=\"1\" class=\"dataframe\">\n",
       "  <thead>\n",
       "    <tr style=\"text-align: right;\">\n",
       "      <th></th>\n",
       "      <th>stop_id</th>\n",
       "      <th>stop_name</th>\n",
       "      <th>stop_code</th>\n",
       "      <th>geometry</th>\n",
       "    </tr>\n",
       "  </thead>\n",
       "  <tbody>\n",
       "    <tr>\n",
       "      <th>node_0</th>\n",
       "      <td>JUIN19CP40002</td>\n",
       "      <td>Terminus Henri-Bourassa Quai:4 [40002]</td>\n",
       "      <td>40002</td>\n",
       "      <td>POINT (-73.6672 45.55582)</td>\n",
       "    </tr>\n",
       "    <tr>\n",
       "      <th>node_1</th>\n",
       "      <td>JUIN19CP40031</td>\n",
       "      <td>Terminus Henri-Bourassa Quai:9 [40031]</td>\n",
       "      <td>40031</td>\n",
       "      <td>POINT (-73.66996 45.5557)</td>\n",
       "    </tr>\n",
       "    <tr>\n",
       "      <th>node_2</th>\n",
       "      <td>JUIN19CP40052</td>\n",
       "      <td>Terminus Henri-Bourassa Quai:9 [40052]</td>\n",
       "      <td>40052</td>\n",
       "      <td>POINT (-73.66996 45.5557)</td>\n",
       "    </tr>\n",
       "    <tr>\n",
       "      <th>node_3</th>\n",
       "      <td>JUIN19CP40055</td>\n",
       "      <td>Terminus Henri-Bourassa Quai:9 [40055]</td>\n",
       "      <td>40055</td>\n",
       "      <td>POINT (-73.67096 45.55597)</td>\n",
       "    </tr>\n",
       "    <tr>\n",
       "      <th>node_4</th>\n",
       "      <td>JUIN19CP40131</td>\n",
       "      <td>Terminus Henri-Bourassa [40131]</td>\n",
       "      <td>40131</td>\n",
       "      <td>POINT (-73.66995 45.5557)</td>\n",
       "    </tr>\n",
       "    <tr>\n",
       "      <th>...</th>\n",
       "      <td>...</td>\n",
       "      <td>...</td>\n",
       "      <td>...</td>\n",
       "      <td>...</td>\n",
       "    </tr>\n",
       "    <tr>\n",
       "      <th>node_4883</th>\n",
       "      <td>JUIN19CP47120-JUIN1920E_0-55</td>\n",
       "      <td>Métro Cartier [47120]</td>\n",
       "      <td>47120</td>\n",
       "      <td>POINT (-73.68288 45.56015)</td>\n",
       "    </tr>\n",
       "    <tr>\n",
       "      <th>node_4884</th>\n",
       "      <td>JUIN19CP48133-JUIN1933N_0-52</td>\n",
       "      <td>Métro Montmorency [48133]</td>\n",
       "      <td>48133</td>\n",
       "      <td>POINT (-73.72084 45.55821)</td>\n",
       "    </tr>\n",
       "    <tr>\n",
       "      <th>node_4885</th>\n",
       "      <td>JUIN19CP49027-JUIN1927N_0-58</td>\n",
       "      <td>Gare Vimont [49027]</td>\n",
       "      <td>49027</td>\n",
       "      <td>POINT (-73.74275 45.60454)</td>\n",
       "    </tr>\n",
       "    <tr>\n",
       "      <th>node_4886</th>\n",
       "      <td>JUIN19CP49040-JUIN1940O_0-37</td>\n",
       "      <td>Montgolfier / Notre-Dame [49040]</td>\n",
       "      <td>49040</td>\n",
       "      <td>POINT (-73.78088 45.5326)</td>\n",
       "    </tr>\n",
       "    <tr>\n",
       "      <th>node_4887</th>\n",
       "      <td>JUIN19CP49063-JUIN1963N_0-72</td>\n",
       "      <td>Gare Sainte-Rose [49063]</td>\n",
       "      <td>49063</td>\n",
       "      <td>POINT (-73.76627 45.62534)</td>\n",
       "    </tr>\n",
       "  </tbody>\n",
       "</table>\n",
       "<p>4888 rows × 4 columns</p>\n",
       "</div>"
      ],
      "text/plain": [
       "                                stop_id  \\\n",
       "node_0                    JUIN19CP40002   \n",
       "node_1                    JUIN19CP40031   \n",
       "node_2                    JUIN19CP40052   \n",
       "node_3                    JUIN19CP40055   \n",
       "node_4                    JUIN19CP40131   \n",
       "...                                 ...   \n",
       "node_4883  JUIN19CP47120-JUIN1920E_0-55   \n",
       "node_4884  JUIN19CP48133-JUIN1933N_0-52   \n",
       "node_4885  JUIN19CP49027-JUIN1927N_0-58   \n",
       "node_4886  JUIN19CP49040-JUIN1940O_0-37   \n",
       "node_4887  JUIN19CP49063-JUIN1963N_0-72   \n",
       "\n",
       "                                         stop_name stop_code  \\\n",
       "node_0     Terminus Henri-Bourassa Quai:4 [40002]      40002   \n",
       "node_1     Terminus Henri-Bourassa Quai:9 [40031]      40031   \n",
       "node_2     Terminus Henri-Bourassa Quai:9 [40052]      40052   \n",
       "node_3     Terminus Henri-Bourassa Quai:9 [40055]      40055   \n",
       "node_4            Terminus Henri-Bourassa [40131]      40131   \n",
       "...                                            ...       ...   \n",
       "node_4883                   Métro Cartier [47120]      47120   \n",
       "node_4884               Métro Montmorency [48133]      48133   \n",
       "node_4885                     Gare Vimont [49027]      49027   \n",
       "node_4886        Montgolfier / Notre-Dame [49040]      49040   \n",
       "node_4887                Gare Sainte-Rose [49063]      49063   \n",
       "\n",
       "                             geometry  \n",
       "node_0      POINT (-73.6672 45.55582)  \n",
       "node_1      POINT (-73.66996 45.5557)  \n",
       "node_2      POINT (-73.66996 45.5557)  \n",
       "node_3     POINT (-73.67096 45.55597)  \n",
       "node_4      POINT (-73.66995 45.5557)  \n",
       "...                               ...  \n",
       "node_4883  POINT (-73.68288 45.56015)  \n",
       "node_4884  POINT (-73.72084 45.55821)  \n",
       "node_4885  POINT (-73.74275 45.60454)  \n",
       "node_4886   POINT (-73.78088 45.5326)  \n",
       "node_4887  POINT (-73.76627 45.62534)  \n",
       "\n",
       "[4888 rows x 4 columns]"
      ]
     },
     "execution_count": 4,
     "metadata": {},
     "output_type": "execute_result"
    }
   ],
   "source": [
    "sm.nodes"
   ]
  },
  {
   "cell_type": "code",
   "execution_count": 5,
   "id": "349146aa",
   "metadata": {},
   "outputs": [],
   "source": [
    "pt_folder = argv['training_folder']+'/inputs/pt/'\n",
    "if not os.path.exists(pt_folder):\n",
    "    os.makedirs(pt_folder)"
   ]
  },
  {
   "cell_type": "code",
   "execution_count": 6,
   "id": "24e752cb",
   "metadata": {},
   "outputs": [],
   "source": [
    "\n",
    "sm.links.to_file(pt_folder+'links.geojson',driver='GeoJSON')\n",
    "sm.nodes.to_file(pt_folder+'nodes.geojson',driver='GeoJSON')"
   ]
  },
  {
   "cell_type": "code",
   "execution_count": null,
   "id": "4bc14558",
   "metadata": {},
   "outputs": [],
   "source": []
  }
 ],
 "metadata": {
  "kernelspec": {
   "display_name": "quetzal_3.12",
   "language": "python",
   "name": "quetzal_3.12"
  },
  "language_info": {
   "codemirror_mode": {
    "name": "ipython",
    "version": 3
   },
   "file_extension": ".py",
   "mimetype": "text/x-python",
   "name": "python",
   "nbconvert_exporter": "python",
   "pygments_lexer": "ipython3",
   "version": "3.12.2"
  }
 },
 "nbformat": 4,
 "nbformat_minor": 5
}
